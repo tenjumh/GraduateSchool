{
 "cells": [
  {
   "cell_type": "markdown",
   "metadata": {},
   "source": [
    "# SIFT : 크기불변 이미지 특성 검출 기법\n",
    "\n",
    "2004년 브리티시 콜롬비아 대학의 D.Lowe는 그의 논문인 'Distinctive Image Features from Scale-Invariant Keypoinsts'에서 이미지의 크기에 상관없이 이미지의 특징을 규정할 수 있는 SIFT라는 알고리즘을 발표\n",
    "\n",
    "SIFT가 수행하는 주요 알고리즘은 이미지에서 스케일 불변인 키포인트를 추출하고, 추출한 키포인트들의 descriptor를 계산\n",
    "\n",
    "SIFT 알고리즘에 포함된 주요 4단계 절차만 아주 간단하게 설명\n",
    "\n",
    "1. Scale-space Extrema Detection(스케일-공간 극값 검출)\n",
    "\n",
    "가우시안 함수를 각 축의 방향으로 편미분한, 다시 말하면 가우시안 필터 후 라플라시안(Laplacian of Gaussian: LoG) 필터를 적용하면 이미지에서 다양한 크기의 방울 모양의 이미지를 검출합니다.\n",
    "\n",
    "그런데 LoG는 다소 시간이 소요되기 때문에 SIFT 알고리즘에서는 하나의 이미지에 서로 다른 필터를 적용한 가우시안 피라미드 이미지의 차(Difference of Gaussian: DoG)를 이용합니다.\n",
    "\n",
    "DoG를 찾으면 이미지에서 스케일-공간 좌표상 극값을 찾습니다. 만약 극값이 있으면 이를 잠재적 키포인트(Potential Keypoint)라 합니다.\n",
    "\n",
    "2. Keypoint Localization(키포인트 지역화)\n",
    "\n",
    "이미지에서 잠재적 키포인트들의 위치를 모두 찾았으면 보다 정확한 결과를 위해 잠재적 키포인트들의 정제과정을 거쳐 키포인트들을 추출합니다. 정제과정은 테일러 전개를 이용하여 수행합니다.\n",
    "\n",
    "3. Orientation Assignment(방향 할당하기)\n",
    "\n",
    "최종적으로 추출된 키포인트들에 방향성-불변이 되도록 방향을 할당합니다. 즉, 이미지가 확대되거나 회전되더라도 추출된 키포인트들은 이미지의 특징을 고스란히 보존하게 됩니다.\n",
    "\n",
    "4. Keypoint Descriptor(키포인트 디스크립터 계산하기)\n",
    "\n",
    "키포인트를 이용하여 키포인트 디스크립터를 계산합니다. 키포인트 디스크립터는 이미지 히스트로램을 활용하여 표현합니다. 이 외에 조명의 변화나 회전 등에도 키포인트들이 특징을 보존하기 위한 몇가지 측정값을 추가합니다.\n",
    "\n",
    "5. Keypoint Matching(키포인트 매칭)\n",
    "\n",
    "두 개의 이미지에서 키포인트들을 매칭하여 동일한 이미지 추출이나 이미지 검색 등에 활용합니다.\n",
    "\n",
    "SIFT를 위해 OpenCV에서 제공하는 함수는 다음과 같은 것들이 있습니다.\n",
    "\n",
    "cv2.xfeatures2d.SIFT_create() 객체 : SIFT의 키포인트, 디스크립터들을 계산하는 함수를 제공합니다.<br>\n",
    "detect(grayimg) : grayimg에서 키포인트를 검출하여 리턴합니다.<br>\n",
    "compute(keypoints) : keypoints에서 디스크립터를 계산한 후 키포인트와 디스크립터를 리턴합니다.<br>\n",
    "detectAndCompute(grayimg) : grayimg에서 키포인트와 디스크립터를 한번에 계산하고 리턴합니다.<br>\n",
    "cv2.drawKeypoints(grayimg, keypoints, outimg) : grayimg에 키포인트들을 outimg에 표시합니다.<br>\n",
    "\n",
    "SIFT는 특허에 등록된 알고리즘입니다. 따라서 OpenCV의 무료버전에는 SIFT의 모든 알고리즘이 탑재되어 있지 않습니다. OpenCV 3.0 이상 버전에서는 OpenCV contrib 버전을 반드시 설치하기 바랍니다.\n",
    "\n",
    "다음 opencv버전에서 함(특정 버전 이상에서는 안되는 것 같음)\n",
    "pip install opencv-python==3.3.0.10 opencv-contrib-python==3.3.0.10"
   ]
  },
  {
   "cell_type": "code",
   "execution_count": null,
   "metadata": {},
   "outputs": [],
   "source": [
    "#pip install opencv-python==3.3.0.10 opencv-contrib-python==3.3.0.10\n",
    "\n",
    "import numpy as np\n",
    "import cv2\n",
    "\n",
    "def SIFT():\n",
    "    img = cv2.imread('C:/Users/fxk/PycharmProjects/tenjumh/Computer Vision/Epipolar Geometry_191110/butterfly.png')\n",
    "    imgray = cv2.cvtColor(img, cv2.COLOR_BGR2GRAY)\n",
    "    img2, img3 = None, None\n",
    "    \n",
    "    sift = cv2.xfeatures2d.SIFT_create()   #SIFT 객체 생성\n",
    "    kp = sift.detect(imgray, None)    #키포인트 계산 추출\n",
    "    \n",
    "    img2 = cv2.drawKeypoints(imgray, kp, img2)  #키포인트의 위치를 원 표시\n",
    "    img3 = cv2.drawKeypoints(imgray, kp, img3, flags = cv2.DRAW_MATCHES_FLAGS_DRAW_RICH_KEYPOINTS) #키포인트 detection and description\n",
    "    cv2.imshow('SIFT1', img2)\n",
    "    cv2.imshow('SIFR2', img3)\n",
    "    cv2.waitKey(0)\n",
    "    cv2.destroyAllWindows()\n",
    "\n",
    "SIFT()"
   ]
  },
  {
   "cell_type": "markdown",
   "metadata": {},
   "source": [
    "img2는 keypoint detection 즉, 키포인트를 표시<br>\n",
    "img3는 keypoint description 즉, 키포인트 검출뿐 아니라 크기와 방향성을 표시 "
   ]
  }
 ],
 "metadata": {
  "kernelspec": {
   "display_name": "Python 3",
   "language": "python",
   "name": "python3"
  },
  "language_info": {
   "codemirror_mode": {
    "name": "ipython",
    "version": 3
   },
   "file_extension": ".py",
   "mimetype": "text/x-python",
   "name": "python",
   "nbconvert_exporter": "python",
   "pygments_lexer": "ipython3",
   "version": "3.6.9"
  }
 },
 "nbformat": 4,
 "nbformat_minor": 2
}
