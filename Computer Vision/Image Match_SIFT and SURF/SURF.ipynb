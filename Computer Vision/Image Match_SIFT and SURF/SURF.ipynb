{
 "cells": [
  {
   "cell_type": "markdown",
   "metadata": {},
   "source": [
    "# SURF : SIFT의 성능 향상 버전\n",
    "\n",
    "SIFT는 이미지 특징을 찾아내는 훌륭한 알고리즘이지만 상대적으로 성능이 좋지 않아, SURF 라는 새로운 알고리즘을 개발하게 됩니다.\n",
    "\n",
    "\n",
    "\n",
    "38편에서 설명한 SIFT는 가우시안의 차로 LoG를 근사하는 방법을 사용했지만 SURF는 박스필터(Box Filter)로 LoG를 근사하는 방법을 사용합니다.\n",
    "\n",
    "\n",
    "\n",
    "SURF는 키포인트와 디스크립터를 계산하는 각 단계에서 처리 속도를 향상시키기 위해 특징적인 요소들을 많이 추가했습니다. SURF는 SIFT에 비해 약 3배 이상 속도가 빠르다고 알려져 있습니다.\n",
    "\n",
    "\n",
    "\n",
    "SURF는 블러 이미지나 회전된 이미지의 경우 이미지의 특징을 제대로 잡아내지만 뷰포인트가 바뀌어 있거나 조명이 달라진 상태에서는 이미지 특징을 제대로 검출하지 못합니다. \n",
    "\n",
    "\n",
    "\n",
    "이말이 무슨 의미이냐 하면,\n",
    "\n",
    "두 장의 이미지가 있을 때 다른 한장이 원래 이미지를 블러처리 했거나 회전시켰더라도 두 장의 이미지 특징을 동일하게 검출하지만, \n",
    "\n",
    "다른 한장이 원래 이미지의 뷰포인트가 변경되었거나 조명 상태를 바꾼 이미지라면 두 장의 이미지 특징을 다르게 검출한다는 이야기입니다.\n",
    "\n",
    "\n",
    "\n",
    "자세한 내용은 수학식이 포함되어 있는 논문의 내용이라 이 포스팅의 범위를 넘기 때문에 바로 코드로 들어갑니다.\n",
    "\n",
    "\n",
    "\n",
    "OpenCV는 SURF 처리를 위한 cv2.features2d.SURF_create()라는 함수를 제공하고 있습니다."
   ]
  },
  {
   "cell_type": "code",
   "execution_count": 3,
   "metadata": {},
   "outputs": [],
   "source": [
    "#pip install opencv-python==3.3.0.10 opencv-contrib-python==3.3.0.10\n",
    "\n",
    "import numpy as np\n",
    "import cv2\n",
    "\n",
    "def SURF():\n",
    "    img = cv2.imread('C:/Users/fxk/PycharmProjects/tenjumh/Computer Vision/Epipolar Geometry_191110/butterfly.png')\n",
    "    imgray = cv2.cvtColor(img, cv2.COLOR_BGR2GRAY)\n",
    "    img2, img3 = None, None\n",
    "    \n",
    "    surf = cv2.xfeatures2d.SURF_create()   #SURF 객체 생성\n",
    "    surf.setHessianThreshold(10000)   #지정 값에 따라 검출 키포인트 개수 변화\n",
    "                                      #값이 작아지면 키포인트 개수 증가\n",
    "    \n",
    "    kp, des = surf.detectAndCompute(img, None)\n",
    "    img2 = cv2.drawKeypoints(imgray, kp, img2, (255, 0, 0), 4)\n",
    "    \n",
    "    cv2.imshow('SURF', img2)\n",
    "    cv2.waitKey(0)\n",
    "    cv2.destroyAllWindows()\n",
    "\n",
    "SURF()"
   ]
  },
  {
   "cell_type": "markdown",
   "metadata": {},
   "source": [
    "img2는 keypoint description 즉, 키포인트 검출뿐 아니라 크기와 방향성을 표시 원안의 선의 방향이 방향임."
   ]
  }
 ],
 "metadata": {
  "kernelspec": {
   "display_name": "Python 3",
   "language": "python",
   "name": "python3"
  },
  "language_info": {
   "codemirror_mode": {
    "name": "ipython",
    "version": 3
   },
   "file_extension": ".py",
   "mimetype": "text/x-python",
   "name": "python",
   "nbconvert_exporter": "python",
   "pygments_lexer": "ipython3",
   "version": "3.6.9"
  }
 },
 "nbformat": 4,
 "nbformat_minor": 2
}
