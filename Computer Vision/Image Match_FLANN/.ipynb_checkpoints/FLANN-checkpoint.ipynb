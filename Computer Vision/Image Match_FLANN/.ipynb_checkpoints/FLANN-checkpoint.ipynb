{
 "cells": [
  {
   "cell_type": "markdown",
   "metadata": {},
   "source": [
    "# FLANN\n",
    "- 이미지 특성 매칭\n",
    "- 2개의 이미지에서 매칭 부분을 찾아줌\n",
    "- FLANN은 Fast Library for Approximate Nearest Neighbors의 약자로 큰 이미지에서 특성을 매칭할 때 성능을 최적화하는 라이브러리\n",
    "- 큰 이미지에 대해 빠르게 동작"
   ]
  },
  {
   "cell_type": "code",
   "execution_count": 11,
   "metadata": {},
   "outputs": [],
   "source": [
    "#pip install opencv-python==3.3.0.10 opencv-contrib-python==3.3.0.10 --  cv2.xfeatures2d.SIFT를 실행하기 위해\n",
    "\n",
    "import numpy as np\n",
    "import cv2\n",
    "\n",
    "def FLANN(factor):\n",
    "    img1 = cv2.imread('C:/Users/fxk/PycharmProjects/tenjumh/Computer Vision/FLANN/tmp2.png')#, cv2.IMREAD_GRAYSCALE)\n",
    "    img2 = cv2.imread('C:/Users/fxk/PycharmProjects/tenjumh/Computer Vision/FLANN/tmp.png')#, cv2.IMREAD_GRAYSCALE)\n",
    "    res = None\n",
    "    \n",
    "    sift = cv2.xfeatures2d.SIFT_create()\n",
    "    kp1, des1 = sift.detectAndCompute(img1, None)  #키포인트를 찾아내고 표시\n",
    "    kp2, des2 = sift.detectAndCompute(img2, None)\n",
    "    \n",
    "    #FLANN 기반 매칭을 위해 두 개의 사전 자료형 인자필요(indexParams, searchParams)\n",
    "    FLANN_INDEX_KDTREE = 0\n",
    "    index_params = dict(algorithm = FLANN_INDEX_KDTREE, trees = 5)   #SIFT, SURF를 활용할 때 구성(ORB??일 때는 다름)\n",
    "    search_params = dict(checks = 50)  #특성 매칭을 위한 반복 회수, 값이 커지면 정확한 결과 but 속도가 느림\n",
    "    \n",
    "    flann = cv2.FlannBasedMatcher(index_params, search_params)  #FLANN인자 생성\n",
    "    matches = flann.knnMatch(des1, des2, k = 2)   #KNN 매칭 수행(k 설정 순위만큼 매칭 결과까지 리턴)\n",
    "    \n",
    "    # 각 멤버에서 1순위 매칭 결과가 2순위 매칭 결과의 factor로 주어진 비율보다 더 가까운 값만 취함.\n",
    "    # factor = 0.7이므로 1순위 매칭 결과가 2순위 매칭 결과의 0.7배보다 더 가까운 값만 취함\n",
    "    good = []\n",
    "    for m, n in matches:\n",
    "        if m.distance < factor*n.distance:\n",
    "            good.append(m)\n",
    "    \n",
    "    res = cv2.drawMatches(img1, kp1, img2, kp2, good, res, flags = 2)\n",
    "    \n",
    "    cv2.imshow('res', res)\n",
    "    cv2.waitKey(0)\n",
    "    cv2.destroyAllWindows()\n",
    "\n",
    "FLANN(0.7)"
   ]
  }
 ],
 "metadata": {
  "kernelspec": {
   "display_name": "Python 3",
   "language": "python",
   "name": "python3"
  },
  "language_info": {
   "codemirror_mode": {
    "name": "ipython",
    "version": 3
   },
   "file_extension": ".py",
   "mimetype": "text/x-python",
   "name": "python",
   "nbconvert_exporter": "python",
   "pygments_lexer": "ipython3",
   "version": "3.6.9"
  }
 },
 "nbformat": 4,
 "nbformat_minor": 2
}
