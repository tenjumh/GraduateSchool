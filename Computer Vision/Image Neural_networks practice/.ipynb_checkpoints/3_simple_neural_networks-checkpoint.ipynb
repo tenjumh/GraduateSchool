{
 "cells": [
  {
   "cell_type": "markdown",
   "metadata": {
    "colab_type": "text",
    "id": "--7kRdNc3g1C"
   },
   "source": [
    "### Introducing Keras\n",
    "\n",
    "We will introduce [Keras](http://keras.io/), a high-level library for machine learning which we will use for the rest of the class. Keras is built on top of [Tensorflow](https://tensorflow.org/), which is an open-source framework which impelments machine learning methodology, particularly that of deep neural networks, by optimizing the efficiency of the computation. We do not have to deal so much with the details of this. For our purposes, Tensorflow is also a very low-level library which is not necessarily accessible to the typical engineer. Keras solves this by creating a wrapper around Tensorflow, reducing the complexity of coding neural networks, and giving us a set of convenient functions which implement lots of reusable routines. Most importantly, Keras (via Tensorflow) efficiently implement backpropagation to train neural networks on the GPU. Effectively, you could say that Keras is to Tensorflow what Processing is to Java.\n",
    "\n",
    "Start by importing the relevant Keras libraries that we will be using, as well as matplotlib and numpy."
   ]
  },
  {
   "cell_type": "code",
   "execution_count": 1,
   "metadata": {
    "colab": {},
    "colab_type": "code",
    "id": "TAWw9rel3g1E"
   },
   "outputs": [
    {
     "ename": "ModuleNotFoundError",
     "evalue": "No module named 'keras'",
     "output_type": "error",
     "traceback": [
      "\u001b[1;31m---------------------------------------------------------------\u001b[0m",
      "\u001b[1;31mModuleNotFoundError\u001b[0m           Traceback (most recent call last)",
      "\u001b[1;32m<ipython-input-1-3e1aed44f3da>\u001b[0m in \u001b[0;36m<module>\u001b[1;34m\u001b[0m\n\u001b[0;32m      5\u001b[0m \u001b[1;32mimport\u001b[0m \u001b[0mrandom\u001b[0m\u001b[1;33m\u001b[0m\u001b[1;33m\u001b[0m\u001b[0m\n\u001b[0;32m      6\u001b[0m \u001b[1;33m\u001b[0m\u001b[0m\n\u001b[1;32m----> 7\u001b[1;33m \u001b[1;32mimport\u001b[0m \u001b[0mkeras\u001b[0m\u001b[1;33m\u001b[0m\u001b[1;33m\u001b[0m\u001b[0m\n\u001b[0m\u001b[0;32m      8\u001b[0m \u001b[1;32mfrom\u001b[0m \u001b[0mkeras\u001b[0m\u001b[1;33m.\u001b[0m\u001b[0mmodels\u001b[0m \u001b[1;32mimport\u001b[0m \u001b[0mSequential\u001b[0m\u001b[1;33m\u001b[0m\u001b[1;33m\u001b[0m\u001b[0m\n\u001b[0;32m      9\u001b[0m \u001b[1;32mfrom\u001b[0m \u001b[0mkeras\u001b[0m\u001b[1;33m.\u001b[0m\u001b[0mlayers\u001b[0m \u001b[1;32mimport\u001b[0m \u001b[0mDense\u001b[0m\u001b[1;33m,\u001b[0m \u001b[0mDropout\u001b[0m\u001b[1;33m\u001b[0m\u001b[1;33m\u001b[0m\u001b[0m\n",
      "\u001b[1;31mModuleNotFoundError\u001b[0m: No module named 'keras'"
     ]
    }
   ],
   "source": [
    "import os\n",
    "%matplotlib inline\n",
    "import matplotlib.pyplot as plt\n",
    "import numpy as np\n",
    "import random\n",
    "\n",
    "import keras\n",
    "from keras.models import Sequential\n",
    "from keras.layers import Dense, Dropout"
   ]
  },
  {
   "cell_type": "markdown",
   "metadata": {
    "colab_type": "text",
    "id": "XOFerCCt3g1G"
   },
   "source": [
    "Let's load the Iris dataset again."
   ]
  },
  {
   "cell_type": "code",
   "execution_count": 0,
   "metadata": {
    "colab": {},
    "colab_type": "code",
    "id": "0B7QPmQa3g1H"
   },
   "outputs": [],
   "source": [
    "from sklearn.datasets import load_iris\n",
    "\n",
    "iris = load_iris()\n",
    "data, labels = iris.data[:,0:3], iris.data[:,3]"
   ]
  },
  {
   "cell_type": "markdown",
   "metadata": {
    "colab_type": "text",
    "id": "Js1nqPqI3g1K"
   },
   "source": [
    "In the last lesson, we manually trained a neural network to predict the sepal width of the Iris flowers. Let's use the Keras library. First we need to shuffle and pre-process the data. Pre-processing is normalization of the data, as well as converting it to a properly-shaped numpy array."
   ]
  },
  {
   "cell_type": "code",
   "execution_count": 18,
   "metadata": {
    "colab": {
     "base_uri": "https://localhost:8080/",
     "height": 176
    },
    "colab_type": "code",
    "id": "y8sQ1iTc3g1K",
    "outputId": "05c2d772-40c6-4678-b1a0-65aa7e3e2fc0"
   },
   "outputs": [
    {
     "name": "stdout",
     "output_type": "stream",
     "text": [
      "shape of X (150, 3)\n",
      "first 5 rows of X\n",
      " [[0.7848101  0.5        0.65217394]\n",
      " [0.8101266  0.72727275 0.76811594]\n",
      " [0.73417723 0.59090906 0.5797101 ]\n",
      " [0.62025315 0.5681818  0.65217394]\n",
      " [0.8101266  0.72727275 0.65217394]]\n",
      "first 5 labels\n",
      " [0.6  0.92 0.48 0.68 0.6 ]\n"
     ]
    }
   ],
   "source": [
    "num_samples = len(labels)  # size of our dataset\n",
    "shuffle_order = np.random.permutation(num_samples)\n",
    "data = data[shuffle_order, :]\n",
    "labels = labels[shuffle_order]\n",
    "\n",
    "# normalize data and labels to between 0 and 1 and make sure it's float32\n",
    "data = data / np.amax(data, axis=0)\n",
    "data = data.astype('float32')\n",
    "labels = labels / np.amax(labels, axis=0)\n",
    "labels = labels.astype('float32')\n",
    "\n",
    "# print out the data\n",
    "print(\"shape of X\", data.shape)\n",
    "print(\"first 5 rows of X\\n\", data[0:5, :])\n",
    "print(\"first 5 labels\\n\", labels[0:5])"
   ]
  },
  {
   "cell_type": "markdown",
   "metadata": {
    "colab_type": "text",
    "id": "DwbYBSI83g1N"
   },
   "source": [
    "### Overfitting and validation\n",
    "\n",
    "If we evaluate the performance of the network on the same data that we trained it on, it is wrong; our network could learn to \"cheat\" by overfitting to the training data (like memorizing it) so as to get a high score, but then not generalize well to actually unknown examples.\n",
    "\n",
    "In machine learning, this is called \"overfitting\" and there are several things we have to do to avoid it. The first thing is we must split our dataset into a \"training set\" which we train on with gradient descent, and a \"test set\" which is hidden from the training process that we can do a final evaluation on to get the true accuracy, that of the network trying to predict unknown samples.\n",
    "\n",
    "Let's split the data into a training set and a test set. We'll keep the first 30% of the dataset to use as a test set, and use the rest for training."
   ]
  },
  {
   "cell_type": "code",
   "execution_count": 19,
   "metadata": {
    "colab": {
     "base_uri": "https://localhost:8080/",
     "height": 35
    },
    "colab_type": "code",
    "id": "wFQ8p7T23g1O",
    "outputId": "941fd8a0-7ca3-4b4d-dcf9-11fbf2bf9170"
   },
   "outputs": [
    {
     "name": "stdout",
     "output_type": "stream",
     "text": [
      "105 training samples, 45 test samples\n"
     ]
    }
   ],
   "source": [
    "# let's rename the data and labels to X, y\n",
    "X, y = data, labels\n",
    "\n",
    "test_split = 0.3  # percent split\n",
    "\n",
    "n_test = int(test_split * num_samples)\n",
    "\n",
    "x_train, x_test = X[n_test:, :], X[:n_test, :] \n",
    "y_train, y_test = y[n_test:], y[:n_test] \n",
    "\n",
    "print('%d training samples, %d test samples' % (x_train.shape[0], x_test.shape[0]))"
   ]
  },
  {
   "cell_type": "markdown",
   "metadata": {
    "colab_type": "text",
    "id": "YJHjB9-L3g1Q"
   },
   "source": [
    "In Keras, to instantiate a neural network model, we use the `Sequential` class. Sequential simply means a model with a sequence of layers which propagate in one direction, from input to output. "
   ]
  },
  {
   "cell_type": "code",
   "execution_count": 0,
   "metadata": {
    "colab": {},
    "colab_type": "code",
    "id": "l7FLN6R63g1R"
   },
   "outputs": [],
   "source": [
    "model = Sequential()"
   ]
  },
  {
   "cell_type": "markdown",
   "metadata": {
    "colab_type": "text",
    "id": "ByJ05NOU3g1T"
   },
   "source": [
    "We now have an empty neural network called `model`. Now let's add our first layer, which will be our input layer. We will do this using Keras's `Dense` class which will instantiate our input layer.\n",
    "\n",
    "The reason why it is called \"Dense\" is that the layer is \"fully-connected,\" which means that all of it's neurons are connected to all the neurons in the previous layer, with no empty connections. This may seem confusing at first because we have not yet seen neural network layers which are not fully-connected; we will see this in the next chapter when we introduce convolutional networks. \n",
    "\n",
    "To create a Dense layer, we have two arguments that need to be specified: the number of neurons and the activation function (which non-linearity, if any). For the first layer, we must also specify the input dimension."
   ]
  },
  {
   "cell_type": "code",
   "execution_count": 0,
   "metadata": {
    "colab": {},
    "colab_type": "code",
    "id": "OMh41MEs3g1T"
   },
   "outputs": [],
   "source": [
    "model.add(Dense(8, activation='sigmoid', input_dim=3))"
   ]
  },
  {
   "cell_type": "markdown",
   "metadata": {
    "colab_type": "text",
    "id": "XP0gru033g1V"
   },
   "source": [
    "We can also get a readout of the current state of the network using `model.summary`:"
   ]
  },
  {
   "cell_type": "code",
   "execution_count": 22,
   "metadata": {
    "colab": {
     "base_uri": "https://localhost:8080/",
     "height": 194
    },
    "colab_type": "code",
    "id": "aH9Vng5A3g1W",
    "outputId": "6e697371-2e72-4db1-fbd3-f79ca2139261"
   },
   "outputs": [
    {
     "name": "stdout",
     "output_type": "stream",
     "text": [
      "Model: \"sequential_2\"\n",
      "_________________________________________________________________\n",
      "Layer (type)                 Output Shape              Param #   \n",
      "=================================================================\n",
      "dense_3 (Dense)              (None, 8)                 32        \n",
      "=================================================================\n",
      "Total params: 32\n",
      "Trainable params: 32\n",
      "Non-trainable params: 0\n",
      "_________________________________________________________________\n"
     ]
    }
   ],
   "source": [
    "model.summary()"
   ]
  },
  {
   "cell_type": "markdown",
   "metadata": {
    "colab_type": "text",
    "id": "Shn4hakX3g1Y"
   },
   "source": [
    "Our network currently has one layer with 32 parameters: that's 3 neurons in the input layer, times 8 neurons in the middle layer (3x8=24), plus 8 biases (24+8=32).\n",
    "\n",
    "Next, we will add the output layer, which will be a fully-connected (Dense) layer whose size is 1 neuron. This neuron will contain our final output.\n",
    "\n",
    "Notice that instead of having the activation be a sigmoid as before, we leave it as a \"linear\" activation (no non-linearity). This is common for the final output.\n",
    "\n",
    "We add it, and look at the final summary."
   ]
  },
  {
   "cell_type": "code",
   "execution_count": 23,
   "metadata": {
    "colab": {
     "base_uri": "https://localhost:8080/",
     "height": 230
    },
    "colab_type": "code",
    "id": "EiEysa8U3g1Y",
    "outputId": "b9aa8f76-a58d-4ed5-a1b0-52695f11f89c"
   },
   "outputs": [
    {
     "name": "stdout",
     "output_type": "stream",
     "text": [
      "Model: \"sequential_2\"\n",
      "_________________________________________________________________\n",
      "Layer (type)                 Output Shape              Param #   \n",
      "=================================================================\n",
      "dense_3 (Dense)              (None, 8)                 32        \n",
      "_________________________________________________________________\n",
      "dense_4 (Dense)              (None, 1)                 9         \n",
      "=================================================================\n",
      "Total params: 41\n",
      "Trainable params: 41\n",
      "Non-trainable params: 0\n",
      "_________________________________________________________________\n"
     ]
    }
   ],
   "source": [
    "model.add(Dense(1, activation='linear'))\n",
    "model.summary()"
   ]
  },
  {
   "cell_type": "markdown",
   "metadata": {
    "colab_type": "text",
    "id": "qktjzJg63g1a"
   },
   "source": [
    "So we've added 9 parameters, 8x1 weights between the hidden and output layers, and 1 bias in the output. So we have 41 parameters in total."
   ]
  },
  {
   "cell_type": "markdown",
   "metadata": {
    "colab_type": "text",
    "id": "1EWAepcf3g1b"
   },
   "source": [
    "Now we are finished specifying the architecture of the model. Now we need to specify our loss function and optimizer, and then compile the model. Let's discuss each of these things.\n",
    "\n",
    "First, we specify the loss. The standard for regression, as we said before is sum-squared error (SSE) or mean-squared error (MSE). SSE and MSE are basically the same, since the only difference between them is a scaling factor ($\\frac{1}{n}$) which doesn't depend on the final weights. Keras happens to use MSE for evaluation rather than SEE, so we will use that.\n",
    "\n",
    "The optimizer is the flavor of gradient descent we want. The most basic optimizer is \"stochastic gradient descent\" or SGD which is the learning algorithm we have used so far. We have mostly used batch gradient descent so far, which means we compute our gradient over the entire dataset. For reasons which will be more clear when we cover learning algorithms in more detail, this is not usually favored, and we instead calculate the gradient over random subsets of the training data, called mini-batches.\n",
    "\n",
    "Once we've specified our loss function and optimizer, the model is compiled. Compiling means that Keras (actually Tensorflow internally) is allocating memory for a \"computational graph\" whose architecture is that which is specified by your model definition. This is done for optimization purposes, and a full understanding of how that's done is not necessary for this course and is beyond its scope."
   ]
  },
  {
   "cell_type": "code",
   "execution_count": 0,
   "metadata": {
    "colab": {},
    "colab_type": "code",
    "id": "mah397Ri3g1c"
   },
   "outputs": [],
   "source": [
    "model.compile(loss='mean_squared_error', optimizer='sgd')"
   ]
  },
  {
   "cell_type": "markdown",
   "metadata": {
    "colab_type": "text",
    "id": "zBmKq0963g1e"
   },
   "source": [
    "We are finally ready to train. In the next cell, we run the `fit` command which will begin the process of training. There are several important arguments to `fit`. The first is the training data and labels (`x_train` and `y_train`), as well as the validation set (`x_test` and `y_test`). \n",
    "\n",
    "Additionally, we must specify the `batch_size` which refers to the number of training samples to calculate the gradient over (using SGD), as well as the number of `epochs`, which refers to the number of times we cycle through the training set. In general, more epochs are usually better, although in practice, the accuracy of the network may stop improving early, which makes it unnecessary to train for too many epochs.\n",
    "\n",
    "Because we have a very small dataset (just 105 samples), we should have a low batch size and can afford to train over many epochs (let's set to 200)."
   ]
  },
  {
   "cell_type": "code",
   "execution_count": 25,
   "metadata": {
    "colab": {
     "base_uri": "https://localhost:8080/",
     "height": 1000
    },
    "colab_type": "code",
    "id": "_R5lgBIX3g1e",
    "outputId": "e14b9644-4457-482c-8111-d56517ab99ca"
   },
   "outputs": [
    {
     "name": "stdout",
     "output_type": "stream",
     "text": [
      "Train on 105 samples, validate on 45 samples\n",
      "Epoch 1/200\n",
      "105/105 [==============================] - 0s 2ms/step - loss: 0.0642 - val_loss: 0.0450\n",
      "Epoch 2/200\n",
      "105/105 [==============================] - 0s 817us/step - loss: 0.0620 - val_loss: 0.0453\n",
      "Epoch 3/200\n",
      "105/105 [==============================] - 0s 797us/step - loss: 0.0612 - val_loss: 0.0435\n",
      "Epoch 4/200\n",
      "105/105 [==============================] - 0s 863us/step - loss: 0.0597 - val_loss: 0.0462\n",
      "Epoch 5/200\n",
      "105/105 [==============================] - 0s 845us/step - loss: 0.0591 - val_loss: 0.0427\n",
      "Epoch 6/200\n",
      "105/105 [==============================] - 0s 919us/step - loss: 0.0582 - val_loss: 0.0437\n",
      "Epoch 7/200\n",
      "105/105 [==============================] - 0s 974us/step - loss: 0.0569 - val_loss: 0.0415\n",
      "Epoch 8/200\n",
      "105/105 [==============================] - 0s 959us/step - loss: 0.0563 - val_loss: 0.0420\n",
      "Epoch 9/200\n",
      "105/105 [==============================] - 0s 1ms/step - loss: 0.0549 - val_loss: 0.0396\n",
      "Epoch 10/200\n",
      "105/105 [==============================] - 0s 898us/step - loss: 0.0537 - val_loss: 0.0389\n",
      "Epoch 11/200\n",
      "105/105 [==============================] - 0s 893us/step - loss: 0.0527 - val_loss: 0.0375\n",
      "Epoch 12/200\n",
      "105/105 [==============================] - 0s 935us/step - loss: 0.0520 - val_loss: 0.0371\n",
      "Epoch 13/200\n",
      "105/105 [==============================] - 0s 924us/step - loss: 0.0503 - val_loss: 0.0368\n",
      "Epoch 14/200\n",
      "105/105 [==============================] - 0s 890us/step - loss: 0.0499 - val_loss: 0.0349\n",
      "Epoch 15/200\n",
      "105/105 [==============================] - 0s 902us/step - loss: 0.0490 - val_loss: 0.0371\n",
      "Epoch 16/200\n",
      "105/105 [==============================] - 0s 803us/step - loss: 0.0481 - val_loss: 0.0359\n",
      "Epoch 17/200\n",
      "105/105 [==============================] - 0s 828us/step - loss: 0.0473 - val_loss: 0.0333\n",
      "Epoch 18/200\n",
      "105/105 [==============================] - 0s 886us/step - loss: 0.0461 - val_loss: 0.0320\n",
      "Epoch 19/200\n",
      "105/105 [==============================] - 0s 983us/step - loss: 0.0452 - val_loss: 0.0320\n",
      "Epoch 20/200\n",
      "105/105 [==============================] - 0s 895us/step - loss: 0.0440 - val_loss: 0.0311\n",
      "Epoch 21/200\n",
      "105/105 [==============================] - 0s 936us/step - loss: 0.0434 - val_loss: 0.0301\n",
      "Epoch 22/200\n",
      "105/105 [==============================] - 0s 935us/step - loss: 0.0427 - val_loss: 0.0296\n",
      "Epoch 23/200\n",
      "105/105 [==============================] - 0s 902us/step - loss: 0.0414 - val_loss: 0.0326\n",
      "Epoch 24/200\n",
      "105/105 [==============================] - 0s 840us/step - loss: 0.0412 - val_loss: 0.0289\n",
      "Epoch 25/200\n",
      "105/105 [==============================] - 0s 1ms/step - loss: 0.0398 - val_loss: 0.0297\n",
      "Epoch 26/200\n",
      "105/105 [==============================] - 0s 920us/step - loss: 0.0391 - val_loss: 0.0274\n",
      "Epoch 27/200\n",
      "105/105 [==============================] - 0s 912us/step - loss: 0.0384 - val_loss: 0.0275\n",
      "Epoch 28/200\n",
      "105/105 [==============================] - 0s 1ms/step - loss: 0.0376 - val_loss: 0.0273\n",
      "Epoch 29/200\n",
      "105/105 [==============================] - 0s 915us/step - loss: 0.0369 - val_loss: 0.0271\n",
      "Epoch 30/200\n",
      "105/105 [==============================] - 0s 873us/step - loss: 0.0364 - val_loss: 0.0254\n",
      "Epoch 31/200\n",
      "105/105 [==============================] - 0s 820us/step - loss: 0.0358 - val_loss: 0.0256\n",
      "Epoch 32/200\n",
      "105/105 [==============================] - 0s 947us/step - loss: 0.0347 - val_loss: 0.0255\n",
      "Epoch 33/200\n",
      "105/105 [==============================] - 0s 877us/step - loss: 0.0337 - val_loss: 0.0278\n",
      "Epoch 34/200\n",
      "105/105 [==============================] - 0s 889us/step - loss: 0.0334 - val_loss: 0.0234\n",
      "Epoch 35/200\n",
      "105/105 [==============================] - 0s 854us/step - loss: 0.0327 - val_loss: 0.0230\n",
      "Epoch 36/200\n",
      "105/105 [==============================] - 0s 892us/step - loss: 0.0320 - val_loss: 0.0225\n",
      "Epoch 37/200\n",
      "105/105 [==============================] - 0s 814us/step - loss: 0.0314 - val_loss: 0.0232\n",
      "Epoch 38/200\n",
      "105/105 [==============================] - 0s 814us/step - loss: 0.0307 - val_loss: 0.0231\n",
      "Epoch 39/200\n",
      "105/105 [==============================] - 0s 902us/step - loss: 0.0303 - val_loss: 0.0222\n",
      "Epoch 40/200\n",
      "105/105 [==============================] - 0s 986us/step - loss: 0.0292 - val_loss: 0.0204\n",
      "Epoch 41/200\n",
      "105/105 [==============================] - 0s 851us/step - loss: 0.0291 - val_loss: 0.0204\n",
      "Epoch 42/200\n",
      "105/105 [==============================] - 0s 876us/step - loss: 0.0283 - val_loss: 0.0198\n",
      "Epoch 43/200\n",
      "105/105 [==============================] - 0s 873us/step - loss: 0.0277 - val_loss: 0.0196\n",
      "Epoch 44/200\n",
      "105/105 [==============================] - 0s 1ms/step - loss: 0.0273 - val_loss: 0.0193\n",
      "Epoch 45/200\n",
      "105/105 [==============================] - 0s 926us/step - loss: 0.0269 - val_loss: 0.0197\n",
      "Epoch 46/200\n",
      "105/105 [==============================] - 0s 832us/step - loss: 0.0260 - val_loss: 0.0194\n",
      "Epoch 47/200\n",
      "105/105 [==============================] - 0s 813us/step - loss: 0.0259 - val_loss: 0.0188\n",
      "Epoch 48/200\n",
      "105/105 [==============================] - 0s 924us/step - loss: 0.0250 - val_loss: 0.0174\n",
      "Epoch 49/200\n",
      "105/105 [==============================] - 0s 992us/step - loss: 0.0245 - val_loss: 0.0174\n",
      "Epoch 50/200\n",
      "105/105 [==============================] - 0s 941us/step - loss: 0.0241 - val_loss: 0.0177\n",
      "Epoch 51/200\n",
      "105/105 [==============================] - 0s 858us/step - loss: 0.0236 - val_loss: 0.0189\n",
      "Epoch 52/200\n",
      "105/105 [==============================] - 0s 877us/step - loss: 0.0233 - val_loss: 0.0176\n",
      "Epoch 53/200\n",
      "105/105 [==============================] - 0s 887us/step - loss: 0.0226 - val_loss: 0.0167\n",
      "Epoch 54/200\n",
      "105/105 [==============================] - 0s 891us/step - loss: 0.0221 - val_loss: 0.0161\n",
      "Epoch 55/200\n",
      "105/105 [==============================] - 0s 864us/step - loss: 0.0218 - val_loss: 0.0152\n",
      "Epoch 56/200\n",
      "105/105 [==============================] - 0s 944us/step - loss: 0.0215 - val_loss: 0.0151\n",
      "Epoch 57/200\n",
      "105/105 [==============================] - 0s 898us/step - loss: 0.0209 - val_loss: 0.0144\n",
      "Epoch 58/200\n",
      "105/105 [==============================] - 0s 968us/step - loss: 0.0205 - val_loss: 0.0143\n",
      "Epoch 59/200\n",
      "105/105 [==============================] - 0s 894us/step - loss: 0.0202 - val_loss: 0.0140\n",
      "Epoch 60/200\n",
      "105/105 [==============================] - 0s 836us/step - loss: 0.0198 - val_loss: 0.0138\n",
      "Epoch 61/200\n",
      "105/105 [==============================] - 0s 979us/step - loss: 0.0193 - val_loss: 0.0138\n",
      "Epoch 62/200\n",
      "105/105 [==============================] - 0s 875us/step - loss: 0.0188 - val_loss: 0.0145\n",
      "Epoch 63/200\n",
      "105/105 [==============================] - 0s 856us/step - loss: 0.0187 - val_loss: 0.0132\n",
      "Epoch 64/200\n",
      "105/105 [==============================] - 0s 811us/step - loss: 0.0184 - val_loss: 0.0142\n",
      "Epoch 65/200\n",
      "105/105 [==============================] - 0s 752us/step - loss: 0.0181 - val_loss: 0.0136\n",
      "Epoch 66/200\n",
      "105/105 [==============================] - 0s 831us/step - loss: 0.0176 - val_loss: 0.0123\n",
      "Epoch 67/200\n",
      "105/105 [==============================] - 0s 808us/step - loss: 0.0173 - val_loss: 0.0127\n",
      "Epoch 68/200\n",
      "105/105 [==============================] - 0s 853us/step - loss: 0.0170 - val_loss: 0.0117\n",
      "Epoch 69/200\n",
      "105/105 [==============================] - 0s 790us/step - loss: 0.0169 - val_loss: 0.0122\n",
      "Epoch 70/200\n",
      "105/105 [==============================] - 0s 825us/step - loss: 0.0164 - val_loss: 0.0129\n",
      "Epoch 71/200\n",
      "105/105 [==============================] - 0s 833us/step - loss: 0.0163 - val_loss: 0.0126\n",
      "Epoch 72/200\n",
      "105/105 [==============================] - 0s 1ms/step - loss: 0.0160 - val_loss: 0.0120\n",
      "Epoch 73/200\n",
      "105/105 [==============================] - 0s 888us/step - loss: 0.0157 - val_loss: 0.0113\n",
      "Epoch 74/200\n",
      "105/105 [==============================] - 0s 852us/step - loss: 0.0155 - val_loss: 0.0110\n",
      "Epoch 75/200\n",
      "105/105 [==============================] - 0s 795us/step - loss: 0.0152 - val_loss: 0.0108\n",
      "Epoch 76/200\n",
      "105/105 [==============================] - 0s 832us/step - loss: 0.0150 - val_loss: 0.0104\n",
      "Epoch 77/200\n",
      "105/105 [==============================] - 0s 819us/step - loss: 0.0148 - val_loss: 0.0103\n",
      "Epoch 78/200\n",
      "105/105 [==============================] - 0s 820us/step - loss: 0.0145 - val_loss: 0.0102\n",
      "Epoch 79/200\n",
      "105/105 [==============================] - 0s 788us/step - loss: 0.0143 - val_loss: 0.0100\n",
      "Epoch 80/200\n",
      "105/105 [==============================] - 0s 813us/step - loss: 0.0141 - val_loss: 0.0102\n",
      "Epoch 81/200\n",
      "105/105 [==============================] - 0s 812us/step - loss: 0.0137 - val_loss: 0.0096\n",
      "Epoch 82/200\n",
      "105/105 [==============================] - 0s 873us/step - loss: 0.0137 - val_loss: 0.0095\n",
      "Epoch 83/200\n",
      "105/105 [==============================] - 0s 803us/step - loss: 0.0135 - val_loss: 0.0094\n",
      "Epoch 84/200\n",
      "105/105 [==============================] - 0s 871us/step - loss: 0.0133 - val_loss: 0.0097\n",
      "Epoch 85/200\n",
      "105/105 [==============================] - 0s 815us/step - loss: 0.0131 - val_loss: 0.0096\n",
      "Epoch 86/200\n",
      "105/105 [==============================] - 0s 841us/step - loss: 0.0130 - val_loss: 0.0094\n",
      "Epoch 87/200\n",
      "105/105 [==============================] - 0s 824us/step - loss: 0.0126 - val_loss: 0.0092\n",
      "Epoch 88/200\n",
      "105/105 [==============================] - 0s 851us/step - loss: 0.0126 - val_loss: 0.0088\n",
      "Epoch 89/200\n",
      "105/105 [==============================] - 0s 909us/step - loss: 0.0125 - val_loss: 0.0087\n",
      "Epoch 90/200\n",
      "105/105 [==============================] - 0s 830us/step - loss: 0.0123 - val_loss: 0.0084\n",
      "Epoch 91/200\n",
      "105/105 [==============================] - 0s 837us/step - loss: 0.0122 - val_loss: 0.0090\n",
      "Epoch 92/200\n",
      "105/105 [==============================] - 0s 884us/step - loss: 0.0121 - val_loss: 0.0084\n",
      "Epoch 93/200\n",
      "105/105 [==============================] - 0s 798us/step - loss: 0.0119 - val_loss: 0.0088\n",
      "Epoch 94/200\n",
      "105/105 [==============================] - 0s 826us/step - loss: 0.0117 - val_loss: 0.0084\n",
      "Epoch 95/200\n",
      "105/105 [==============================] - 0s 986us/step - loss: 0.0116 - val_loss: 0.0082\n",
      "Epoch 96/200\n",
      "105/105 [==============================] - 0s 832us/step - loss: 0.0115 - val_loss: 0.0079\n",
      "Epoch 97/200\n",
      "105/105 [==============================] - 0s 933us/step - loss: 0.0115 - val_loss: 0.0079\n",
      "Epoch 98/200\n",
      "105/105 [==============================] - 0s 927us/step - loss: 0.0113 - val_loss: 0.0088\n",
      "Epoch 99/200\n",
      "105/105 [==============================] - 0s 872us/step - loss: 0.0112 - val_loss: 0.0083\n",
      "Epoch 100/200\n",
      "105/105 [==============================] - 0s 813us/step - loss: 0.0110 - val_loss: 0.0076\n",
      "Epoch 101/200\n",
      "105/105 [==============================] - 0s 856us/step - loss: 0.0109 - val_loss: 0.0076\n",
      "Epoch 102/200\n",
      "105/105 [==============================] - 0s 974us/step - loss: 0.0108 - val_loss: 0.0076\n",
      "Epoch 103/200\n",
      "105/105 [==============================] - 0s 832us/step - loss: 0.0107 - val_loss: 0.0074\n",
      "Epoch 104/200\n",
      "105/105 [==============================] - 0s 860us/step - loss: 0.0106 - val_loss: 0.0075\n",
      "Epoch 105/200\n",
      "105/105 [==============================] - 0s 818us/step - loss: 0.0104 - val_loss: 0.0082\n",
      "Epoch 106/200\n",
      "105/105 [==============================] - 0s 1ms/step - loss: 0.0103 - val_loss: 0.0072\n",
      "Epoch 107/200\n",
      "105/105 [==============================] - 0s 953us/step - loss: 0.0104 - val_loss: 0.0071\n",
      "Epoch 108/200\n",
      "105/105 [==============================] - 0s 878us/step - loss: 0.0102 - val_loss: 0.0073\n",
      "Epoch 109/200\n",
      "105/105 [==============================] - 0s 831us/step - loss: 0.0102 - val_loss: 0.0069\n",
      "Epoch 110/200\n",
      "105/105 [==============================] - 0s 825us/step - loss: 0.0101 - val_loss: 0.0074\n",
      "Epoch 111/200\n",
      "105/105 [==============================] - 0s 881us/step - loss: 0.0101 - val_loss: 0.0070\n",
      "Epoch 112/200\n",
      "105/105 [==============================] - 0s 791us/step - loss: 0.0099 - val_loss: 0.0070\n",
      "Epoch 113/200\n",
      "105/105 [==============================] - 0s 829us/step - loss: 0.0098 - val_loss: 0.0070\n",
      "Epoch 114/200\n",
      "105/105 [==============================] - 0s 835us/step - loss: 0.0098 - val_loss: 0.0068\n",
      "Epoch 115/200\n",
      "105/105 [==============================] - 0s 840us/step - loss: 0.0097 - val_loss: 0.0069\n",
      "Epoch 116/200\n",
      "105/105 [==============================] - 0s 934us/step - loss: 0.0097 - val_loss: 0.0072\n",
      "Epoch 117/200\n",
      "105/105 [==============================] - 0s 919us/step - loss: 0.0097 - val_loss: 0.0066\n",
      "Epoch 118/200\n",
      "105/105 [==============================] - 0s 943us/step - loss: 0.0095 - val_loss: 0.0072\n",
      "Epoch 119/200\n",
      "105/105 [==============================] - 0s 1ms/step - loss: 0.0094 - val_loss: 0.0065\n",
      "Epoch 120/200\n",
      "105/105 [==============================] - 0s 953us/step - loss: 0.0095 - val_loss: 0.0068\n",
      "Epoch 121/200\n",
      "105/105 [==============================] - 0s 941us/step - loss: 0.0094 - val_loss: 0.0067\n",
      "Epoch 122/200\n",
      "105/105 [==============================] - 0s 947us/step - loss: 0.0094 - val_loss: 0.0068\n",
      "Epoch 123/200\n",
      "105/105 [==============================] - 0s 893us/step - loss: 0.0093 - val_loss: 0.0065\n",
      "Epoch 124/200\n",
      "105/105 [==============================] - 0s 883us/step - loss: 0.0092 - val_loss: 0.0068\n",
      "Epoch 125/200\n",
      "105/105 [==============================] - 0s 857us/step - loss: 0.0092 - val_loss: 0.0065\n",
      "Epoch 126/200\n",
      "105/105 [==============================] - 0s 897us/step - loss: 0.0091 - val_loss: 0.0080\n",
      "Epoch 127/200\n",
      "105/105 [==============================] - 0s 944us/step - loss: 0.0093 - val_loss: 0.0067\n",
      "Epoch 128/200\n",
      "105/105 [==============================] - 0s 938us/step - loss: 0.0091 - val_loss: 0.0065\n",
      "Epoch 129/200\n",
      "105/105 [==============================] - 0s 930us/step - loss: 0.0091 - val_loss: 0.0067\n",
      "Epoch 130/200\n",
      "105/105 [==============================] - 0s 873us/step - loss: 0.0090 - val_loss: 0.0069\n",
      "Epoch 131/200\n",
      "105/105 [==============================] - 0s 812us/step - loss: 0.0090 - val_loss: 0.0063\n",
      "Epoch 132/200\n",
      "105/105 [==============================] - 0s 824us/step - loss: 0.0089 - val_loss: 0.0062\n",
      "Epoch 133/200\n",
      "105/105 [==============================] - 0s 966us/step - loss: 0.0089 - val_loss: 0.0063\n",
      "Epoch 134/200\n",
      "105/105 [==============================] - 0s 907us/step - loss: 0.0089 - val_loss: 0.0059\n",
      "Epoch 135/200\n",
      "105/105 [==============================] - 0s 815us/step - loss: 0.0089 - val_loss: 0.0064\n",
      "Epoch 136/200\n",
      "105/105 [==============================] - 0s 774us/step - loss: 0.0088 - val_loss: 0.0064\n",
      "Epoch 137/200\n",
      "105/105 [==============================] - 0s 932us/step - loss: 0.0087 - val_loss: 0.0064\n",
      "Epoch 138/200\n",
      "105/105 [==============================] - 0s 971us/step - loss: 0.0088 - val_loss: 0.0060\n",
      "Epoch 139/200\n",
      "105/105 [==============================] - 0s 785us/step - loss: 0.0087 - val_loss: 0.0058\n",
      "Epoch 140/200\n",
      "105/105 [==============================] - 0s 918us/step - loss: 0.0088 - val_loss: 0.0060\n",
      "Epoch 141/200\n",
      "105/105 [==============================] - 0s 885us/step - loss: 0.0087 - val_loss: 0.0059\n",
      "Epoch 142/200\n",
      "105/105 [==============================] - 0s 919us/step - loss: 0.0087 - val_loss: 0.0061\n",
      "Epoch 143/200\n",
      "105/105 [==============================] - 0s 861us/step - loss: 0.0087 - val_loss: 0.0060\n",
      "Epoch 144/200\n",
      "105/105 [==============================] - 0s 917us/step - loss: 0.0086 - val_loss: 0.0062\n",
      "Epoch 145/200\n",
      "105/105 [==============================] - 0s 1ms/step - loss: 0.0086 - val_loss: 0.0060\n",
      "Epoch 146/200\n",
      "105/105 [==============================] - 0s 976us/step - loss: 0.0086 - val_loss: 0.0066\n",
      "Epoch 147/200\n",
      "105/105 [==============================] - 0s 856us/step - loss: 0.0087 - val_loss: 0.0064\n",
      "Epoch 148/200\n",
      "105/105 [==============================] - 0s 1ms/step - loss: 0.0085 - val_loss: 0.0059\n",
      "Epoch 149/200\n",
      "105/105 [==============================] - 0s 959us/step - loss: 0.0086 - val_loss: 0.0059\n",
      "Epoch 150/200\n",
      "105/105 [==============================] - 0s 922us/step - loss: 0.0085 - val_loss: 0.0057\n",
      "Epoch 151/200\n",
      "105/105 [==============================] - 0s 906us/step - loss: 0.0085 - val_loss: 0.0064\n",
      "Epoch 152/200\n",
      "105/105 [==============================] - 0s 897us/step - loss: 0.0085 - val_loss: 0.0057\n",
      "Epoch 153/200\n",
      "105/105 [==============================] - 0s 898us/step - loss: 0.0085 - val_loss: 0.0063\n",
      "Epoch 154/200\n",
      "105/105 [==============================] - 0s 804us/step - loss: 0.0084 - val_loss: 0.0067\n",
      "Epoch 155/200\n",
      "105/105 [==============================] - 0s 871us/step - loss: 0.0084 - val_loss: 0.0058\n",
      "Epoch 156/200\n",
      "105/105 [==============================] - 0s 860us/step - loss: 0.0084 - val_loss: 0.0057\n",
      "Epoch 157/200\n",
      "105/105 [==============================] - 0s 886us/step - loss: 0.0085 - val_loss: 0.0058\n",
      "Epoch 158/200\n",
      "105/105 [==============================] - 0s 881us/step - loss: 0.0084 - val_loss: 0.0057\n",
      "Epoch 159/200\n",
      "105/105 [==============================] - 0s 958us/step - loss: 0.0083 - val_loss: 0.0059\n",
      "Epoch 160/200\n",
      "105/105 [==============================] - 0s 988us/step - loss: 0.0084 - val_loss: 0.0058\n",
      "Epoch 161/200\n",
      "105/105 [==============================] - 0s 846us/step - loss: 0.0083 - val_loss: 0.0057\n",
      "Epoch 162/200\n",
      "105/105 [==============================] - 0s 848us/step - loss: 0.0083 - val_loss: 0.0056\n",
      "Epoch 163/200\n",
      "105/105 [==============================] - 0s 895us/step - loss: 0.0084 - val_loss: 0.0061\n",
      "Epoch 164/200\n",
      "105/105 [==============================] - 0s 890us/step - loss: 0.0083 - val_loss: 0.0060\n",
      "Epoch 165/200\n",
      "105/105 [==============================] - 0s 813us/step - loss: 0.0083 - val_loss: 0.0061\n",
      "Epoch 166/200\n",
      "105/105 [==============================] - 0s 816us/step - loss: 0.0082 - val_loss: 0.0055\n",
      "Epoch 167/200\n",
      "105/105 [==============================] - 0s 768us/step - loss: 0.0083 - val_loss: 0.0055\n",
      "Epoch 168/200\n",
      "105/105 [==============================] - 0s 780us/step - loss: 0.0083 - val_loss: 0.0058\n",
      "Epoch 169/200\n",
      "105/105 [==============================] - 0s 867us/step - loss: 0.0082 - val_loss: 0.0056\n",
      "Epoch 170/200\n",
      "105/105 [==============================] - 0s 953us/step - loss: 0.0083 - val_loss: 0.0058\n",
      "Epoch 171/200\n",
      "105/105 [==============================] - 0s 931us/step - loss: 0.0083 - val_loss: 0.0056\n",
      "Epoch 172/200\n",
      "105/105 [==============================] - 0s 986us/step - loss: 0.0083 - val_loss: 0.0059\n",
      "Epoch 173/200\n",
      "105/105 [==============================] - 0s 899us/step - loss: 0.0082 - val_loss: 0.0059\n",
      "Epoch 174/200\n",
      "105/105 [==============================] - 0s 869us/step - loss: 0.0083 - val_loss: 0.0054\n",
      "Epoch 175/200\n",
      "105/105 [==============================] - 0s 807us/step - loss: 0.0082 - val_loss: 0.0054\n",
      "Epoch 176/200\n",
      "105/105 [==============================] - 0s 856us/step - loss: 0.0081 - val_loss: 0.0065\n",
      "Epoch 177/200\n",
      "105/105 [==============================] - 0s 798us/step - loss: 0.0083 - val_loss: 0.0063\n",
      "Epoch 178/200\n",
      "105/105 [==============================] - 0s 815us/step - loss: 0.0082 - val_loss: 0.0060\n",
      "Epoch 179/200\n",
      "105/105 [==============================] - 0s 825us/step - loss: 0.0082 - val_loss: 0.0057\n",
      "Epoch 180/200\n",
      "105/105 [==============================] - 0s 821us/step - loss: 0.0083 - val_loss: 0.0055\n",
      "Epoch 181/200\n",
      "105/105 [==============================] - 0s 909us/step - loss: 0.0083 - val_loss: 0.0059\n",
      "Epoch 182/200\n",
      "105/105 [==============================] - 0s 825us/step - loss: 0.0082 - val_loss: 0.0057\n",
      "Epoch 183/200\n",
      "105/105 [==============================] - 0s 878us/step - loss: 0.0081 - val_loss: 0.0058\n",
      "Epoch 184/200\n",
      "105/105 [==============================] - 0s 893us/step - loss: 0.0082 - val_loss: 0.0058\n",
      "Epoch 185/200\n",
      "105/105 [==============================] - 0s 914us/step - loss: 0.0082 - val_loss: 0.0058\n",
      "Epoch 186/200\n",
      "105/105 [==============================] - 0s 769us/step - loss: 0.0082 - val_loss: 0.0057\n",
      "Epoch 187/200\n",
      "105/105 [==============================] - 0s 917us/step - loss: 0.0082 - val_loss: 0.0057\n",
      "Epoch 188/200\n",
      "105/105 [==============================] - 0s 888us/step - loss: 0.0082 - val_loss: 0.0059\n",
      "Epoch 189/200\n",
      "105/105 [==============================] - 0s 816us/step - loss: 0.0082 - val_loss: 0.0060\n",
      "Epoch 190/200\n",
      "105/105 [==============================] - 0s 959us/step - loss: 0.0081 - val_loss: 0.0056\n",
      "Epoch 191/200\n",
      "105/105 [==============================] - 0s 948us/step - loss: 0.0082 - val_loss: 0.0061\n",
      "Epoch 192/200\n",
      "105/105 [==============================] - 0s 1ms/step - loss: 0.0082 - val_loss: 0.0054\n",
      "Epoch 193/200\n",
      "105/105 [==============================] - 0s 921us/step - loss: 0.0081 - val_loss: 0.0061\n",
      "Epoch 194/200\n",
      "105/105 [==============================] - 0s 933us/step - loss: 0.0081 - val_loss: 0.0059\n",
      "Epoch 195/200\n",
      "105/105 [==============================] - 0s 978us/step - loss: 0.0081 - val_loss: 0.0059\n",
      "Epoch 196/200\n",
      "105/105 [==============================] - 0s 943us/step - loss: 0.0081 - val_loss: 0.0057\n",
      "Epoch 197/200\n",
      "105/105 [==============================] - 0s 928us/step - loss: 0.0081 - val_loss: 0.0054\n",
      "Epoch 198/200\n",
      "105/105 [==============================] - 0s 919us/step - loss: 0.0081 - val_loss: 0.0056\n",
      "Epoch 199/200\n",
      "105/105 [==============================] - 0s 992us/step - loss: 0.0082 - val_loss: 0.0055\n",
      "Epoch 200/200\n",
      "105/105 [==============================] - 0s 897us/step - loss: 0.0081 - val_loss: 0.0059\n"
     ]
    }
   ],
   "source": [
    "history = model.fit(x_train, y_train,\n",
    "                    batch_size=4,\n",
    "                    epochs=200,\n",
    "                    verbose=1,\n",
    "                    validation_data=(x_test, y_test))"
   ]
  },
  {
   "cell_type": "markdown",
   "metadata": {
    "colab_type": "text",
    "id": "l3_CdUC43g1g"
   },
   "source": [
    "As you can see above, we train our network down to a validation MSE < 0.01. Notice that both the training loss (\"loss\") and validation loss (\"val_loss\") are reported. It's normal for the training loss to be lower than the validation loss, since the network's objective is to predict the training data well. But if the training loss is much lower than our validation loss, it means we are overfitting and may not expect to receive very good results.\n",
    "\n",
    "We can evaluate the training set one last time at the end using `evaluate`."
   ]
  },
  {
   "cell_type": "code",
   "execution_count": 26,
   "metadata": {
    "colab": {
     "base_uri": "https://localhost:8080/",
     "height": 52
    },
    "colab_type": "code",
    "id": "CjIZX2er3g1h",
    "outputId": "6d567e02-93d4-4316-c6cb-15785b59b125"
   },
   "outputs": [
    {
     "name": "stdout",
     "output_type": "stream",
     "text": [
      "45/45 [==============================] - 0s 209us/step\n",
      "Test loss: 0.005925121758547094\n"
     ]
    }
   ],
   "source": [
    "score = model.evaluate(x_test, y_test)\n",
    "print('Test loss:', score)"
   ]
  },
  {
   "cell_type": "markdown",
   "metadata": {
    "colab_type": "text",
    "id": "Ucif8nsm3g1l"
   },
   "source": [
    "To get the raw predictions:"
   ]
  },
  {
   "cell_type": "code",
   "execution_count": 27,
   "metadata": {
    "colab": {
     "base_uri": "https://localhost:8080/",
     "height": 194
    },
    "colab_type": "code",
    "id": "94K-RIWB3g1l",
    "outputId": "b9bf0bc9-c5b7-4ce7-ddd7-5023151b6c3b"
   },
   "outputs": [
    {
     "name": "stdout",
     "output_type": "stream",
     "text": [
      "predicted 0.64, actual 0.60\n",
      "predicted 0.73, actual 0.92\n",
      "predicted 0.55, actual 0.48\n",
      "predicted 0.61, actual 0.68\n",
      "predicted 0.61, actual 0.60\n",
      "predicted 0.11, actual 0.12\n",
      "predicted 0.65, actual 0.48\n",
      "predicted 0.79, actual 0.84\n",
      "predicted 0.75, actual 0.76\n",
      "predicted 0.83, actual 0.84\n"
     ]
    }
   ],
   "source": [
    "y_pred = model.predict(x_test)\n",
    "\n",
    "for yp, ya in list(zip(y_pred, y_test))[0:10]:\n",
    "    print(\"predicted %0.2f, actual %0.2f\" % (yp, ya))"
   ]
  },
  {
   "cell_type": "markdown",
   "metadata": {
    "colab_type": "text",
    "id": "e5mHgPhA3g1n"
   },
   "source": [
    "To visualize the prediction results:"
   ]
  },
  {
   "cell_type": "code",
   "execution_count": 28,
   "metadata": {
    "colab": {
     "base_uri": "https://localhost:8080/",
     "height": 422
    },
    "colab_type": "code",
    "id": "XHAiiY-83g1o",
    "outputId": "5ea17861-f808-49e1-8af9-0f8549f9b429"
   },
   "outputs": [
    {
     "data": {
      "text/plain": [
       "[<matplotlib.lines.Line2D at 0x7f5c2ff8e0f0>]"
      ]
     },
     "execution_count": 28,
     "metadata": {
      "tags": []
     },
     "output_type": "execute_result"
    },
    {
     "data": {
      "image/png": "[encoded data removed]",
      "text/plain": [
       "<Figure size 576x432 with 1 Axes>"
      ]
     },
     "metadata": {
      "tags": []
     },
     "output_type": "display_data"
    }
   ],
   "source": [
    "plt.figure(figsize=(8, 6))\n",
    "plt.xlabel('Actual sepal width (cm)')\n",
    "plt.ylabel('Predicted sepal width (cm)')\n",
    "plt.title('Iris dataset')\n",
    "plt.scatter(y_test, y_pred, c='b')\n",
    "plt.plot([0, 1], [0, 1], '--', c='r')"
   ]
  },
  {
   "cell_type": "markdown",
   "metadata": {
    "colab_type": "text",
    "id": "h441UyRw3g1q"
   },
   "source": [
    "We can manually calculate MSE as a sanity check:"
   ]
  },
  {
   "cell_type": "code",
   "execution_count": 29,
   "metadata": {
    "colab": {
     "base_uri": "https://localhost:8080/",
     "height": 35
    },
    "colab_type": "code",
    "id": "fOEUu9LI3g1q",
    "outputId": "5a144220-a2a0-4615-d1e2-ae5a575fb6e6"
   },
   "outputs": [
    {
     "name": "stdout",
     "output_type": "stream",
     "text": [
      "MSE is 0.0059\n"
     ]
    }
   ],
   "source": [
    "def MSE(y_pred, y_test):\n",
    "    return (1.0/len(y_test)) * np.sum([((y1[0]-y2)**2) for y1, y2 in list(zip(y_pred, y_test))])\n",
    "\n",
    "print(\"MSE is %0.4f\" % MSE(y_pred, y_test))"
   ]
  },
  {
   "cell_type": "markdown",
   "metadata": {
    "colab_type": "text",
    "id": "cpmTEYl53g1s"
   },
   "source": [
    "We can also predict the value of a single unknown example or a set of them in th following way:"
   ]
  },
  {
   "cell_type": "code",
   "execution_count": 30,
   "metadata": {
    "colab": {
     "base_uri": "https://localhost:8080/",
     "height": 35
    },
    "colab_type": "code",
    "id": "h4tN83pm3g1t",
    "outputId": "2e166e6c-f647-4a28-f797-2881c8a7e7ca"
   },
   "outputs": [
    {
     "name": "stdout",
     "output_type": "stream",
     "text": [
      "predicted 0.636, actual 0.600\n"
     ]
    }
   ],
   "source": [
    "x_sample = x_test[0].reshape(1, 3)   # shape must be (num_samples, 3), even if num_samples = 1\n",
    "y_prob = model.predict(x_sample)\n",
    "\n",
    "print(\"predicted %0.3f, actual %0.3f\" % (y_prob[0][0], y_test[0]))"
   ]
  },
  {
   "cell_type": "markdown",
   "metadata": {
    "colab_type": "text",
    "id": "35mSMVS93g1v"
   },
   "source": [
    "We've now finished introducing Keras for regression. Note it is a far more powerful way of training neural networks than our own. Keras's strengths will become even more apparent when we introduce classification in the next lesson, as well as introduce convolutional networks and various other optimization tricks it enables for us."
   ]
  }
 ],
 "metadata": {
  "accelerator": "GPU",
  "colab": {
   "collapsed_sections": [],
   "name": "3_simple_neural_networks.ipynb",
   "provenance": []
  },
  "kernelspec": {
   "display_name": "Python 3",
   "language": "python",
   "name": "python3"
  },
  "language_info": {
   "codemirror_mode": {
    "name": "ipython",
    "version": 3
   },
   "file_extension": ".py",
   "mimetype": "text/x-python",
   "name": "python",
   "nbconvert_exporter": "python",
   "pygments_lexer": "ipython3",
   "version": "3.6.9"
  }
 },
 "nbformat": 4,
 "nbformat_minor": 1
}
