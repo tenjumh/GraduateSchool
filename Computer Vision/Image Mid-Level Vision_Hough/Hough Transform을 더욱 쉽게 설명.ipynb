{
 "cells": [
  {
   "cell_type": "markdown",
   "metadata": {},
   "source": [
    "# Hough Transform의 기초 이론\n",
    "- Image space(x, y)의 line( y = m0*x + b0 )을 Hough space(m, b)의 point(m0, b0)로 표현할 수 있다.\n",
    "\n",
    "![허프변환](https://github.com/tenjumh/GraduateSchool/blob/master/Computer%20Vision/Image%20Mid-Level%20Vision_Hough/image/%ED%97%88%ED%94%841.png?raw=True)\n",
    "\n",
    "- 더 나아가…. <br>\n",
    "Image space에서 point(x0, y0)를 지나는 모든 line은 Hough space상에서 line( b = -x0*m _ y0 )으로 표현할 수 있다.\n",
    "\n",
    "![허프변환](https://github.com/tenjumh/GraduateSchool/blob/master/Computer%20Vision/Image%20Mid-Level%20Vision_Hough/image/%ED%97%88%ED%94%842.png?raw=True)\n",
    "\n",
    "- 위의 기초 지식을 이용하여…. <br>\n",
    "Image space 상에서 two points(x0, y0), (x1, y1)은 Hough space 상에서 한 point를 지나는 두 line으로 표현된다.\n",
    "\n",
    "![허프변환](https://github.com/tenjumh/GraduateSchool/blob/master/Computer%20Vision/Image%20Mid-Level%20Vision_Hough/image/%ED%97%88%ED%94%843.png?raw=True)\n",
    "\n",
    "- 여러 점이 추출되었다면…. <br>\n",
    "Image space에서 검출된 edge들의 점들을 Hough space상에 표현하면 많은 line이 표현되며 거기에서 Voting하여 많이 교차하는 점은 Image space상에서 line일 확률이 높다 하여 Line으로 판단한다.<br>\n",
    "이 기초 이론을 토대로 line의 표현식을 y = m*x + b가 아닌 xcosθ – ysinθ = d로 계산해야 한다.\n",
    "\n",
    "![허프변환](https://github.com/tenjumh/GraduateSchool/blob/master/Computer%20Vision/Image%20Mid-Level%20Vision_Hough/image/%ED%97%88%ED%94%844.png?raw=True)\n",
    "\n",
    "- 결국 Image space(x, y)를 Hough space(d, θ)로 표현해준다. 결과는 하기 이미지 같이 된다.\n",
    "\n",
    "![허프변환](https://github.com/tenjumh/GraduateSchool/blob/master/Computer%20Vision/Image%20Mid-Level%20Vision_Hough/image/%ED%97%88%ED%94%845.png?raw=True)\n",
    "\n",
    "- Image space상에서 검출된 점들은 Hough space상에 곡선으로 표현되며 교차됨(voting)된 점을 line이라고 판단한다.<br>\n",
    "추가로 Image space상에서 검출된 점들 중 노이즈가 있더라도 어느정도 line을 검출할 수 있다.\n",
    "\n",
    "\n",
    "![허프변환](https://github.com/tenjumh/GraduateSchool/blob/master/Computer%20Vision/Image%20Mid-Level%20Vision_Hough/image/%ED%97%88%ED%94%846.png?raw=True)"
   ]
  }
 ],
 "metadata": {
  "kernelspec": {
   "display_name": "Python 3",
   "language": "python",
   "name": "python3"
  },
  "language_info": {
   "codemirror_mode": {
    "name": "ipython",
    "version": 3
   },
   "file_extension": ".py",
   "mimetype": "text/x-python",
   "name": "python",
   "nbconvert_exporter": "python",
   "pygments_lexer": "ipython3",
   "version": "3.6.10"
  }
 },
 "nbformat": 4,
 "nbformat_minor": 2
}
