{
 "cells": [
  {
   "cell_type": "code",
   "execution_count": 1,
   "metadata": {},
   "outputs": [],
   "source": [
    "from tensorflow.keras.applications import ResNet50\n",
    "from tensorflow.keras.applications.resnet50 import preprocess_input\n",
    "from tensorflow.keras.applications import imagenet_utils\n",
    "from tensorflow.keras.preprocessing.image import img_to_array\n",
    "from imutils.object_detection import non_max_suppression\n",
    "import numpy as np\n",
    "import argparse\n",
    "import cv2"
   ]
  },
  {
   "cell_type": "markdown",
   "metadata": {},
   "source": [
    "### Selective search는\n",
    "- 전통적인 객체 검출에서는 image pyramid와 sliding windows를 통해서 이미지내 객체 검출을 했는데,\n",
    "- 속도와 파라미터 설정에 따라 객체 검출 성능이 차이가 많아 문제가 됨\n",
    "- 이를 해결하기 위해 selective search로 대체됨"
   ]
  },
  {
   "cell_type": "code",
   "execution_count": 2,
   "metadata": {},
   "outputs": [],
   "source": [
    "def selective_search(image, method=\"fast\"):\n",
    "    ss = cv2.ximgproc.segmentation.createSelectiveSearchSegmentation()\n",
    "    ss.setBaseImage(image)\n",
    "\n",
    "    if method == \"fast\":\n",
    "        ss.switchToSelectiveSearchFast()\n",
    "    else:\n",
    "        ss.switchToSelectiveSearchQuality()\n",
    "    rects = ss.process()\n",
    "\n",
    "    return rects"
   ]
  },
  {
   "cell_type": "code",
   "execution_count": 3,
   "metadata": {},
   "outputs": [],
   "source": [
    "image = './beagle.png'\n",
    "method = 'fast'  # or 'quality'\n",
    "conf = 0.9\n",
    "#labelFilters = ''\n",
    "#labelFilters = labelFilters.lower().split(\",\")"
   ]
  },
  {
   "cell_type": "code",
   "execution_count": 4,
   "metadata": {},
   "outputs": [
    {
     "name": "stdout",
     "output_type": "stream",
     "text": [
      "[INFO] loading ResNet...\n"
     ]
    }
   ],
   "source": [
    "print(\"[INFO] loading ResNet...\")\n",
    "model = ResNet50(weights=\"imagenet\")\n",
    "\n",
    "image = cv2.imread(image)\n",
    "(H, W) = image.shape[:2]"
   ]
  },
  {
   "cell_type": "code",
   "execution_count": 5,
   "metadata": {},
   "outputs": [
    {
     "name": "stdout",
     "output_type": "stream",
     "text": [
      "[INFO] performing selective search with 'fast' method...\n",
      "[INFO] 922 regions found by selective search\n"
     ]
    }
   ],
   "source": [
    "print(\"[INFO] performing selective search with '{}' method...\".format(method))\n",
    "rects = selective_search(image, method=method)\n",
    "print(\"[INFO] {} regions found by selective search\".format(len(rects)))\n",
    "\n",
    "proposals = []\n",
    "boxes = []"
   ]
  },
  {
   "cell_type": "code",
   "execution_count": 6,
   "metadata": {},
   "outputs": [],
   "source": [
    "for (x, y, w, h) in rects:\n",
    "    # 오리지널 이미지에 w 또는 h가 10%이하 크기의 object는 무시\n",
    "    if w / float(W) < 0.1 or h / float(H) < 0.1:\n",
    "        continue\n",
    "    # BGR형식을 RGB형식으로 변환 후\n",
    "    # ResNet50의 basic 크기인 (224, 224)로 resize\n",
    "    roi = image[y:y + h, x:x + w]\n",
    "    roi = cv2.cvtColor(roi, cv2.COLOR_BGR2RGB)\n",
    "    roi = cv2.resize(roi, (224, 224))\n",
    "    # ROI 전처리\n",
    "    roi = img_to_array(roi)\n",
    "    roi = preprocess_input(roi)\n",
    "    # update proposals and bounding boxes lists\n",
    "    proposals.append(roi)\n",
    "    boxes.append((x, y, w, h))"
   ]
  },
  {
   "cell_type": "code",
   "execution_count": 10,
   "metadata": {},
   "outputs": [
    {
     "data": {
      "text/plain": [
       "[array([[[ -40.939003  ,    3.2210007 ,   42.32      ],\n",
       "         [ -40.939003  ,    3.2210007 ,   42.32      ],\n",
       "         [ -41.939003  ,    2.2210007 ,   41.32      ],\n",
       "         ...,\n",
       "         [ -45.939003  ,   -2.7789993 ,   37.32      ],\n",
       "         [ -32.939003  ,   10.221001  ,   50.32      ],\n",
       "         [ -27.939003  ,   15.221001  ,   54.32      ]],\n",
       " \n",
       "        [[ -40.939003  ,    3.2210007 ,   42.32      ],\n",
       "         [ -40.939003  ,    3.2210007 ,   41.32      ],\n",
       "         [ -41.939003  ,    2.2210007 ,   41.32      ],\n",
       "         ...,\n",
       "         [ -45.939003  ,   -2.7789993 ,   37.32      ],\n",
       "         [ -32.939003  ,   11.221001  ,   50.32      ],\n",
       "         [ -27.939003  ,   15.221001  ,   54.32      ]],\n",
       " \n",
       "        [[ -42.939003  ,    2.2210007 ,   41.32      ],\n",
       "         [ -41.939003  ,    2.2210007 ,   41.32      ],\n",
       "         [ -42.939003  ,    2.2210007 ,   41.32      ],\n",
       "         ...,\n",
       "         [ -44.939003  ,   -1.7789993 ,   38.32      ],\n",
       "         [ -31.939003  ,   12.221001  ,   50.32      ],\n",
       "         [ -27.939003  ,   16.221     ,   55.32      ]],\n",
       " \n",
       "        ...,\n",
       " \n",
       "        [[ -42.939003  ,   -0.7789993 ,   43.32      ],\n",
       "         [ -42.939003  ,   -0.7789993 ,   42.32      ],\n",
       "         [ -43.939003  ,   -1.7789993 ,   42.32      ],\n",
       "         ...,\n",
       "         [ -99.939     ,  -84.779     ,  -34.68      ],\n",
       "         [-102.939     ,  -93.779     ,  -45.68      ],\n",
       "         [-103.939     ,  -96.779     ,  -49.68      ]],\n",
       " \n",
       "        [[ -41.939003  ,    0.22100067,   44.32      ],\n",
       "         [ -41.939003  ,    0.22100067,   43.32      ],\n",
       "         [ -42.939003  ,   -1.7789993 ,   43.32      ],\n",
       "         ...,\n",
       "         [-100.939     ,  -85.779     ,  -35.68      ],\n",
       "         [-102.939     ,  -94.779     ,  -46.68      ],\n",
       "         [-103.939     ,  -97.779     ,  -50.68      ]],\n",
       " \n",
       "        [[ -41.939003  ,    0.22100067,   44.32      ],\n",
       "         [ -41.939003  ,    0.22100067,   44.32      ],\n",
       "         [ -42.939003  ,   -1.7789993 ,   43.32      ],\n",
       "         ...,\n",
       "         [-100.939     ,  -85.779     ,  -35.68      ],\n",
       "         [-102.939     ,  -94.779     ,  -46.68      ],\n",
       "         [-103.939     ,  -97.779     ,  -50.68      ]]], dtype=float32)]"
      ]
     },
     "execution_count": 10,
     "metadata": {},
     "output_type": "execute_result"
    }
   ],
   "source": [
    "proposals[:1]"
   ]
  },
  {
   "cell_type": "code",
   "execution_count": 9,
   "metadata": {},
   "outputs": [
    {
     "data": {
      "text/plain": [
       "[(0, 0, 96, 74), (362, 0, 138, 109), (359, 0, 141, 336)]"
      ]
     },
     "execution_count": 9,
     "metadata": {},
     "output_type": "execute_result"
    }
   ],
   "source": [
    "boxes[:3]"
   ]
  },
  {
   "cell_type": "code",
   "execution_count": null,
   "metadata": {},
   "outputs": [],
   "source": []
  }
 ],
 "metadata": {
  "kernelspec": {
   "display_name": "Python 3",
   "language": "python",
   "name": "python3"
  },
  "language_info": {
   "codemirror_mode": {
    "name": "ipython",
    "version": 3
   },
   "file_extension": ".py",
   "mimetype": "text/x-python",
   "name": "python",
   "nbconvert_exporter": "python",
   "pygments_lexer": "ipython3",
   "version": "3.6.10"
  }
 },
 "nbformat": 4,
 "nbformat_minor": 4
}
