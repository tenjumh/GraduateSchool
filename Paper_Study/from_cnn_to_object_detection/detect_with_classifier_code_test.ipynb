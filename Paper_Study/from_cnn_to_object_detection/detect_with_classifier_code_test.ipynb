{
 "cells": [
  {
   "cell_type": "code",
   "execution_count": null,
   "metadata": {},
   "outputs": [],
   "source": [
    "# import the necessary packages\n",
    "from tensorflow.keras.applications import ResNet50\n",
    "from tensorflow.keras.applications.resnet50 import preprocess_input\n",
    "from tensorflow.keras.preprocessing.image import img_to_array\n",
    "from tensorflow.keras.applications import imagenet_utils\n",
    "from imutils.object_detection import non_max_suppression\n",
    "from pyimagesearch.detection_helpers import sliding_window\n",
    "from pyimagesearch.detection_helpers import image_pyramid\n",
    "import numpy as np\n",
    "import argparse\n",
    "import imutils\n",
    "import time\n",
    "import cv2"
   ]
  },
  {
   "cell_type": "code",
   "execution_count": 30,
   "metadata": {},
   "outputs": [],
   "source": [
    "def image_pyramid(image, scale=1.5, minSize=(224, 224)):\n",
    "    yield image\n",
    "    while True:\n",
    "        w = int(image.shape[1] / scale)\n",
    "        image = imutils.resize(image, width=w)\n",
    "        if image.shape[0] < minSize[1] or image.shape[1] < minSize[0]:\n",
    "            break\n",
    "        yield image"
   ]
  },
  {
   "cell_type": "markdown",
   "metadata": {},
   "source": [
    "- image : input image\n",
    "- scale : 축소할 비율 (resize)\n",
    "- minSize : 일단 pre-training 모델인 (ResNet50)을 사용하기 때문에 ResNet50에 기본 size 224, 224이하가 되면 축소를 멈춤."
   ]
  },
  {
   "cell_type": "code",
   "execution_count": 31,
   "metadata": {},
   "outputs": [],
   "source": [
    "def sliding_window(image, step, ws):\n",
    "# slide a window across the image\n",
    "    for y in range(0, image.shape[0] - ws[1], step):\n",
    "        for x in range(0, image.shape[1] - ws[0], step):\n",
    "            # yield the current window\n",
    "            yield (x, y, image[y:y + ws[1], x:x + ws[0]])"
   ]
  },
  {
   "attachments": {},
   "cell_type": "markdown",
   "metadata": {},
   "source": [
    "- image : image Pyramids를 통과해 추출된 이미지들 \n",
    "- step : window(kernel)이 움직이는 sliding step\n",
    "- ws : window(kernel) 크기\n",
    "- Line 2, 3은 행과 열로 sliding하기 위한 코드\n",
    "- 각 sliding별로 x, y 및 이미지의 커널 크기만큼의 array값들 추출"
   ]
  },
  {
   "cell_type": "code",
   "execution_count": 37,
   "metadata": {},
   "outputs": [
    {
     "data": {
      "text/plain": [
       "(256, 256, 3)"
      ]
     },
     "execution_count": 37,
     "metadata": {},
     "output_type": "execute_result"
    }
   ],
   "source": [
    "img = cv2.imread('cameraman.tif')\n",
    "img.shape"
   ]
  },
  {
   "cell_type": "code",
   "execution_count": 38,
   "metadata": {},
   "outputs": [],
   "source": [
    "WIDTH = 600\n",
    "PYR_SCALE = 1.5\n",
    "WIN_STEP = 16\n",
    "ROI_SIZE = (56, 56)\n",
    "INPUT_SIZE = (100, 100)\n",
    "(H, W) = img.shape[:2]"
   ]
  },
  {
   "cell_type": "code",
   "execution_count": 1,
   "metadata": {},
   "outputs": [
    {
     "ename": "NameError",
     "evalue": "name 'time' is not defined",
     "output_type": "error",
     "traceback": [
      "\u001b[1;31m---------------------------------------------------------------------------\u001b[0m",
      "\u001b[1;31mNameError\u001b[0m                                 Traceback (most recent call last)",
      "\u001b[1;32m<ipython-input-1-0fe714382d7d>\u001b[0m in \u001b[0;36m<module>\u001b[1;34m\u001b[0m\n\u001b[0;32m      1\u001b[0m \u001b[0mrois\u001b[0m \u001b[1;33m=\u001b[0m \u001b[1;33m[\u001b[0m\u001b[1;33m]\u001b[0m\u001b[1;33m\u001b[0m\u001b[1;33m\u001b[0m\u001b[0m\n\u001b[0;32m      2\u001b[0m \u001b[0mlocs\u001b[0m \u001b[1;33m=\u001b[0m \u001b[1;33m[\u001b[0m\u001b[1;33m]\u001b[0m\u001b[1;33m\u001b[0m\u001b[1;33m\u001b[0m\u001b[0m\n\u001b[1;32m----> 3\u001b[1;33m \u001b[0mstart\u001b[0m \u001b[1;33m=\u001b[0m \u001b[0mtime\u001b[0m\u001b[1;33m.\u001b[0m\u001b[0mtime\u001b[0m\u001b[1;33m(\u001b[0m\u001b[1;33m)\u001b[0m\u001b[1;33m\u001b[0m\u001b[1;33m\u001b[0m\u001b[0m\n\u001b[0m\u001b[0;32m      4\u001b[0m \u001b[1;31m# image pyramid 적용\u001b[0m\u001b[1;33m\u001b[0m\u001b[1;33m\u001b[0m\u001b[1;33m\u001b[0m\u001b[0m\n\u001b[0;32m      5\u001b[0m \u001b[0mpyramid\u001b[0m \u001b[1;33m=\u001b[0m \u001b[0mimage_pyramid\u001b[0m\u001b[1;33m(\u001b[0m\u001b[0mimg\u001b[0m\u001b[1;33m,\u001b[0m \u001b[0mscale\u001b[0m\u001b[1;33m=\u001b[0m\u001b[0mPYR_SCALE\u001b[0m\u001b[1;33m,\u001b[0m \u001b[0mminSize\u001b[0m\u001b[1;33m=\u001b[0m\u001b[0mROI_SIZE\u001b[0m\u001b[1;33m)\u001b[0m\u001b[1;33m\u001b[0m\u001b[1;33m\u001b[0m\u001b[0m\n",
      "\u001b[1;31mNameError\u001b[0m: name 'time' is not defined"
     ]
    }
   ],
   "source": [
    "rois = []\n",
    "locs = []\n",
    "start = time.time()\n",
    "# image pyramid 적용\n",
    "pyramid = image_pyramid(img, scale=PYR_SCALE, minSize=ROI_SIZE)  \n",
    "\n",
    "# Generator로 하나씩 이미지를 불음\n",
    "# 오리지널 이미지 W를 pyramid로 불러온 이미지를 나눠 scale 정의\n",
    "# 나중에 object bounding box를 upscale 할 때 필요 \n",
    "for image in pyramid:\n",
    "    scale = W / float(image.shape[1])\n",
    "    print(scale)\n",
    "    for (x, y, roiOrig) in sliding_window(image, WIN_STEP, ROI_SIZE):\n",
    "        # Generator로 하나씩 sliding할 때의 sliding window 결과값을 불러와\n",
    "        # Scale 비율로 각 sliding window(x, y, w, h)를 증가 시킴\n",
    "        x = int(x * scale)\n",
    "        y = int(y * scale)\n",
    "        w = int(ROI_SIZE[0] * scale)\n",
    "        h = int(ROI_SIZE[1] * scale)   \n",
    "        print(x, y, w, h)\n",
    "        # sliding window 사이즈(scale비율로 증가)로 이미지를 분류하기 위해\n",
    "        # ResNet50모델의 기본 사이즈인 224,224 비율로 resize해서 분류기에 넣겠다는 것임\n",
    "        roi = cv2.resize(roiOrig, INPUT_SIZE)\n",
    "        roi = img_to_array(roi)\n",
    "        roi = preprocess_input(roi)\n",
    "        # roi값과 각 좌표정보를 저장함.\n",
    "        rois.append(roi)\n",
    "        locs.append((x, y, x + w, y + h))\n",
    "        \n",
    "        # 오리지널 이미지 위에 bounding box sliding되고 scale되는 것을 \n",
    "        # 보여주고 해당 sliding window이미지를 보여줌 \n",
    "        clone = img.copy()\n",
    "        cv2.rectangle(clone, (x, y), (x + w, y + h), (0, 255, 0), 2)\n",
    "        # show the visualization and current ROI\n",
    "        cv2.imshow(\"Visualization\", clone)\n",
    "        cv2.imshow(\"ROI\", roiOrig)\n",
    "        cv2.waitKey(0)\n",
    "        \n",
    "# image pyramid와 sliding window의 loop시간 측정을 위해\n",
    "end = time.time()\n",
    "print(\"[INFO] looping over pyramid/windows took {:.5f} seconds\".format(\n",
    "    end - start))\n",
    "\n",
    "# 넘파이어레이로 변경\n",
    "rois = np.array(rois, dtype=\"float32\")\n",
    "# 모델 예측\n",
    "print(\"[INFO] classifying ROIs...\")\n",
    "start = time.time()\n",
    "preds = model.predict(rois)\n",
    "end = time.time()\n",
    "print(\"[INFO] classifying ROIs took {:.5f} seconds\".format(end - start))\n",
    "\n",
    "# \n",
    "preds = imagenet_utils.decode_predictions(preds, top=1)\n",
    "labels = {}\n",
    "\n",
    "# loop over the predictions\n",
    "for (i, p) in enumerate(preds):\n",
    "    (imagenetID, label, prob) = p[0]\n",
    "    if prob >= args[\"min_conf\"]:\n",
    "        box = locs[i]\n",
    "        L = labels.get(label, [])\n",
    "        L.append((box, prob))\n",
    "        labels[label] = L\n",
    "        \n",
    "        \n",
    "for label in labels.keys():\n",
    "    print(\"[INFO] showing results for '{}'\".format(label))\n",
    "    clone = orig.copy()\n",
    "    for (box, prob) in labels[label]:\n",
    "        (startX, startY, endX, endY) = box\n",
    "        cv2.rectangle(clone, (startX, startY), (endX, endY),\n",
    "            (0, 255, 0), 2)\n",
    "        \n",
    "    cv2.imshow(\"Before\", clone)\n",
    "    clone = orig.copy()\n",
    "    \n",
    "    boxes = np.array([p[0] for p in labels[label]])\n",
    "    proba = np.array([p[1] for p in labels[label]])\n",
    "    boxes = non_max_suppression(boxes, proba)\n",
    "\n",
    "    for (startX, startY, endX, endY) in boxes:\n",
    "        cv2.rectangle(clone, (startX, startY), (endX, endY),\n",
    "            (0, 255, 0), 2)\n",
    "        y = startY - 10 if startY - 10 > 10 else startY + 10\n",
    "        cv2.putText(clone, label, (startX, y),\n",
    "            cv2.FONT_HERSHEY_SIMPLEX, 0.45, (0, 255, 0), 2)\n",
    "    cv2.imshow(\"After\", clone)\n",
    "    cv2.waitKey(0)"
   ]
  }
 ],
 "metadata": {
  "kernelspec": {
   "display_name": "Python 3",
   "language": "python",
   "name": "python3"
  },
  "language_info": {
   "codemirror_mode": {
    "name": "ipython",
    "version": 3
   },
   "file_extension": ".py",
   "mimetype": "text/x-python",
   "name": "python",
   "nbconvert_exporter": "python",
   "pygments_lexer": "ipython3",
   "version": "3.6.9"
  }
 },
 "nbformat": 4,
 "nbformat_minor": 4
}
