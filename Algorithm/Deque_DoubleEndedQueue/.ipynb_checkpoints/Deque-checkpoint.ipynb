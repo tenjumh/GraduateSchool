{
 "cells": [
  {
   "cell_type": "markdown",
   "metadata": {},
   "source": [
    "# Deque - Double-ended Queue)\n",
    "- 양쪽 끝에서 삽입과 삭제를 허용하는 자료구조\n",
    "- 데크는 스택과 큐 자료구조를 혼합한 자료구조\n",
    "- 사용용도 : 스크롤, 문서편집기 undo연산, 웹브라이저의 방문 기록\n",
    "- 이중연결리스트로 구현 편리\n",
    "- python에서는 Collections 패키지에 정의\n",
    "- 삽입, 삭제 등의 연산은 파이썬의 리스트 연산들과 유사"
   ]
  },
  {
   "cell_type": "code",
   "execution_count": 9,
   "metadata": {},
   "outputs": [
    {
     "name": "stdout",
     "output_type": "stream",
     "text": [
      "DATA\n",
      "deque(['k', 'd', 'a', 't', 'a', 'r'])\n"
     ]
    }
   ],
   "source": [
    "from collections import deque\n",
    "dq = deque('data')\n",
    "for elem in dq:\n",
    "    print(elem.upper(), end='')\n",
    "print()\n",
    "dq.append('r')\n",
    "dq.appendleft('k')\n",
    "print(dq)"
   ]
  },
  {
   "cell_type": "code",
   "execution_count": 10,
   "metadata": {},
   "outputs": [
    {
     "name": "stdout",
     "output_type": "stream",
     "text": [
      "deque(['d', 'a', 't', 'a'])\n"
     ]
    }
   ],
   "source": [
    "dq.pop()\n",
    "dq.popleft()\n",
    "print(dq)"
   ]
  },
  {
   "cell_type": "code",
   "execution_count": 11,
   "metadata": {},
   "outputs": [
    {
     "data": {
      "text/plain": [
       "False"
      ]
     },
     "execution_count": 11,
     "metadata": {},
     "output_type": "execute_result"
    }
   ],
   "source": [
    "'x' in dq"
   ]
  },
  {
   "cell_type": "code",
   "execution_count": 12,
   "metadata": {},
   "outputs": [],
   "source": [
    "dq.extend('structure')\n",
    "dq.extendleft('python')  #이렇게 하면 p부터 왼쪽으로 삽입\n",
    "dq.extendleft(reversed('python'))"
   ]
  },
  {
   "cell_type": "code",
   "execution_count": 13,
   "metadata": {},
   "outputs": [
    {
     "name": "stdout",
     "output_type": "stream",
     "text": [
      "deque(['p', 'y', 't', 'h', 'o', 'n', 'n', 'o', 'h', 't', 'y', 'p', 'd', 'a', 't', 'a', 's', 't', 'r', 'u', 'c', 't', 'u', 'r', 'e'])\n"
     ]
    }
   ],
   "source": [
    "print(dq)"
   ]
  }
 ],
 "metadata": {
  "kernelspec": {
   "display_name": "Python 3",
   "language": "python",
   "name": "python3"
  },
  "language_info": {
   "codemirror_mode": {
    "name": "ipython",
    "version": 3
   },
   "file_extension": ".py",
   "mimetype": "text/x-python",
   "name": "python",
   "nbconvert_exporter": "python",
   "pygments_lexer": "ipython3",
   "version": "3.6.9"
  }
 },
 "nbformat": 4,
 "nbformat_minor": 2
}
