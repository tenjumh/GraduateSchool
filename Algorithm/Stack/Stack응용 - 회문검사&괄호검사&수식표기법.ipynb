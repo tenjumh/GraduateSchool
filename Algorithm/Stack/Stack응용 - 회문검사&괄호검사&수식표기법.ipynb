{
 "cells": [
  {
   "cell_type": "markdown",
   "metadata": {},
   "source": [
    "# 회문 검사"
   ]
  },
  {
   "cell_type": "code",
   "execution_count": 12,
   "metadata": {},
   "outputs": [
    {
     "name": "stdout",
     "output_type": "stream",
     "text": [
      "['r', 'a', 'c', 'e', 'c', 'a', 'r']\n",
      "True\n",
      "['p', 'o', 'o', 'p']\n",
      "True\n",
      "['p', 'p', 'o', 'p']\n",
      "False\n"
     ]
    }
   ],
   "source": [
    "#회문검사\n",
    "def is_palindrome(input_string):\n",
    "    token_list = list(input_string)\n",
    "    print(token_list)\n",
    "    flag = True\n",
    "    while len(token_list) > 1 and flag == True:\n",
    "        first_char = token_list.pop(0)\n",
    "        last_char = token_list.pop(-1)\n",
    "        if first_char != last_char:\n",
    "            flag = False\n",
    "    return flag\n",
    "\n",
    "print(is_palindrome(\"racecar\"))\n",
    "print(is_palindrome(\"poop\"))\n",
    "print(is_palindrome(\"ppop\"))"
   ]
  },
  {
   "cell_type": "code",
   "execution_count": 8,
   "metadata": {},
   "outputs": [],
   "source": [
    "def text(input_text):\n",
    "    stack = []\n",
    "    text_list = list(input_text)\n",
    "    \n",
    "    if len(text_list)%2 != 0:\n",
    "        del text_list[len(text_list)//2]\n",
    "        print(text_list)\n",
    "    \n",
    "    for i in range(len(text_list)):\n",
    "        if i <(len(text_list)//2):\n",
    "            stack.append(text_list[i])\n",
    "            print(\"OK\")\n",
    "    else:\n",
    "        first_char = stack.pop()"
   ]
  },
  {
   "cell_type": "code",
   "execution_count": 9,
   "metadata": {},
   "outputs": [
    {
     "name": "stdout",
     "output_type": "stream",
     "text": [
      "OK\n",
      "OK\n",
      "None\n",
      "['p', 'p']\n",
      "OK\n",
      "None\n"
     ]
    }
   ],
   "source": [
    "print(text('poop'))\n",
    "print(text('pop'))"
   ]
  },
  {
   "cell_type": "markdown",
   "metadata": {},
   "source": [
    "# 괄호 검사"
   ]
  },
  {
   "cell_type": "code",
   "execution_count": 1,
   "metadata": {},
   "outputs": [
    {
     "name": "stdout",
     "output_type": "stream",
     "text": [
      "입력: ['(', '(', '{', '}', '(', ')', ')', '{', '{', '}', '(', ')', '}', ')']\n",
      "True\n"
     ]
    }
   ],
   "source": [
    "def push(item): # 삽입 연산\n",
    "    s.append(item)\n",
    "    \n",
    "def peek(): # top 항목 접근\n",
    "    if len(s) != 0:\n",
    "        return s[-1]\n",
    "\n",
    "def pop(): # 삭제 연산\n",
    "    if len(s) != 0:\n",
    "        item = s.pop(-1)      \n",
    "        return item\n",
    "\n",
    "a = ['(', '(', '{', '}', '(', ')', ')', '{', '{', '}', '(', ')', '}', ')']\n",
    "\n",
    "print('입력:', a)\n",
    "s = []\n",
    "result = True\n",
    "for i in a:\n",
    "    if i == '(' or  i == '{':\n",
    "        push(i)\n",
    "    else:\n",
    "        popped_paren = pop()\n",
    "        if i == ')' and popped_paren != '(':\n",
    "            result = False\n",
    "            break\n",
    "        elif i == '}' and popped_paren != '{':\n",
    "            result = False\n",
    "            break\n",
    "\n",
    "if len(s) == 0 and result == True:\n",
    "    print('True')\n",
    "else:\n",
    "    print('False')"
   ]
  },
  {
   "cell_type": "markdown",
   "metadata": {},
   "source": [
    "# 수식의 표기법\n",
    "![%EC%88%98%EC%8B%9D%ED%91%9C%EA%B8%B0%EB%B2%95.png](https://github.com/tenjumh/GraduateSchool/blob/master/Algorithm/1.%20reference%20image/%EC%88%98%EC%8B%9D%ED%91%9C%EA%B8%B0%EB%B2%95.png?raw=true?raw=True)"
   ]
  },
  {
   "cell_type": "code",
   "execution_count": 2,
   "metadata": {},
   "outputs": [
    {
     "name": "stdout",
     "output_type": "stream",
     "text": [
      "결과값 : 2.0\n"
     ]
    }
   ],
   "source": [
    "#2019.10.9   :  후위 표기법 계산 Code\n",
    "def push(item):  # 삽입 연산\n",
    "    stack.append(item)\n",
    "\n",
    "def peek():  # top 항목 접근\n",
    "    if len(stack) != 0:\n",
    "        return stack[-1]\n",
    "\n",
    "def pop():  # 삭제 연산\n",
    "    if len(stack) != 0:\n",
    "        item = stack.pop(-1)\n",
    "        return item\n",
    "\n",
    "def plus():\n",
    "    num2 = pop()\n",
    "    num1 = pop()\n",
    "    stack.append(int(num1) + int(num2))\n",
    "\n",
    "def minus():\n",
    "    num2 = pop()\n",
    "    num1 = pop()\n",
    "    stack.append(int(num1) - int(num2))\n",
    "\n",
    "def divi():\n",
    "    num2 = pop()\n",
    "    num1 = pop()\n",
    "    stack.append(int(num1) / int(num2))\n",
    "\n",
    "def mult():\n",
    "    num2 = pop()\n",
    "    num1 = pop()\n",
    "    stack.append(int(num1) * int(num2))\n",
    "\n",
    "a = \"8 3 2 + 1 - /\"\n",
    "a = a.split()\n",
    "stack = []\n",
    "\n",
    "for i in a:\n",
    "    if i == \"+\":\n",
    "        plus()\n",
    "    elif i == \"-\":\n",
    "        minus()\n",
    "    elif i == \"/\":\n",
    "        divi()\n",
    "    elif i == \"*\":\n",
    "        mult()\n",
    "    else:\n",
    "        stack.append(i)\n",
    "\n",
    "print(\"결과값 :\", stack[0])"
   ]
  },
  {
   "cell_type": "code",
   "execution_count": 3,
   "metadata": {},
   "outputs": [
    {
     "name": "stdout",
     "output_type": "stream",
     "text": [
      "AB+C*\n"
     ]
    }
   ],
   "source": [
    "#2019.10.9   : 중위표기법을 후위표기법으로 Code\n",
    "def push(item):  # 삽입 연산\n",
    "    stack.append(item)\n",
    "\n",
    "def peek():  # top 항목 접근\n",
    "    if len(stack) != 0:\n",
    "        return stack[-1]\n",
    "\n",
    "def pop():  # 삭제 연산\n",
    "    if len(stack) != 0:\n",
    "        item = stack.pop(-1)\n",
    "        return item\n",
    "\n",
    "a = \"(A+B)*C\"\n",
    "#a = \"3*(2+1)\"  # 321+*\n",
    "operator = {\"*\": 2, \"/\": 2, \"+\": 1, \"-\": 1, \"(\": 0}\n",
    "stack = []\n",
    "result = \"\"\n",
    "for i in a:\n",
    "    if i == \"(\":\n",
    "        push(i)\n",
    "    elif i == \")\":\n",
    "        while (peek() != \"(\"):\n",
    "            result += pop()\n",
    "        pop()\n",
    "    elif i in operator:\n",
    "        if (not len(stack) == 0 and operator[peek()] >= operator[i]):\n",
    "            result += pop()\n",
    "        push(i)\n",
    "    else:\n",
    "        result += i\n",
    "while not len(stack) == 0:\n",
    "    result += pop()\n",
    "\n",
    "print(result)"
   ]
  }
 ],
 "metadata": {
  "kernelspec": {
   "display_name": "Python 3",
   "language": "python",
   "name": "python3"
  },
  "language_info": {
   "codemirror_mode": {
    "name": "ipython",
    "version": 3
   },
   "file_extension": ".py",
   "mimetype": "text/x-python",
   "name": "python",
   "nbconvert_exporter": "python",
   "pygments_lexer": "ipython3",
   "version": "3.6.9"
  }
 },
 "nbformat": 4,
 "nbformat_minor": 2
}
