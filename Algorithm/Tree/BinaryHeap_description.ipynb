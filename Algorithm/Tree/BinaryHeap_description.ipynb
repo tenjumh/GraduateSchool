{
 "cells": [
  {
   "cell_type": "markdown",
   "metadata": {},
   "source": [
    "# Binary Heap(이진힙)\n",
    "- 이진힙은 우선순위큐를 구현하는 가장 기본적인 자료구조<br>\n",
    "- 정의: 이진힙은 완전이진트리로서 부모의 우선순위가 자식의 우선순위보다 높은 자료구조<br>\n",
    "- 1차원 리스트로 구현하며 a[0]는 사용하지 않음<br>\n",
    "- 노드들을 \"레벨순회\"순서에 따라 a[1]부터 차례대로 저장<br>\n",
    "- a[i]의 부모 : a[i//2]<br>\n",
    "  a[i]의 왼쪽자식 : a[2i], 오른쪽자식 : a[2i+1]<br>\n",
    "- 이진힙의 종류:<br>\n",
    " 1)최소힙(Minimum Heap): 키 값이 작을수록 높은 우선순위<br>\n",
    " 2)최대힙(Maximim Heap): 키 값이 클수록 높은 우선순위<br>\n",
    "- 최소힙의 루트에는 항상 가장 작은 키가 저장<br>\n",
    "  부모에 저장된 키가 자식의 키보다 작다는 규칙으로<br>\n",
    "  루트는 a[1]에 있으므로, min키를 가진 노드 접근은 o(1)시간소요<br>\n",
    "\n",
    "<b>[우선순위큐(Priority Queue)]</b>\n",
    "- 가장 높은 우선순위를 가진 항목에 접근, 삭제와 임의의 우선순위를 가진 항목을 삽입 지원하는 자료구조\n",
    "- 스택(stack), 큐(queue)도 일정의 우선순위큐<br>\n",
    " 1) 스택: 가장 마지막으로 삽입된 항목이 가장 높은 우선순위, 최근 시간일수록 높은 우선순위 부여<br>\n",
    " 2) 큐: 먼저 삽입된 항목이 우선순위가 더 높음, 이른 시간일수록 높은 우선순위 부여\n",
    " \n",
    "<b>[수행시간]</b>\n",
    "- insert 연산: 삽입된 노드부터 최대 루트까지\n",
    "- delete_min 연산: 마지막 노드를 루트로 이동후 최하층 노드까지\n",
    "- 힙의 높이에 비례: 완전이진트리 힙의 높이 log(N+1)\n",
    "- o(logN)수행시간 소요"
   ]
  },
  {
   "cell_type": "code",
   "execution_count": 6,
   "metadata": {},
   "outputs": [],
   "source": [
    "class BHeap:\n",
    "    def __init__(self, a):   #이진힙 생성자\n",
    "        self.a = a           #리스트 a\n",
    "        self.N = len(a) - 1  #항목 수 N\n",
    "    \n",
    "    def create_heap(self):   #초기 힙 만들기\n",
    "        for i in range(self.N//2, 0, -1):\n",
    "            self.downheap(i)     \n",
    "            \n",
    "    def downheap(self, i):  #힙 내려가며 힙속성 회복\n",
    "        while 2*i <= self.N:\n",
    "            #왼쪽, 오른쪽 자식 중에서 승자 결정\n",
    "            k = 2*i\n",
    "            if k < self.N and self.a[k][0] > self.a[k+1][0]:\n",
    "                k += 1\n",
    "            if self.a[i][0] < self.a[k][0]:   #힙속성 만족하면 루프 나가기\n",
    "                break\n",
    "            self.a[i], self.a[k] = self.a[k], self.a[i]   #자식 승자와 현재 노드 교환\n",
    "            i = k  \n",
    "    \n",
    "    def upheap(self, j):  #힙 올라기며 힙속성 회복\n",
    "        while j > 1 and self.a[j//2][0] > self.a[j][0]:\n",
    "            self.a[j], self.a[j//2] = self.a[j//2], self.a[j]  #부모와 자식 교환\n",
    "            j = j//2    #현재 노드가 한 층 올라감\n",
    "            \n",
    "    def print_heap(self):   #힙 출력\n",
    "        for i in range(1, self.N+1):\n",
    "            print('[%2d'%self.a[i][0], self.a[i][1], ']', end='')\n",
    "        print('\\n힙크기 =', self.N)"
   ]
  },
  {
   "cell_type": "markdown",
   "metadata": {},
   "source": [
    "[최소값 삭제(delete_min)]\n",
    "- 루트의 키를 삭제<br>\n",
    "  [1] 힙의 가장 마지막 노드, 즉, 리스트의 가장 마지막 항목을 루트로 옮기고, <br>\n",
    "     :루트 노드와 마지막 노드 자리교환<br>\n",
    "  [2] 힙 크기를 1 감소시킨다. <br>\n",
    "     :마지막 노드 삭제<br>\n",
    "     :N의 개수 감소<br>\n",
    "  [3] 루트로부터 자식들 중에서 작은 값을 가진 자식 (승자)과 키를 비교하여 힙속성이 만족될 때까지 키를 교환하며 이파리 방향으로 진행 <br>\n",
    "- [3]의 과정은 루트로부터 아래로 내려가며 진행되므로 \"downheap\"이라 부름\n"
   ]
  },
  {
   "cell_type": "code",
   "execution_count": 7,
   "metadata": {},
   "outputs": [],
   "source": [
    "    def delete_min(self):   #최소값 삭제\n",
    "        if self.N == 0:\n",
    "            print('힙이 비어 있음')\n",
    "            return None\n",
    "        minimum = self.a[1]\n",
    "        self.a[1], self.a[-1] = self.a[-1], self.a[1]\n",
    "        del self.a[-1]\n",
    "        self.N -= 1\n",
    "        self.downheap(1)\n",
    "        return minimum"
   ]
  },
  {
   "attachments": {},
   "cell_type": "markdown",
   "metadata": {},
   "source": [
    "[삽입 연산(insert)]\n",
    "- 힙의 마지막 노드 저장<br>\n",
    "  [1] 힙의 마지막 노드(즉, 리스트의 마지막 항목)의 바로 다음 비어있는 원소에 새로운 항목을 저장 <br>\n",
    "  [2] 루트 방향으로 올라가면서 부모의 키와 비교하여 힙속성이 만족될 때까지 노드를 교환<br>\n",
    "- [2]의 과정은 이파리로부터 위로 올라가며 수행되므로 \"upheap\"이라 부름"
   ]
  },
  {
   "cell_type": "code",
   "execution_count": 8,
   "metadata": {},
   "outputs": [],
   "source": [
    "    def insert(self, key_value):   #삽입 연산\n",
    "        self.N += 1\n",
    "        self.a.append(key_value)    #새 항목을 힙 마지막에 추가\n",
    "        self.upheap(self.N)         #힙속성 회복시키기 위해"
   ]
  },
  {
   "cell_type": "markdown",
   "metadata": {},
   "source": [
    "[상향식 힙만들기(Bottom-up Heap Construction)]\n",
    "- 핵심 아이디어<br> \n",
    " 1) 상향식 방식으로 각 노드에 대해 힙속성을 만족하도록 부모와 자식을 서로 교환<br>\n",
    " 2) N개의 항목이 리스트에 임의의 순서로 저장되어 있을 때, 힙을 만들기 위해선 a[N//2]부터 a[1]까지 차례로 downheap을 각각 수행하여 힙속성을 충족시킨다.\n",
    "- a[N//2+1]∼a[N]에 대하여 downheap을 수행하지 않는 이유<br>\n",
    " : 이 노드들 각각은 이파리이므로, 각 노드 스스로가 힙의 크기가 1인 최소힙이기 때문 "
   ]
  },
  {
   "cell_type": "code",
   "execution_count": 10,
   "metadata": {},
   "outputs": [],
   "source": [
    "class BHeap:\n",
    "    def __init__(self, a):   #이진힙 생성자\n",
    "        self.a = a           #리스트 a\n",
    "        self.N = len(a) - 1  #항목 수 N\n",
    "    \n",
    "    def create_heap(self):   #초기 힙 만들기\n",
    "        for i in range(self.N//2, 0, -1):\n",
    "            self.downheap(i)     \n",
    "            \n",
    "    def downheap(self, i):  #힙 내려가며 힙속성 회복\n",
    "        while 2*i <= self.N:\n",
    "            #왼쪽, 오른쪽 자식 중에서 승자 결정\n",
    "            k = 2*i\n",
    "            if k < self.N and self.a[k][0] > self.a[k+1][0]:\n",
    "                k += 1\n",
    "            if self.a[i][0] < self.a[k][0]:   #힙속성 만족하면 루프 나가기\n",
    "                break\n",
    "            self.a[i], self.a[k] = self.a[k], self.a[i]   #자식 승자와 현재 노드 교환\n",
    "            i = k  \n",
    "    \n",
    "    def upheap(self, j):  #힙 올라기며 힙속성 회복\n",
    "        while j > 1 and self.a[j//2][0] > self.a[j][0]:\n",
    "            self.a[j], self.a[j//2] = self.a[j//2], self.a[j]  #부모와 자식 교환\n",
    "            j = j//2    #현재 노드가 한 층 올라감\n",
    "            \n",
    "    def print_heap(self):   #힙 출력\n",
    "        for i in range(1, self.N+1):\n",
    "            print('[%2d'%self.a[i][0], self.a[i][1], ']', end='')\n",
    "        print('\\n힙크기 =', self.N)\n",
    "\n",
    "    def delete_min(self):   #최소값 삭제\n",
    "        if self.N == 0:\n",
    "            print('힙이 비어 있음')\n",
    "            return None\n",
    "        minimum = self.a[1]\n",
    "        self.a[1], self.a[-1] = self.a[-1], self.a[1]\n",
    "        del self.a[-1]\n",
    "        self.N -= 1\n",
    "        self.downheap(1)\n",
    "        return minimum\n",
    "    \n",
    "    def insert(self, key_value):   #삽입 연산\n",
    "        self.N += 1\n",
    "        self.a.append(key_value)    #새 항목을 힙 마지막에 추가\n",
    "        self.upheap(self.N)         #힙속성 회복시키기 위해"
   ]
  },
  {
   "cell_type": "code",
   "execution_count": 12,
   "metadata": {},
   "outputs": [],
   "source": [
    "a = [None] * 1\n",
    "a.append([90, 'watermelon'])\n",
    "a.append([80, 'pear'])\n",
    "a.append([70, 'melon'])\n",
    "a.append([50, 'lime'])\n",
    "a.append([60, 'mango'])\n",
    "a.append([20, 'cherry'])\n",
    "a.append([30, 'grape'])\n",
    "a.append([35, 'orange'])\n",
    "a.append([10, 'apricot'])\n",
    "a.append([15, 'banana'])\n",
    "a.append([45, 'lemon'])\n",
    "a.append([40, 'kiwi'])"
   ]
  },
  {
   "cell_type": "code",
   "execution_count": 13,
   "metadata": {},
   "outputs": [
    {
     "name": "stdout",
     "output_type": "stream",
     "text": [
      "[90 watermelon ][80 pear ][70 melon ][50 lime ][60 mango ][20 cherry ][30 grape ][35 orange ][10 apricot ][15 banana ][45 lemon ][40 kiwi ]\n",
      "힙크기 = 12\n",
      "[10 apricot ][15 banana ][20 cherry ][35 orange ][45 lemon ][40 kiwi ][30 grape ][80 pear ][50 lime ][60 mango ][90 watermelon ][70 melon ]\n",
      "힙크기 = 12\n",
      "[10, 'apricot']\n",
      "[15 banana ][35 orange ][20 cherry ][50 lime ][45 lemon ][40 kiwi ][30 grape ][80 pear ][70 melon ][60 mango ][90 watermelon ]\n",
      "힙크기 = 11\n",
      "[ 5 apple ][35 orange ][15 banana ][50 lime ][45 lemon ][20 cherry ][30 grape ][80 pear ][70 melon ][60 mango ][90 watermelon ][40 kiwi ]\n",
      "힙크기 = 12\n"
     ]
    }
   ],
   "source": [
    "b = BHeap(a)\n",
    "b.print_heap()\n",
    "b.create_heap()\n",
    "\n",
    "b.print_heap()\n",
    "print(b.delete_min())\n",
    "b.print_heap()\n",
    "\n",
    "b.insert([5, 'apple'])\n",
    "b.print_heap()"
   ]
  },
  {
   "cell_type": "code",
   "execution_count": null,
   "metadata": {},
   "outputs": [],
   "source": []
  }
 ],
 "metadata": {
  "kernelspec": {
   "display_name": "Python 3",
   "language": "python",
   "name": "python3"
  },
  "language_info": {
   "codemirror_mode": {
    "name": "ipython",
    "version": 3
   },
   "file_extension": ".py",
   "mimetype": "text/x-python",
   "name": "python",
   "nbconvert_exporter": "python",
   "pygments_lexer": "ipython3",
   "version": "3.6.9"
  }
 },
 "nbformat": 4,
 "nbformat_minor": 2
}
