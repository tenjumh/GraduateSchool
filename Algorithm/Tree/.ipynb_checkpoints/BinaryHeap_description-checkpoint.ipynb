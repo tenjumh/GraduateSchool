{
 "cells": [
  {
   "cell_type": "markdown",
   "metadata": {},
   "source": [
    "# Binary Heap(이진힙)\n",
    "- 이진힙은 우선순위큐를 구현하는 가장 기본적인 자료구조<br>\n",
    "- 정의: 이진힙은 완전이진트리로서 부모의 우선순위가 자식의 우선순위보다 높은 자료구조<br>\n",
    "- 1차원 리스트로 구현하며 a[0]는 사용하지 않음<br>\n",
    "- 노드들을 \"레벨순회\"순서에 따라 a[1]부터 차례대로 저장<br>\n",
    "- a[i]의 부모 : a[i//2]<br>\n",
    "  a[i]의 왼쪽자식 : a[2i], 오른쪽자식 : a[2i+1]<br>\n",
    "- 이진힙의 종류:\n",
    " 1)최소힙(Minimum Heap): 키 값이 작을수록 높은 우선순위\n",
    " 2)최대힙(Maximim Heap): 키 값이 클수록 높은 우선순위\n",
    "- 최소힙의 루트에는 항상 가장 작은 키가 저장\n",
    " > 부모에 저장된 키가 자식의 키보다 작다는 규칙으로\n",
    " > 루트는 a[1]에 있으므로, min키를 가진 노드 접근은 o(1)시간소요\n",
    "\n",
    "[우선순위큐(Priority Queue)]\n",
    "- 가장 높은 우선순위를 가진 항목에 접근, 삭제와 임의의 우선순위를 가진 항목을 삽입 지원하는 자료구조\n",
    "- 스택(stack), 큐(queue)도 일정의 우선순위큐<br>\n",
    " 1) 스택: 가장 마지막으로 삽입된 항목이 가장 높은 우선순위, 최근 시간일수록 높은 우선순위 부여<br>\n",
    " 2) 큐: 먼저 삽입된 항목이 우선순위가 더 높음, 이른 시간일수록 높은 우선순위 부여"
   ]
  },
  {
   "cell_type": "code",
   "execution_count": null,
   "metadata": {},
   "outputs": [],
   "source": [
    "[최소값 삭제(delete_min)]\n"
   ]
  }
 ],
 "metadata": {
  "kernelspec": {
   "display_name": "Python 3",
   "language": "python",
   "name": "python3"
  },
  "language_info": {
   "codemirror_mode": {
    "name": "ipython",
    "version": 3
   },
   "file_extension": ".py",
   "mimetype": "text/x-python",
   "name": "python",
   "nbconvert_exporter": "python",
   "pygments_lexer": "ipython3",
   "version": "3.6.9"
  }
 },
 "nbformat": 4,
 "nbformat_minor": 2
}
