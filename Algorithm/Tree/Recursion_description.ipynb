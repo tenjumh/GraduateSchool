{
 "cells": [
  {
   "cell_type": "markdown",
   "metadata": {},
   "source": [
    "# Recursion(순환)\n",
    "- 순환(recursion): 함수/메소드의 실행 과정 중 스스로를 호출\n",
    "- 팩토리얼, 분기하여 자라나는 트리자료구조, 프랙털 등 기본 개념 사용\n",
    "- 주의점: 자신을 무한 호출 방지해야 함. 조건문으로 제어\n",
    "- Recursion 구성:\n",
    "  1) Base case : 스스로 더 이상 호출하지 않는 부분\n",
    "  2) Recursion case : 스스로 호출하는 부분"
   ]
  },
  {
   "cell_type": "code",
   "execution_count": 1,
   "metadata": {},
   "outputs": [
    {
     "name": "stdout",
     "output_type": "stream",
     "text": [
      "5  *\n",
      "4  *\n",
      "3  *\n",
      "2  *\n",
      "1  *\n",
      ".\n"
     ]
    }
   ],
   "source": [
    "def recurse(count):\n",
    "    if count <= 0:\n",
    "        print('.')\n",
    "    else:\n",
    "        print(count, ' *')\n",
    "        recurse(count-1)\n",
    "recurse(5)"
   ]
  },
  {
   "cell_type": "code",
   "execution_count": 14,
   "metadata": {},
   "outputs": [
    {
     "name": "stdout",
     "output_type": "stream",
     "text": [
      "4 * 3 * 2 * 1 * --> 24\n"
     ]
    }
   ],
   "source": [
    "def factorial(n):\n",
    "    print(n, end=' * ')\n",
    "    if n <= 1:\n",
    "        return 1\n",
    "    else:\n",
    "        return n*factorial(n-1)\n",
    "print(\"-->\", factorial(4))"
   ]
  }
 ],
 "metadata": {
  "kernelspec": {
   "display_name": "Python 3",
   "language": "python",
   "name": "python3"
  },
  "language_info": {
   "codemirror_mode": {
    "name": "ipython",
    "version": 3
   },
   "file_extension": ".py",
   "mimetype": "text/x-python",
   "name": "python",
   "nbconvert_exporter": "python",
   "pygments_lexer": "ipython3",
   "version": "3.6.9"
  }
 },
 "nbformat": 4,
 "nbformat_minor": 2
}
