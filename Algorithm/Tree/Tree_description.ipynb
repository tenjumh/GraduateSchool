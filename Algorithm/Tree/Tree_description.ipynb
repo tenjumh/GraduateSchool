{
 "cells": [
  {
   "cell_type": "markdown",
   "metadata": {},
   "source": [
    "# Tree - 트리\n",
    "- 리스트나 연결리스트 : 데이터를 일렬로 저장하기에 탐색 연산이 순차적 수행되는 단점\n",
    "- 배열은 이진탐색으로 효율적인 탐색이 가능하지만, 삽입/삭제 후에도 정렬상태를 유지해야 하므로 삽입/삭제 o(n)시간소요\n",
    "- 조직이나 기관의 계층구조\n",
    "- 트리구분 (1)일반적 트리, (2)이진 트리\n",
    "- 사용예 : 탐색트리(Search Tree), 힙(Heap), 구문트리 등 응용\n",
    "- *일반적 트리의 정의\n",
    "  - 트리는 empty이거나, empty가 아니면 루트노드 R과 트리의 집합으로 구성되는 각 트리의 루트노드는 R의 자식노드이다.\n",
    "- 용어 정리\n",
    "  - 루트(Root) : 트리의 최상위에 있는 노드\n",
    "  - 자식(Child) : 노드 하위에 연결된 노드\n",
    "  - 차수(Degree) : 자식노드 수\n",
    "  - 부모(Parent) : 노드 상위에 연결된 노드\n",
    "  - 이파리(Leaf) : 자식이 없는 노드 - 단말노드 or 외부노드\n",
    "  - 형제(Sibling) : 동일한 부모를 가지는 노드\n",
    "  - 조상(Ancestor) : 루트까지의 경로상에 있는 모든 노드들의 집합\n",
    "  - 서브트리(Subtree) : 노드 자신과 후손 노드로 구성된 트리\n",
    "  - 레벨 : 루트는 레벨1, 아래로 내려가면서 1씩 증가\n",
    "    == Depth와 동일\n",
    "  - 높이(Height) : 트리의 최대 레벨\n",
    "  - 키(Key) : 탐색에 사용되는 노드에 저장된 정보"
   ]
  },
  {
   "cell_type": "markdown",
   "metadata": {},
   "source": [
    "- 노드 N개, 최대차수 k인 트리\n",
    "  None레퍼런스 수 = Nk-(N-1)\n",
    "  Nk = 총 레퍼런스의 수\n",
    "  (N-1) = 트리에서 부모-자식을 연결하는 레퍼런스 수\n",
    "- k가 클수록 메모리 낭비, 시간적으로도 매우 비효율적"
   ]
  },
  {
   "cell_type": "markdown",
   "metadata": {},
   "source": [
    "# Binary Tree - 이진트리\n",
    "- 자식 수가 2이하인 트리\n",
    "- 효율적인 삽입과 탐색, 이진트리의 서브트리를 다른 서브트리와 교환 용이\n",
    "- *이진트리의 정의 \n",
    "  - 이진트리는 empty이거나, empty가 아니면 루트노드와 2개의 이진트리인 왼쪽/오른쪽 서브트리로 구성"
   ]
  },
  {
   "cell_type": "markdown",
   "metadata": {},
   "source": [
    "[특별한 형태의 이진트리]\n",
    "- 포화이진트리(Full Binary Tree): 각 내부노드가 2개의 자식노드를 가지는 트리\n",
    "- 완전이진트리(Complete Binary Tree): 마지막 레벨을 제외한 각 레벨이 노드들로 꽉 차있고, 마지막 레벨에는 노드들이 왼쪽부터 빠짐없이 채워진 트리\n",
    "- 포화이진트리는 완전이진트리다."
   ]
  },
  {
   "cell_type": "markdown",
   "metadata": {},
   "source": [
    "[이진트리의 속성]\n",
    "- 레벨 k에 있는 최대 노드 수 = 2^(k-1), k=1,2,3,...\n",
    "- 높이가 h인 포화이진트리에 있는 노드 수 = 2^(h)-1\n",
    "- N개의 노드를 가진 완전이진트리의 높이 = log2(N+1)"
   ]
  },
  {
   "cell_type": "markdown",
   "metadata": {},
   "source": [
    "[파이썬 리스트에 저장된 이진트리]\n",
    "![1_0001.jpg](https://github.com/tenjumh/GraduateSchool/blob/master/Algorithm/1.%20reference%20image/%EC%9D%B4%EC%A7%84%ED%8A%B8%EB%A6%AC_%EB%A6%AC%EC%8A%A4%ED%8A%B8%ED%91%9C%ED%98%84.JPG?raw=True)\n",
    "- a[i]의 부모 : a[i//2]\n",
    "- a[i]의 왼쪽자식 : a[2i], 오른쪽자식 : a[2i+1]"
   ]
  },
  {
   "cell_type": "markdown",
   "metadata": {},
   "source": [
    "[설계] - 소요시간 o(n)\n",
    "1. 노드 클래스를 만든다. 노드는 item, 왼쪽, 오른쪽 서브트리 관련 변수 필요\n",
    "2. root를 생성하며, 아무것도 없어야 한다.\n",
    "3. 전위순회<br>\n",
    "   함수 정의<br>\n",
    "   1) 노드가 있다면, 즉 None이 아니라면,<br>\n",
    "      노드의 아이템을 출력하고<br>\n",
    "      -> if로 재귀함수 돌릴 때, 노드없으면 빠져나오게함.<br>\n",
    "   2) 왼쪽 노드부터 재귀를 돌리자<br>\n",
    "   3) 왼쪽 노드가 더이상 없으면 오른쪽 노드부터 재귀를 돌리자<br>\n",
    "   4) 왼쪽 오른쪽 노드 없으면, 상귀 if로 재귀에서 빠져 나옴.<br>\n",
    "4. 중위순회<br>\n",
    "   함수 정의<br>\n",
    "   1) 노드가 있다면,<br>\n",
    "   2) 노드 왼쪽으로 계속 타고 내려감<br>\n",
    "   3) 노드 왼쪽이 없다면 노드의 아이템 출력<br>\n",
    "   4) 부모 노드로 돌아가 출력 후 노드 오른쪽을 계속 타고 내려감<br>\n",
    "   5) 노드 오른쪽이 없다면 부모 노드로 돌아가 2)을 반복<br>\n",
    "5. 후위순회<br>\n",
    "   함수 정의<br>\n",
    "   1) 노드가 있다면,<br>\n",
    "   2) 노드 왼쪽으로 계속 타고 내려감<br>\n",
    "   3) 노드 왼쪽이 없다면 노드의 아이템 출력<br>\n",
    "   4) 부모 노드로 돌아가 노드 오른쪽을 계속 타고 내려감\n",
    "6. 레벨순회<br>\n",
    "   1)"
   ]
  },
  {
   "cell_type": "code",
   "execution_count": 1,
   "metadata": {},
   "outputs": [],
   "source": [
    "class BinaryTree:\n",
    "    class Node:\n",
    "        def __init__(self, item, left=None, right=None):\n",
    "            self.item = item\n",
    "            self.left = left\n",
    "            self.right = right\n",
    "    \n",
    "    def __init__(self): #트리생성자\n",
    "        self.root = None\n",
    "    \n",
    "    def preorder(self, n):  #전위순회\n",
    "        if n != None:\n",
    "            print(str(n.item), ' ', end='-> ')\n",
    "            if n.left:\n",
    "                self.preorder(n.left)\n",
    "            if n.right:\n",
    "                self.preorder(n.right)\n",
    "    \n",
    "    def inorder(self, n):   #중위순회\n",
    "        if n != None:\n",
    "            if n.left:\n",
    "                self.inorder(n.left)\n",
    "            print(str(n.item), ' ', end='-> ')\n",
    "            if n.right:\n",
    "                self.inorder(n.right)\n",
    "    \n",
    "    def postorder(self, n):    #후위순회\n",
    "        if n != None:\n",
    "            if n.left:\n",
    "                self.postorder(n.left)\n",
    "            if n.right:\n",
    "                self.postorder(n.right)\n",
    "            print(str(n.item), ' ', end='-> ')\n",
    "            \n",
    "    def levelorder(self, root):   #레벨순회\n",
    "        q = []\n",
    "        q.append(root)\n",
    "        while len(q) != 0:\n",
    "            t = q.pop(0)\n",
    "            print(str(t.item), ' ', end='')\n",
    "            if t.left != None:\n",
    "                q.append(t.left)\n",
    "            if t.right != None:\n",
    "                q.append(t.right)\n",
    "                \n",
    "    def height(self, root):    #트리 높이 계산\n",
    "        if root == None:\n",
    "            return 0\n",
    "        return max(self.height(root.left), self.height(root.right))+1\n",
    "    \n",
    "    def size(self, root):   #트리 노드 수 계산\n",
    "        if root is None:\n",
    "            return 0\n",
    "        else:\n",
    "            return 1 + self.size(root.left) + self.size(root.right)"
   ]
  },
  {
   "cell_type": "code",
   "execution_count": 48,
   "metadata": {},
   "outputs": [],
   "source": [
    "t = BinaryTree()\n",
    "n1 = t.Node(100)\n",
    "n2 = t.Node(200)\n",
    "n3 = t.Node(300)\n",
    "n4 = t.Node(400)\n",
    "n5 = t.Node(500)\n",
    "n6 = t.Node(600)\n",
    "n7 = t.Node(700)\n",
    "n8 = t.Node(800)\n",
    "n9 = t.Node(900)\n",
    "n10 = t.Node(1000)\n",
    "n1.left = n2\n",
    "n1.right = n3\n",
    "n2.left = n4\n",
    "n2.right = n5\n",
    "n3.left = n6\n",
    "n3.right = n7\n",
    "n4.left = n8\n",
    "n4.right = n9\n",
    "n5.left = n10\n",
    "t.root = n1"
   ]
  },
  {
   "cell_type": "code",
   "execution_count": 46,
   "metadata": {},
   "outputs": [
    {
     "name": "stdout",
     "output_type": "stream",
     "text": [
      "트리 높이 = 4\n",
      "전위순회:\t\n",
      "100  -> 200  -> 400  -> 800  -> 900  -> 500  -> 1000  -> 300  -> 600  -> 700  -> \n",
      "중위순회:\t\n",
      "800  -> 400  -> 900  -> 200  -> 1000  -> 500  -> 100  -> 600  -> 300  -> 700  -> \n",
      "후위순회:\t\n",
      "800  -> 900  -> 400  -> 1000  -> 500  -> 200  -> 600  -> 700  -> 300  -> 100  -> \n",
      "레벨순회:\t\n",
      "100  200  300  400  500  600  700  800  900  1000  "
     ]
    }
   ],
   "source": [
    "print(\"트리 높이 =\", t.height(t.root))\n",
    "print(\"전위순회:\\t\")\n",
    "t.preorder(t.root)\n",
    "print(\"\\n중위순회:\\t\")\n",
    "t.inorder(t.root)\n",
    "print(\"\\n후위순회:\\t\")\n",
    "t.postorder(t.root)\n",
    "print(\"\\n레벨순회:\\t\")\n",
    "t.levelorder(t.root)"
   ]
  }
 ],
 "metadata": {
  "kernelspec": {
   "display_name": "Python 3",
   "language": "python",
   "name": "python3"
  },
  "language_info": {
   "codemirror_mode": {
    "name": "ipython",
    "version": 3
   },
   "file_extension": ".py",
   "mimetype": "text/x-python",
   "name": "python",
   "nbconvert_exporter": "python",
   "pygments_lexer": "ipython3",
   "version": "3.6.9"
  }
 },
 "nbformat": 4,
 "nbformat_minor": 2
}
