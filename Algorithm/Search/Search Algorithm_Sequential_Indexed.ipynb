{
 "cells": [
  {
   "cell_type": "code",
   "execution_count": 5,
   "metadata": {},
   "outputs": [
    {
     "name": "stdout",
     "output_type": "stream",
     "text": [
      "검색할 key:88\n",
      "탐색성공 : 숫자(88) index = 7\n"
     ]
    }
   ],
   "source": [
    "import random\n",
    "\n",
    "def Sequential_search(arr, key, low, high):\n",
    "    for i in range(low, high):\n",
    "        if(arr[i] == key):\n",
    "            return i\n",
    "    return -1\n",
    "\n",
    "key = int(input(\"검색할 key:\"))  # 키값 받기\n",
    "arr = [9,31,88,3,22,15,91,67,55]  # 렌덤하게 \n",
    "arr = sorted(arr)\n",
    "N = len(arr)\n",
    "#순차탐색 알고리즘\n",
    "search = Sequential_search(arr, key, 0, N)\n",
    "if search >= 0:\n",
    "    print(\"탐색성공 : 숫자(%d) index = %d\"%(key, search))\n",
    "else:\n",
    "    print(\"%d : 탐색실패\"%key)"
   ]
  },
  {
   "cell_type": "code",
   "execution_count": 6,
   "metadata": {},
   "outputs": [
    {
     "name": "stdout",
     "output_type": "stream",
     "text": [
      "검색할 key:91\n",
      "탐색 성공: 숫자(91) index = 8\n"
     ]
    }
   ],
   "source": [
    "def Sequential_search(arr, key, low, high):\n",
    "    for i in range(low, high):\n",
    "        if(arr[i] == key):\n",
    "            return i\n",
    "    return -1\n",
    "\n",
    "\n",
    "def Indexed_search(arr, nlist, index, ntbl, key):\n",
    "    # 주테이블 내에 찾는 키값이 있는지 확인\n",
    "    if key < arr[0] or key > arr[-1]:\n",
    "        return -1\n",
    "    \n",
    "    # 없으면\n",
    "    for i in range(ntbl-1):\n",
    "        if index[i][0] <= key and index[i+1][0] > key:\n",
    "            return Sequential_search(arr, key, index[i][1], index[i+1][1])\n",
    "    return Sequential_search(arr, key, index[ntbl-1][1], nlist)\n",
    "\n",
    "arr = [9,31,88,3,22,15,91,67,55]\n",
    "arr = sorted(arr)\n",
    "index = [[3,0], [22,3],[67,6]]\n",
    "ntbl = len(index)\n",
    "N = len(arr)\n",
    "key = int(input(\"검색할 key:\"))  # 키값 받기\n",
    "search = Indexed_search(arr, N, index, ntbl, key)\n",
    "if search >= 0:\n",
    "    print(\"탐색 성공: 숫자(%d) index = %d\"%(key, search))\n",
    "else:\n",
    "    print(\"%d : 탐색실패\"%key)"
   ]
  },
  {
   "cell_type": "code",
   "execution_count": null,
   "metadata": {},
   "outputs": [],
   "source": []
  }
 ],
 "metadata": {
  "kernelspec": {
   "display_name": "Python 3",
   "language": "python",
   "name": "python3"
  },
  "language_info": {
   "codemirror_mode": {
    "name": "ipython",
    "version": 3
   },
   "file_extension": ".py",
   "mimetype": "text/x-python",
   "name": "python",
   "nbconvert_exporter": "python",
   "pygments_lexer": "ipython3",
   "version": "3.6.9"
  }
 },
 "nbformat": 4,
 "nbformat_minor": 2
}
