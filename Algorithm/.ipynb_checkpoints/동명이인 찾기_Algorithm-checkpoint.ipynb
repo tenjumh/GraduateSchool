{
 "cells": [
  {
   "cell_type": "code",
   "execution_count": 16,
   "metadata": {},
   "outputs": [],
   "source": [
    "# 두 번 이상 나온 이름 찾기\n",
    "# 입력: 이름이 n개 들어 있는 리스트\n",
    "# 출력: 이름 n개 중 반복되는 이름의 집합\n",
    "\n",
    "def find_same_name(a):\n",
    "    n = len(a)   # 리스트의 자료 개수를 n에 저장\n",
    "    result = set()  # 결과를 저장할 빈 집합\n",
    "    for i in range(0, n - 1):      # 0부터 n-2까지 반복\n",
    "        for j in range(i + 1, n):  # i+1부터 n-1까지 반복\n",
    "            if a[i] == a[j]:       # 이름이 같으면\n",
    "                result.add(a[i])  # 찾은 이름을 result에 추가\n",
    "    return result"
   ]
  },
  {
   "cell_type": "code",
   "execution_count": 17,
   "metadata": {},
   "outputs": [
    {
     "name": "stdout",
     "output_type": "stream",
     "text": [
      "{'Mike', 'Jerry', 'Tom'}\n",
      "{'Mike', 'Tom'}\n"
     ]
    }
   ],
   "source": [
    "name = [\"Tom\", \"Jerry\", \"Mike\", \"Tom\", \"Jerry\", \"Tom\", \"Mike\", \"Tom\"]  # 대소문자 유의: 파이썬은 대소문자를 구분함\n",
    "print(find_same_name(name))\n",
    "\n",
    "name2 = [\"Tom\", \"Jerry\", \"Mike\", \"Tom\", \"Mike\"]\n",
    "print(find_same_name(name2))"
   ]
  },
  {
   "cell_type": "code",
   "execution_count": 4,
   "metadata": {},
   "outputs": [
    {
     "name": "stdout",
     "output_type": "stream",
     "text": [
      "{'Tom': {0, 3, 5, 7}, 'Jerry': {1, 4}, 'Mike': {2, 6}}\n",
      "{'Tom': {0, 3}, 'Mike': {2, 4}}\n"
     ]
    }
   ],
   "source": [
    "def find_same_name(a):\n",
    "    n = len(a)   # 리스트의 자료 개수를 n에 저장\n",
    "    result = {}  # 결과를 저장할 빈 집합\n",
    "    for i in range(0, n - 1):      # 0부터 n-2까지 반복\n",
    "        for j in range(i + 1, n):  # i+1부터 n-1까지 반복\n",
    "            if a[i] == a[j]:       # 이름이 같으면\n",
    "                if a[i] in result:\n",
    "                    result[a[i]].add(i)\n",
    "                    result[a[i]].add(j)\n",
    "                else:\n",
    "                    result[a[i]] = set([i,j])\n",
    "    return result\n",
    "\n",
    "name = [\"Tom\", \"Jerry\", \"Mike\", \"Tom\",\"Jerry\",\"Tom\",\"Mike\",\"Tom\"]  # 대소문자 유의: 파이썬은 대소문자를 구분함\n",
    "print(find_same_name(name))\n",
    "\n",
    "name2 = [\"Tom\", \"Jerry\", \"Mike\", \"Tom\", \"Mike\"]\n",
    "print(find_same_name(name2))"
   ]
  },
  {
   "cell_type": "code",
   "execution_count": 13,
   "metadata": {},
   "outputs": [
    {
     "name": "stdout",
     "output_type": "stream",
     "text": [
      "{'Tom': {0, 3, 5, 7}, 'Jerry': {1, 4}, 'Mike': {2, 6}}\n",
      "{'Tom': {0, 3}, 'Mike': {2, 4}}\n"
     ]
    }
   ],
   "source": [
    "def find_same_name(a):\n",
    "    result = {}\n",
    "    for i,name in enumerate(a):\n",
    "        if name in result:\n",
    "            result[name].add(i)\n",
    "        else:\n",
    "            result[name] = set([i])\n",
    "    result = {name:value for name, value in result.items() if len(value) >= 2}\n",
    "    return result\n",
    "\n",
    "name = [\"Tom\", \"Jerry\", \"Mike\", \"Tom\",\"Jerry\",\"Tom\",\"Mike\",\"Tom\"]  # 대소문자 유의: 파이썬은 대소문자를 구분함\n",
    "print(find_same_name(name))\n",
    "\n",
    "name2 = [\"Tom\", \"Jerry\", \"Mike\", \"Tom\", \"Mike\"]\n",
    "print(find_same_name(name2))"
   ]
  },
  {
   "cell_type": "code",
   "execution_count": 21,
   "metadata": {},
   "outputs": [
    {
     "name": "stdout",
     "output_type": "stream",
     "text": [
      "[['Tom', 3], ['Tom', 5], ['Tom', 7], ['Tom', 0], ['Jerry', 4], ['Jerry', 1], ['Mike', 6], ['Mike', 2]]\n",
      "[['Tom', 3], ['Tom', 0], ['Jerry', 1], ['Mike', 4], ['Mike', 2]]\n"
     ]
    }
   ],
   "source": [
    "# 두 번 이상 나온 이름 찾기\n",
    "# 입력: 이름이 n개 들어 있는 리스트\n",
    "# 출력: 이름 n개 중 반복되는 이름의 집합\n",
    "\n",
    "def find_same_name(a):\n",
    "    n = len(a)   # 리스트의 자료 개수를 n에 저장\n",
    "    result_set = set()  # 결과를 저장할 빈 집합\n",
    "    result_list = []\n",
    "    for i in range(0, n - 1):      # 0부터 n-2까지 반복\n",
    "        if a[i] not in result_set:\n",
    "            for j in range(i + 1, n):  # i+1부터 n-1까지 반복\n",
    "                if a[i] == a[j]:       # 이름이 같으면\n",
    "                    result_set.add(a[i])  # 찾은 이름을 result에 추가\n",
    "                    result_list.append([a[i], j])\n",
    "            result_list.append([a[i], i])\n",
    "            \n",
    "    return result_list\n",
    "\n",
    "name = [\"Tom\", \"Jerry\", \"Mike\", \"Tom\",\"Jerry\",\"Tom\",\"Mike\",\"Tom\"]  # 대소문자 유의: 파이썬은 대소문자를 구분함\n",
    "print(find_same_name(name))\n",
    "\n",
    "name2 = [\"Tom\", \"Jerry\", \"Mike\", \"Tom\", \"Mike\"]\n",
    "print(find_same_name(name2))"
   ]
  },
  {
   "cell_type": "code",
   "execution_count": null,
   "metadata": {},
   "outputs": [],
   "source": []
  },
  {
   "cell_type": "code",
   "execution_count": null,
   "metadata": {},
   "outputs": [],
   "source": []
  }
 ],
 "metadata": {
  "kernelspec": {
   "display_name": "Python 3",
   "language": "python",
   "name": "python3"
  },
  "language_info": {
   "codemirror_mode": {
    "name": "ipython",
    "version": 3
   },
   "file_extension": ".py",
   "mimetype": "text/x-python",
   "name": "python",
   "nbconvert_exporter": "python",
   "pygments_lexer": "ipython3",
   "version": "3.6.9"
  }
 },
 "nbformat": 4,
 "nbformat_minor": 2
}
