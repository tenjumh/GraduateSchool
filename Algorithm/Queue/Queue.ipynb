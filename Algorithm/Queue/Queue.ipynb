{
 "cells": [
  {
   "cell_type": "markdown",
   "metadata": {},
   "source": [
    "# Queue 큐\n",
    "\n",
    "- 삽입과 삭제가 양 끝에서 각각 수행되는 자료구조\n",
    "- 선입 선출(First-In First-Out, FIFO) "
   ]
  },
  {
   "cell_type": "code",
   "execution_count": 13,
   "metadata": {},
   "outputs": [],
   "source": [
    "def add(item):\n",
    "    q.append(item)\n",
    "\n",
    "def remove():\n",
    "    if len(q) != 0:\n",
    "        item = q.pop(0)\n",
    "        return item\n",
    "\n",
    "def print_q():\n",
    "    print('front -> ', end='')\n",
    "    for i in range(len(q)):\n",
    "        print('{!s:<8}'.format(q[i]), end='')  #맨 앞부터 항목을 차례로 출력\n",
    "    print('<- rear')"
   ]
  },
  {
   "cell_type": "code",
   "execution_count": 14,
   "metadata": {},
   "outputs": [
    {
     "name": "stdout",
     "output_type": "stream",
     "text": [
      "front -> apple   orange  cherry  pear    <- rear\n"
     ]
    }
   ],
   "source": [
    "q = []\n",
    "add('apple')\n",
    "add('orange')\n",
    "add('cherry')\n",
    "add('pear')\n",
    "print_q()"
   ]
  },
  {
   "cell_type": "code",
   "execution_count": 15,
   "metadata": {},
   "outputs": [
    {
     "name": "stdout",
     "output_type": "stream",
     "text": [
      "front -> orange  cherry  pear    <- rear\n"
     ]
    }
   ],
   "source": [
    "remove()\n",
    "print_q()"
   ]
  },
  {
   "cell_type": "code",
   "execution_count": 16,
   "metadata": {},
   "outputs": [
    {
     "name": "stdout",
     "output_type": "stream",
     "text": [
      "front -> cherry  pear    <- rear\n"
     ]
    }
   ],
   "source": [
    "remove()\n",
    "print_q()"
   ]
  },
  {
   "cell_type": "code",
   "execution_count": 17,
   "metadata": {},
   "outputs": [
    {
     "name": "stdout",
     "output_type": "stream",
     "text": [
      "front -> cherry  pear    grape   <- rear\n"
     ]
    }
   ],
   "source": [
    "add('grape')\n",
    "print_q()"
   ]
  },
  {
   "cell_type": "markdown",
   "metadata": {},
   "source": [
    "# 단순연결리스트로 구현한 큐"
   ]
  },
  {
   "cell_type": "code",
   "execution_count": 21,
   "metadata": {},
   "outputs": [],
   "source": [
    "class Node:\n",
    "    def __init__(self, item, n):  #노드 생성자 - 항목과 다음 노드 레퍼런스\n",
    "        self.item = item\n",
    "        self.next = n\n",
    "\n",
    "def add(item): \n",
    "    # 초기 변수를 정의한다.\n",
    "    global size\n",
    "    global front\n",
    "    global rear\n",
    "    new_node = Node(item, None)\n",
    "    if size == 0:\n",
    "        front = new_node\n",
    "    else:\n",
    "        rear.next = new_node\n",
    "    rear = new_node\n",
    "    size += 1\n",
    "    \n",
    "def remove():\n",
    "    global size\n",
    "    global front\n",
    "    global rear\n",
    "    if size != 0:\n",
    "        fitem = front.item\n",
    "        front = front.next  #연결리스트에서 front가 참조하던 노드 분리\n",
    "        size -= 1\n",
    "        if size == 0:\n",
    "            rear = None\n",
    "        return fitem    #제거된 맨 앞의 항목 리턴\n",
    "    \n",
    "def print_q():\n",
    "    p = front\n",
    "    print('front: ', end='')\n",
    "    while p:\n",
    "        if p.next != None:\n",
    "            print(p.item, '-> ', end='')\n",
    "        else:\n",
    "            print(p.item, end='')\n",
    "        p = p.next\n",
    "    print(' : rear')\n"
   ]
  },
  {
   "cell_type": "code",
   "execution_count": 22,
   "metadata": {},
   "outputs": [
    {
     "name": "stdout",
     "output_type": "stream",
     "text": [
      "front: apple -> orange -> cherry -> pear : rear\n"
     ]
    }
   ],
   "source": [
    "size = 0\n",
    "front = None\n",
    "rear = None\n",
    "add('apple')\n",
    "add('orange')\n",
    "add('cherry')\n",
    "add('pear')\n",
    "print_q()"
   ]
  },
  {
   "cell_type": "code",
   "execution_count": 23,
   "metadata": {},
   "outputs": [
    {
     "name": "stdout",
     "output_type": "stream",
     "text": [
      "front: orange -> cherry -> pear : rear\n"
     ]
    }
   ],
   "source": [
    "remove()\n",
    "print_q()"
   ]
  },
  {
   "cell_type": "code",
   "execution_count": 24,
   "metadata": {},
   "outputs": [
    {
     "name": "stdout",
     "output_type": "stream",
     "text": [
      "front: cherry -> pear : rear\n"
     ]
    }
   ],
   "source": [
    "remove()\n",
    "print_q()"
   ]
  },
  {
   "cell_type": "code",
   "execution_count": 25,
   "metadata": {},
   "outputs": [
    {
     "name": "stdout",
     "output_type": "stream",
     "text": [
      "front: cherry -> pear -> grape : rear\n"
     ]
    }
   ],
   "source": [
    "add('grape')\n",
    "print_q()"
   ]
  }
 ],
 "metadata": {
  "kernelspec": {
   "display_name": "Python 3",
   "language": "python",
   "name": "python3"
  },
  "language_info": {
   "codemirror_mode": {
    "name": "ipython",
    "version": 3
   },
   "file_extension": ".py",
   "mimetype": "text/x-python",
   "name": "python",
   "nbconvert_exporter": "python",
   "pygments_lexer": "ipython3",
   "version": "3.6.9"
  }
 },
 "nbformat": 4,
 "nbformat_minor": 2
}
