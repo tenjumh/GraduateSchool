{
 "cells": [
  {
   "attachments": {},
   "cell_type": "markdown",
   "metadata": {},
   "source": [
    "# Selection Sort\n",
    "\n",
    "[문제]마라톤 경기를 관람하였다. 경기에 참가한 마라톤 선수 수, 번호, 기록(초 단위)을 입력 받은 후, 기록을 기준으로 오름차순으로 정렬한 후, 시, 분, 초 단위로 출력하는 프로그램을 작성하라.<br>\n",
    "Step 1) 참가한 마라토너의 수를 입력 받는다.<br>\n",
    "Step 2) 참가한 모든 마라토너의 기록을 초 단위로 입력 받는다. <br> \n",
    "Step 3) 경기 기록을 기준으로 오름 차순으로 정렬한다.<br>\n",
    "Step 4) 1, 2, 3 등에 대하여 번호, 시, 분, 초 단위로 출력하라.<br>"
   ]
  },
  {
   "cell_type": "code",
   "execution_count": 5,
   "metadata": {},
   "outputs": [
    {
     "name": "stdout",
     "output_type": "stream",
     "text": [
      "마라토너의 수를 입력하시오:8\n",
      "마라토너의 기록을 초단위로 입력:534\n",
      "마라토너의 기록을 초단위로 입력:324\n",
      "마라토너의 기록을 초단위로 입력:454\n",
      "마라토너의 기록을 초단위로 입력:76\n",
      "마라토너의 기록을 초단위로 입력:546\n",
      "마라토너의 기록을 초단위로 입력:875\n",
      "마라토너의 기록을 초단위로 입력:34\n",
      "마라토너의 기록을 초단위로 입력:866\n",
      "\n",
      "**(Selection_sort)**\n",
      "정렬 전 :[534, 324, 454, 76, 546, 875, 34, 866]\n",
      "Step 1 :[34, 324, 454, 76, 546, 875, 534, 866]\n",
      "Step 2 :[34, 76, 454, 324, 546, 875, 534, 866]\n",
      "Step 3 :[34, 76, 324, 454, 546, 875, 534, 866]\n",
      "Step 4 :[34, 76, 324, 454, 546, 875, 534, 866]\n",
      "Step 5 :[34, 76, 324, 454, 534, 875, 546, 866]\n",
      "Step 6 :[34, 76, 324, 454, 534, 546, 875, 866]\n",
      "Step 7 :[34, 76, 324, 454, 534, 546, 866, 875]\n",
      "정렬 후 :[34, 76, 324, 454, 534, 546, 866, 875]\n",
      "\n",
      "1 등 : 0시간 0분 34초\n",
      "2 등 : 0시간 1분 16초\n",
      "3 등 : 0시간 5분 24초\n"
     ]
    }
   ],
   "source": [
    "def selection_sort(a):\n",
    "    print(\"\\n**(Selection_sort)**\")\n",
    "    print(\"정렬 전 :{}\".format(records))\n",
    "    for i in range(0, len(a)-1):\n",
    "        minimum = i\n",
    "        for j in range(i, len(a)):\n",
    "            if a[minimum] > a[j]:\n",
    "                minimum = j\n",
    "        a[i], a[minimum] = a[minimum], a[i]\n",
    "        print(\"Step {} :{}\".format(i+1, records))\n",
    "    print(\"정렬 후 :{}\\n\".format(records))\n",
    "    for k in range(3):\n",
    "        hour = records[k] // (60*60)\n",
    "        min = (records[k]-hour*60*60) // 60\n",
    "        sec = records[k] % 60\n",
    "        print(\"{} 등 : {}시간 {}분 {}초\".format(k+1, hour, min, sec))\n",
    "\n",
    "player = int(input(\"마라토너의 수를 입력하시오:\"))\n",
    "records = [0]*player\n",
    "for i in range(player):\n",
    "    records[i] = int(input(\"마라토너의 기록을 초단위로 입력:\"))\n",
    "\n",
    "selection_sort(records)"
   ]
  },
  {
   "cell_type": "code",
   "execution_count": null,
   "metadata": {},
   "outputs": [],
   "source": []
  }
 ],
 "metadata": {
  "kernelspec": {
   "display_name": "Python 3",
   "language": "python",
   "name": "python3"
  },
  "language_info": {
   "codemirror_mode": {
    "name": "ipython",
    "version": 3
   },
   "file_extension": ".py",
   "mimetype": "text/x-python",
   "name": "python",
   "nbconvert_exporter": "python",
   "pygments_lexer": "ipython3",
   "version": "3.6.9"
  }
 },
 "nbformat": 4,
 "nbformat_minor": 2
}
