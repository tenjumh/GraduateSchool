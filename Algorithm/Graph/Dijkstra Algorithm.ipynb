{
 "cells": [
  {
   "cell_type": "code",
   "execution_count": 3,
   "metadata": {},
   "outputs": [
    {
     "name": "stdout",
     "output_type": "stream",
     "text": [
      "정점  0 (으)로부터 최단거리:\n",
      "[0, 0] = 0\n",
      "[0, 1] = 18\n",
      "[0, 2] = 5\n",
      "[0, 3] = 20\n",
      "[0, 4] = 47\n",
      "[0, 5] = 12\n",
      "[0, 6] = 32\n",
      "[0, 7] = 22\n",
      "[0, 8] = 32\n",
      "\n",
      "정점  0 으로부터의 최단 경로\n",
      "0\n",
      "1 <- 0\n",
      "2 <- 0\n",
      "3 <- 2 <- 0\n",
      "4 <- 6 <- 5 <- 2 <- 0\n",
      "5 <- 2 <- 0\n",
      "6 <- 5 <- 2 <- 0\n",
      "7 <- 5 <- 2 <- 0\n",
      "8 <- 7 <- 5 <- 2 <- 0\n"
     ]
    }
   ],
   "source": [
    "import sys\n",
    "N = 9\n",
    "s = 0\n",
    "g = [None] * N\n",
    "g[0] = [(1,18),(2,5)]\n",
    "g[1] = [(0,18),(3,5)]\n",
    "g[2] = [(0,5),(3,15),(5,7)]\n",
    "g[3] = [(1,5),(2,15)]\n",
    "g[4] = [(6,15)]\n",
    "g[5] = [(2,7),(6,20),(7,10)]\n",
    "g[6] = [(4,15),(5,20),(8,12)]\n",
    "g[7] = [(5,10),(8,10)]\n",
    "g[8] = [(6,12),(7,10)]\n",
    "\n",
    "visited = [False] * N\n",
    "D = [sys.maxsize] * N\n",
    "D[s] = 0\n",
    "previous = [None] * N\n",
    "previous[s] = s\n",
    "\n",
    "for k in range(N):\n",
    "    m = -1\n",
    "    min_value = sys.maxsize\n",
    "    for j in range(N):\n",
    "        if not visited[j] and D[j] < min_value:\n",
    "            min_value = D[j]\n",
    "            m = j\n",
    "    visited[m] = True\n",
    "    for w, wt in list(g[m]):\n",
    "        if not visited[w]:\n",
    "            if D[m]+wt < D[w]:\n",
    "                D[w] = D[m] + wt\n",
    "                previous[w] = m\n",
    "\n",
    "print('정점 ', s,'(으)로부터 최단거리:')\n",
    "for i in range(N):\n",
    "    if D[i] == sys.maxsize:\n",
    "        print(s, '와 ', i, ' 사이에 경로 없음.')\n",
    "    else:\n",
    "        print('[%d, %d]'%(s,i), '=', D[i])\n",
    "print('\\n정점 ',s,'으로부터의 최단 경로')\n",
    "for i in range(N):\n",
    "    back = i\n",
    "    print(back, end='')\n",
    "    while back !=s:\n",
    "        print(' <-', previous[back], end='')\n",
    "        back = previous[back]\n",
    "    print()"
   ]
  },
  {
   "cell_type": "code",
   "execution_count": null,
   "metadata": {},
   "outputs": [],
   "source": []
  }
 ],
 "metadata": {
  "kernelspec": {
   "display_name": "Python 3",
   "language": "python",
   "name": "python3"
  },
  "language_info": {
   "codemirror_mode": {
    "name": "ipython",
    "version": 3
   },
   "file_extension": ".py",
   "mimetype": "text/x-python",
   "name": "python",
   "nbconvert_exporter": "python",
   "pygments_lexer": "ipython3",
   "version": "3.6.9"
  }
 },
 "nbformat": 4,
 "nbformat_minor": 2
}
