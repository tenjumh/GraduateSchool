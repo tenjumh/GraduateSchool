{
 "cells": [
  {
   "cell_type": "markdown",
   "metadata": {},
   "source": [
    "# 그래프에 대한 기본 설명과 실습\n",
    "- 활용 : 인터넷, 도로, 운송, 전력, 상하수도망, 신경망, 화학성분 결합, 단백질 네트워크, 금융 네트워크, 소셜네트워크 분석 등\n",
    "- 1) 용어 이해\n",
    "- 2) 그래프의 기본연산 : 깊이우선탐색(Depth First Search, DFS)과 너비우선탐색(Breath First Search, BFS)\n",
    "- 3) 연결성분 찾는 방법 : 이중연결성분과 강연결성분\n",
    "- 4) 위상 정렬\n",
    "- 5) 가중치 그래프에서 최소신장트리를 찾기 위한 알고리즘들과 최단경로 찾는 알고리즘"
   ]
  },
  {
   "attachments": {},
   "cell_type": "markdown",
   "metadata": {},
   "source": [
    "<b>1. 그래프 용어</b>\n",
    "- 그래프 : 정점(V)과 간선(E)의 집합, 하나의 간선은 두 개의 정점을 연결\n",
    "- 그래프 G = (V, E)   ->   V는 정점의 집합, E는 간선의 집합\n",
    "- 간선에 방향 있음 : 방향 그래프, 간선에 방향 없음 : 무방향 그래프\n",
    "![무방향](https://github.com/tenjumh/GraduateSchool/blob/master/Algorithm/1.%20reference%20image/%EB%AC%B4%EB%B0%A9%ED%96%A5%EA%B7%B8%EB%9E%98%ED%94%84.png?raw=True)\n",
    "![방향](https://github.com/tenjumh/GraduateSchool/blob/master/Algorithm/1.%20reference%20image/%EB%B0%A9%ED%96%A5%20%EA%B7%B8%EB%9E%98%ED%94%84.png?raw=True)\n",
    "- 정점 a와 b를 연결하는 간선을 (a, b)로 표현\n",
    "- 정점 a에서 b로 간선의 방향이 있는 경우 <a, b>로 표현\n",
    "- 차수(Degree): 정점에 인접한 정점의 수\n",
    "- 방향 그래프에서는 차수를 진입 차수(In-degree)와 진출 차수(Out-degree)로 구분\n",
    "- 그림(a) 정점 a의 차수 = 3, 정점 e의 차수 = 2\n",
    "- 그림(b) 정점 g의 진입 차수 = 3, 진출 차수 = 1\n",
    "- 경로(Path) : 시작 정점 u부터 도착점 v까지의 정점들을 나열\n",
    "- 단순 경로(Simple Path): 경로 상의 정점들이 모두 다른 경로\n",
    "- 싸이클(Cycle): 시작 정점과 도착점이 동일한 단순 경로"
   ]
  },
  {
   "cell_type": "markdown",
   "metadata": {},
   "source": [
    "- 연결성분"
   ]
  },
  {
   "cell_type": "code",
   "execution_count": null,
   "metadata": {},
   "outputs": [],
   "source": []
  },
  {
   "cell_type": "markdown",
   "metadata": {},
   "source": [
    "![푸리에 변환](https://github.com/tenjumh/GraduateSchool/blob/master/Study/Fourier%20Transform/dscription%20image/%ED%91%B8%EB%A6%AC%EC%97%90%20%EB%B3%80%ED%99%98.JPG?raw=True)"
   ]
  }
 ],
 "metadata": {
  "kernelspec": {
   "display_name": "Python 3",
   "language": "python",
   "name": "python3"
  },
  "language_info": {
   "codemirror_mode": {
    "name": "ipython",
    "version": 3
   },
   "file_extension": ".py",
   "mimetype": "text/x-python",
   "name": "python",
   "nbconvert_exporter": "python",
   "pygments_lexer": "ipython3",
   "version": "3.6.9"
  }
 },
 "nbformat": 4,
 "nbformat_minor": 2
}
