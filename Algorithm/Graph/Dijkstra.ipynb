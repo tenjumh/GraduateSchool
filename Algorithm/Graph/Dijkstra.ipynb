{
 "cells": [
  {
   "cell_type": "code",
   "execution_count": 1,
   "metadata": {},
   "outputs": [],
   "source": [
    "import sys\n",
    "\n",
    "N = 8\n",
    "s = 0\n",
    "g = [None] * N\n",
    "g[0] = [(1,1), (3,2)]\n",
    "g[1] = [(0,1), (2,4), (3,3), (4,1), (5,6)]\n",
    "g[2] = [(1,4), (5,1), (6,1), (7,2)]\n",
    "g[3] = [(0,2), (1,3), (4,5)]\n",
    "g[4] = [(1,1), (3,5), (6,2)]\n",
    "g[5] = [(1,6), (2,1), (7,9)]\n",
    "g[6] = [(2,1), (4,2), (7,1)]\n",
    "g[7] = [(2,2), (5,9), (6,1)]\n",
    "\n",
    "visited = [False] * N\n",
    "D = [sys.maxsize] * N\n",
    "D[s] = 0\n",
    "previous = [None] * N\n",
    "previous[s] = s"
   ]
  },
  {
   "cell_type": "code",
   "execution_count": 5,
   "metadata": {},
   "outputs": [
    {
     "name": "stdout",
     "output_type": "stream",
     "text": [
      "정점 0 (으)로부터 최단거리:\n",
      "[0, 0] = 0\n",
      "[0, 1] = 1\n",
      "[0, 2] = 5\n",
      "[0, 3] = 2\n",
      "[0, 4] = 2\n",
      "[0, 5] = 6\n",
      "[0, 6] = 4\n",
      "[0, 7] = 5\n",
      "\n",
      "정점 0 (으)로부터의 최단 경로\n",
      "0\n",
      "1 <- 0\n",
      "2 <- 1 <- 0\n",
      "3 <- 0\n",
      "4 <- 1 <- 0\n",
      "5 <- 2 <- 1 <- 0\n",
      "6 <- 4 <- 1 <- 0\n",
      "7 <- 6 <- 4 <- 1 <- 0\n"
     ]
    }
   ],
   "source": [
    "for k in range(N):\n",
    "    m = -1\n",
    "    min_value = sys.maxsize\n",
    "    for j in range(N):\n",
    "        if not visited[j] and D[j] < min_value:\n",
    "            min_value = D[j]\n",
    "            m = j\n",
    "    visited[m] = True\n",
    "    for v, wt in list(g[m]):\n",
    "        if not visited[v]:\n",
    "            if D[m]+wt < D[v]:\n",
    "                D[v] = D[m] + wt\n",
    "                previous[v] = m\n",
    "\n",
    "print('정점', s,'(으)로부터 최단거리:')\n",
    "for i in  range(N):\n",
    "    if D[i] == sys.maxsize:\n",
    "        print(s, '와(과)', i,'사이에 경로 없음.')\n",
    "    else:\n",
    "        print('[%d, %d]'%(s, i), '=', D[i])\n",
    "\n",
    "print('\\n정점', s, '(으)로부터의 최단 경로')\n",
    "for i in range(N):\n",
    "    back = i\n",
    "    print(back, end='')\n",
    "    while back != s:\n",
    "        print(' <-', previous[back], end='')\n",
    "        back = previous[back]\n",
    "    print()"
   ]
  },
  {
   "cell_type": "code",
   "execution_count": null,
   "metadata": {},
   "outputs": [],
   "source": []
  },
  {
   "cell_type": "code",
   "execution_count": null,
   "metadata": {},
   "outputs": [],
   "source": []
  }
 ],
 "metadata": {
  "kernelspec": {
   "display_name": "Python 3",
   "language": "python",
   "name": "python3"
  },
  "language_info": {
   "codemirror_mode": {
    "name": "ipython",
    "version": 3
   },
   "file_extension": ".py",
   "mimetype": "text/x-python",
   "name": "python",
   "nbconvert_exporter": "python",
   "pygments_lexer": "ipython3",
   "version": "3.6.9"
  }
 },
 "nbformat": 4,
 "nbformat_minor": 2
}
