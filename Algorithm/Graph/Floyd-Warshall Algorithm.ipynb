{
 "cells": [
  {
   "cell_type": "code",
   "execution_count": 3,
   "metadata": {},
   "outputs": [
    {
     "name": "stdout",
     "output_type": "stream",
     "text": [
      "  0  5  9 11  3 10  8\n",
      "  5  0  4  6  2  6  7\n",
      "  9  4  0  2  6 10  6\n",
      " 11  6  2  0  8  9  4\n",
      "  3  2  6  8  0  8  5\n",
      " 10  6 10  9  8  0 13\n",
      "  8  7  6  4  5 13  0\n"
     ]
    }
   ],
   "source": [
    "import sys\n",
    "N = 7\n",
    "INF = sys.maxsize\n",
    "D = [[0,7,INF,INF,3,10,INF], [7,0,4,10,2,6,INF],\n",
    "    [INF,4,0,2,INF,INF,INF], [INF,10,2,0,11,9,4],\n",
    "    [3,2,INF,11,0,INF,5], [10,6,INF,9,INF,0,INF],\n",
    "     [INF,INF,INF,4,5,INF,0]]\n",
    "\n",
    "for k in range(N):\n",
    "    for i in range(N):\n",
    "        for j in range(N):\n",
    "            D[i][j] = min(D[i][j], D[i][k]+D[k][j])\n",
    "            \n",
    "for i in range(N):\n",
    "    for j in range(N):\n",
    "        print('%3d'%D[i][j], end='')\n",
    "    print()"
   ]
  },
  {
   "cell_type": "code",
   "execution_count": null,
   "metadata": {},
   "outputs": [],
   "source": []
  }
 ],
 "metadata": {
  "kernelspec": {
   "display_name": "Python 3",
   "language": "python",
   "name": "python3"
  },
  "language_info": {
   "codemirror_mode": {
    "name": "ipython",
    "version": 3
   },
   "file_extension": ".py",
   "mimetype": "text/x-python",
   "name": "python",
   "nbconvert_exporter": "python",
   "pygments_lexer": "ipython3",
   "version": "3.6.9"
  }
 },
 "nbformat": 4,
 "nbformat_minor": 2
}
