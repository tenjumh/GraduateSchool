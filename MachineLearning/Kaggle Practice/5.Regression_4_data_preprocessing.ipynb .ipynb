{
 "cells": [
  {
   "cell_type": "markdown",
   "metadata": {},
   "source": [
    "# 선형회귀모델을 위한 데이터 변환\n",
    "- 피처값과 타깃값의 분표가 정규분포 형태가 아닌 특정값의 분표가 치우친 왜곡된 형태의 분포도일 경우 예측 성능에 부정적인 영향을 미침 (피처값보다 타깃값이 영향을 더 받음)\n",
    "- 따라서 선형회귀를 적용하기 전에 스케일링과 정규화작업이 필요"
   ]
  },
  {
   "cell_type": "code",
   "execution_count": 14,
   "metadata": {},
   "outputs": [],
   "source": [
    "from sklearn.linear_model import Ridge\n",
    "from sklearn.model_selection import cross_val_score\n",
    "import numpy as np\n",
    "import matplotlib.pyplot as plt\n",
    "import pandas as pd\n",
    "import seaborn as sns\n",
    "from scipy import stats\n",
    "from sklearn.datasets import load_boston\n",
    "from sklearn.model_selection import train_test_split\n",
    "from sklearn.linear_model import LinearRegression\n",
    "from sklearn.preprocessing import StandardScaler, MinMaxScaler, PolynomialFeatures\n",
    "\n",
    "%matplotlib inline"
   ]
  },
  {
   "cell_type": "code",
   "execution_count": 15,
   "metadata": {},
   "outputs": [],
   "source": [
    "# alpha값에 따른 회귀 모델의 폴드 평균 RMSE를 출력, 회귀 계수값들을 DataFrame으로 반환\n",
    "def get_linear_reg_eval(model_name, params=None, x_data_n=None, y_target_n=None, verbose=True):\n",
    "    coeff_df = pd.DataFrame()\n",
    "    if verbose: print('###########', model_name,'############')\n",
    "    for param in params:\n",
    "        if model_name == 'Ridge': model=Ridge(alpha=param)\n",
    "        elif model_name == 'Lasso': model=Lasso(alpha=param)\n",
    "        elif model_name == 'ElasticNet': model=ElasticNet(alpha=param, l1_ratio=0.7)\n",
    "        neg_mse_scores = cross_val_score(model, x_data_n, y_target_n,\n",
    "                                        scoring=\"neg_mean_squared_error\", cv=5)\n",
    "        avg_rmse = np.mean(np.sqrt(-1 * neg_mse_scores))\n",
    "        print('alpha {0}일 때 5폴드 세트의 평균 RMSE: {1:.3f}'.format(param, avg_rmse))\n",
    "        # cross_val_score는 evaluation metric만 반환하므로 모델을 다시 학습하여 회귀 계수 추출\n",
    "        model.fit(x_data, y_target)\n",
    "        # alpha에 따른 피처별 회귀 계수를 Series로 변환하고 이를 DataFrame의 칼럼으로 추가.\n",
    "        coeff = pd.Series(data=model.coef_, index=x_data.columns)\n",
    "        colname = 'alpha:'+str(param)\n",
    "        coeff_df[colname] = coeff\n",
    "    return coeff_df\n",
    "# end of get_linear_regre_eval"
   ]
  },
  {
   "cell_type": "code",
   "execution_count": 19,
   "metadata": {},
   "outputs": [],
   "source": [
    "# method는 표준 정규 분포 변환(Standard), 최대값/최소값 정규화(MinMax), 로그변환(Log) 결정\n",
    "# p_degree는 다항식 특성을 추가할 때 적용, p_degree는 2이상 부여하지 않음\n",
    "def get_scaled_data(method='None', p_degree=None, input_data=None):\n",
    "    if method == 'Standard':\n",
    "        scaled_data = StandardScaler().fit_transform(input_data)\n",
    "    elif method == 'MinMax':\n",
    "        scaled_data = MinMaxScaler().fit_transform(input_data)\n",
    "    elif method == 'Log':\n",
    "        scaled_data = np.log1p(input_data)\n",
    "    else:\n",
    "        scaled_data = input_data\n",
    "    \n",
    "    if p_degree != None:\n",
    "        scaled_data = PolynomialFeatures(degree=p_degree, include_bias=False).fit_transform(scaled_data)\n",
    "    \n",
    "    return scaled_data"
   ]
  },
  {
   "cell_type": "code",
   "execution_count": 20,
   "metadata": {},
   "outputs": [],
   "source": [
    "boston = load_boston()\n",
    "bostonDF = pd.DataFrame(boston.data, columns=boston.feature_names)\n",
    "# boston 데이터 세트의 target배열은 주택 가격임. 이를 PRICE칼럼으로 DF에 추가\n",
    "bostonDF['PRICE'] = boston.target\n",
    "y_target = bostonDF['PRICE']\n",
    "x_data = bostonDF.drop(['PRICE'], axis=1, inplace=False)\n",
    "\n",
    "x_train, x_test, y_train, y_test = train_test_split(x_data, y_target, test_size=0.3,\n",
    "                                                   random_state=156)"
   ]
  },
  {
   "cell_type": "code",
   "execution_count": 21,
   "metadata": {},
   "outputs": [
    {
     "name": "stdout",
     "output_type": "stream",
     "text": [
      "\n",
      "## 변환 유형:None, Polynomial Degree:None\n",
      "alpha 0.1일 때 5폴드 세트의 평균 RMSE: 5.788\n",
      "alpha 1일 때 5폴드 세트의 평균 RMSE: 5.653\n",
      "alpha 10일 때 5폴드 세트의 평균 RMSE: 5.518\n",
      "alpha 100일 때 5폴드 세트의 평균 RMSE: 5.330\n",
      "\n",
      "## 변환 유형:Standard, Polynomial Degree:None\n",
      "alpha 0.1일 때 5폴드 세트의 평균 RMSE: 5.826\n",
      "alpha 1일 때 5폴드 세트의 평균 RMSE: 5.803\n",
      "alpha 10일 때 5폴드 세트의 평균 RMSE: 5.637\n",
      "alpha 100일 때 5폴드 세트의 평균 RMSE: 5.421\n",
      "\n",
      "## 변환 유형:Standard, Polynomial Degree:2\n",
      "alpha 0.1일 때 5폴드 세트의 평균 RMSE: 8.827\n",
      "alpha 1일 때 5폴드 세트의 평균 RMSE: 6.871\n",
      "alpha 10일 때 5폴드 세트의 평균 RMSE: 5.485\n",
      "alpha 100일 때 5폴드 세트의 평균 RMSE: 4.634\n",
      "\n",
      "## 변환 유형:MinMax, Polynomial Degree:None\n",
      "alpha 0.1일 때 5폴드 세트의 평균 RMSE: 5.764\n",
      "alpha 1일 때 5폴드 세트의 평균 RMSE: 5.465\n",
      "alpha 10일 때 5폴드 세트의 평균 RMSE: 5.754\n",
      "alpha 100일 때 5폴드 세트의 평균 RMSE: 7.635\n",
      "\n",
      "## 변환 유형:MinMax, Polynomial Degree:2\n",
      "alpha 0.1일 때 5폴드 세트의 평균 RMSE: 5.298\n",
      "alpha 1일 때 5폴드 세트의 평균 RMSE: 4.323\n",
      "alpha 10일 때 5폴드 세트의 평균 RMSE: 5.185\n",
      "alpha 100일 때 5폴드 세트의 평균 RMSE: 6.538\n",
      "\n",
      "## 변환 유형:Log, Polynomial Degree:None\n",
      "alpha 0.1일 때 5폴드 세트의 평균 RMSE: 4.770\n",
      "alpha 1일 때 5폴드 세트의 평균 RMSE: 4.676\n",
      "alpha 10일 때 5폴드 세트의 평균 RMSE: 4.836\n",
      "alpha 100일 때 5폴드 세트의 평균 RMSE: 6.241\n"
     ]
    }
   ],
   "source": [
    "alphas = [0.1, 1, 10, 100]\n",
    "\n",
    "# 최대/최소 정규화, 최대/최소 정규화+다항식, 로그변환\n",
    "scale_methods = [(None, None), ('Standard', None), ('Standard', 2),\n",
    "                ('MinMax', None), ('MinMax', 2), ('Log', None)]\n",
    "for scale_method in scale_methods:\n",
    "    x_data_scaled = get_scaled_data(method=scale_method[0], p_degree=scale_method[1],\n",
    "                                   input_data=x_data)\n",
    "    print('\\n## 변환 유형:{0}, Polynomial Degree:{1}'.format(scale_method[0], scale_method[1]))\n",
    "    get_linear_reg_eval('Ridge', params=alphas, x_data_n=x_data_scaled,\n",
    "                       y_target_n=y_target, verbose=False)"
   ]
  },
  {
   "cell_type": "code",
   "execution_count": null,
   "metadata": {},
   "outputs": [],
   "source": []
  }
 ],
 "metadata": {
  "kernelspec": {
   "display_name": "Python 3",
   "language": "python",
   "name": "python3"
  },
  "language_info": {
   "codemirror_mode": {
    "name": "ipython",
    "version": 3
   },
   "file_extension": ".py",
   "mimetype": "text/x-python",
   "name": "python",
   "nbconvert_exporter": "python",
   "pygments_lexer": "ipython3",
   "version": "3.6.10"
  }
 },
 "nbformat": 4,
 "nbformat_minor": 2
}
