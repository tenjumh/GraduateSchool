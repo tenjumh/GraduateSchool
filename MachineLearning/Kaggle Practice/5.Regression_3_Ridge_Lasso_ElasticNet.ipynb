{
 "cells": [
  {
   "cell_type": "markdown",
   "metadata": {},
   "source": [
    "# 규제 선형 모델"
   ]
  },
  {
   "cell_type": "markdown",
   "metadata": {},
   "source": [
    "- 회귀 모델은 적절히 데이터에 적합하면서도 회귀계수(x값 앞의 기울기?)가 기하급수적으로 커지는 것을 제어\n",
    "- 최적 모델 = 학습데이터 잔차 오류 최소화 + 회귀계수 크기 제어\n",
    "- 비용함수목표 = Min(RSS(W) + alpha*||W||^2)\n",
    "- alpha를 0부터 지속적으로 값을 증가시키면 회귀계수 값(RSS(W))의 크기가 감소되어 과적합 개선\n",
    "- 이런 것을 **규제(Regularization)**\n",
    "\n",
    "### - 규제에는 L2, L1으로 구분\n",
    "\n",
    "- **L2 규제**는 alpha*||W||^2에서 < W^2에 패널티 >를 부여\n",
    "- **L1 규제**는 alpha*||W||에서 < |W|에 패널티 >를 부여"
   ]
  },
  {
   "cell_type": "markdown",
   "metadata": {},
   "source": [
    "## 릿지 (Ridge) 회귀"
   ]
  },
  {
   "cell_type": "code",
   "execution_count": null,
   "metadata": {},
   "outputs": [],
   "source": [
    "from sklearn.linear_model import Ridge\n",
    "from "
   ]
  }
 ],
 "metadata": {
  "kernelspec": {
   "display_name": "Python 3",
   "language": "python",
   "name": "python3"
  },
  "language_info": {
   "codemirror_mode": {
    "name": "ipython",
    "version": 3
   },
   "file_extension": ".py",
   "mimetype": "text/x-python",
   "name": "python",
   "nbconvert_exporter": "python",
   "pygments_lexer": "ipython3",
   "version": "3.6.10"
  }
 },
 "nbformat": 4,
 "nbformat_minor": 2
}
