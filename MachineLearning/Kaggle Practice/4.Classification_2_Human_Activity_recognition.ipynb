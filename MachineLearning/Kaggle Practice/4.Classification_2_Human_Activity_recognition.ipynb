{
 "cells": [
  {
   "cell_type": "code",
   "execution_count": 3,
   "metadata": {},
   "outputs": [
    {
     "name": "stdout",
     "output_type": "stream",
     "text": [
      "   column_index        column_name\n",
      "0             1  tBodyAcc-mean()-X\n",
      "1             2  tBodyAcc-mean()-Y\n",
      "2             3  tBodyAcc-mean()-Z\n",
      "3             4   tBodyAcc-std()-X\n",
      "전체 피처명에서 10개만 추출: ['tBodyAcc-mean()-X', 'tBodyAcc-mean()-Y', 'tBodyAcc-mean()-Z', 'tBodyAcc-std()-X', 'tBodyAcc-std()-Y', 'tBodyAcc-std()-Z', 'tBodyAcc-mad()-X', 'tBodyAcc-mad()-Y', 'tBodyAcc-mad()-Z', 'tBodyAcc-max()-X']\n"
     ]
    }
   ],
   "source": [
    "import pandas as pd\n",
    "import matplotlib.pyplot as plt\n",
    "%matplotlib inline\n",
    "\n",
    "# features.txt 파일에는 피처 이름 index와 피처명이 공백으로 분리되어 있음.\n",
    "\n",
    "print(feature_name_df[:4])\n",
    "# 피쳐명 index를 제거하고, 피처명만 리스트 객체로 생성한 뒤 샘플로 10개만 추출\n",
    "feature_name = feature_name_df.iloc[:,1].values.tolist()\n",
    "print('전체 피처명에서 10개만 추출:', feature_name[:10])"
   ]
  },
  {
   "cell_type": "markdown",
   "metadata": {},
   "source": [
    "- train, test 데이터 세트 로드"
   ]
  },
  {
   "cell_type": "code",
   "execution_count": null,
   "metadata": {},
   "outputs": [],
   "source": [
    "import pandas as pd\n",
    "\n",
    "def get_human_dataset():\n",
    "    \n",
    "    # 각 데이터 파일들은 공백으로 분리되어 있음. 공백 문자를 sep으로 할당\n",
    "    feature_name_df = pd.read_csv('./data/UCI_HAR_Dataset/features.txt', sep='\\s+',\n",
    "                                  header=None, names=['column_index', 'column_name'])\n",
    "    # DataFrame에 피처명을 칼럼으로 부여하기 위해 리스트 객체로 다시 변환\n",
    "    feature_name = feature_name_df.iloc[:,1].values.tolist()\n",
    "\n",
    "    # 학습 feature 데이터 세트와 test 데이터를 DataFrame으로 로디\n",
    "    x_train = pd.read_csv('./data/UCI_HAR_Dataset/train/X_train.txt', sep='\\s+', names=feature_name)\n",
    "    x_test = pd.read_csv('./data/UCI_HAR_Dataset/test/X_test.txt', sep='\\s+', names=feature_name)\n",
    "    "
   ]
  }
 ],
 "metadata": {
  "kernelspec": {
   "display_name": "Python 3",
   "language": "python",
   "name": "python3"
  },
  "language_info": {
   "codemirror_mode": {
    "name": "ipython",
    "version": 3
   },
   "file_extension": ".py",
   "mimetype": "text/x-python",
   "name": "python",
   "nbconvert_exporter": "python",
   "pygments_lexer": "ipython3",
   "version": "3.7.3"
  }
 },
 "nbformat": 4,
 "nbformat_minor": 2
}
