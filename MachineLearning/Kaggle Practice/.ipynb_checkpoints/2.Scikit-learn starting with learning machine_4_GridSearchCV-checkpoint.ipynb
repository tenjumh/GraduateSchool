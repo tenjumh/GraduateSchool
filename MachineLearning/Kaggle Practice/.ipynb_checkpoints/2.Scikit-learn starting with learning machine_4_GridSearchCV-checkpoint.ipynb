{
 "cells": [
  {
   "cell_type": "markdown",
   "metadata": {},
   "source": [
    "### GridSearchCV - 교차 검증과 최적 하이퍼 파라미터 튜닝을 한 번에\n",
    "- GridSearchCV API : Classifier나 Regressor와 같은 알고리즘에 사용되는 하이퍼 파라미터를 순차적으로 입력하면서 최적의 파라미터 도출\n",
    "```\n",
    "grid_parameters = {'max_depth': [1,2,3], 'min_samples_split': [2,3]}\n",
    "```\n",
    "- max_depth별로 min_samples_split을 적용하여 총 6회 실행\n",
    "- 수행시간은 오래 걸림\n",
    "```\n",
    "GridSearchCV(estimator, param_grid, scoring, cv, refit)\n",
    "```\n",
    "- estimator: classifier, regressor, pipeline\n",
    "- param_grid: key + 리스트 값 - 딕셔너리\n",
    "- scoring: 예측 성능을 측정할 평가 방법을 지정\n",
    "- cv: 교차 검증을 위해 분할되는 학습/테스트 세트의 개수 지정\n",
    "- refit: 가장 최적의 하이퍼 파라미터를 찾은데 재학습"
   ]
  },
  {
   "cell_type": "code",
   "execution_count": null,
   "metadata": {},
   "outputs": [],
   "source": [
    "from sklearn.datasets import load_iris\n",
    "from sklearn.tree import DecisionTreeClassifier\n",
    "from sklearn.model_selection import GridSearchCV\n",
    "import pandas as pd\n",
    "\n",
    "# 데이터를 로딩하고 학습 데이터와 테스트 데이터 분리\n",
    "iris = load_iris()\n",
    "X_train, X_test, y_train, y_test = train_test_split(iris_data.data, iris_data.target, test_size=0.2, random_state=121)\n",
    "dtree = DecisionTreeClassifier()\n",
    "\n",
    "### 파라미터를 딕셔너리 형태로 설정\n",
    "parameters = {'max_depth':[1,2,3], 'min_samples_split':[2,3]}\n",
    "\n",
    "# param_grid의 하이퍼 파라미터를 3개의 train, test"
   ]
  }
 ],
 "metadata": {
  "kernelspec": {
   "display_name": "Python 3",
   "language": "python",
   "name": "python3"
  },
  "language_info": {
   "codemirror_mode": {
    "name": "ipython",
    "version": 3
   },
   "file_extension": ".py",
   "mimetype": "text/x-python",
   "name": "python",
   "nbconvert_exporter": "python",
   "pygments_lexer": "ipython3",
   "version": "3.6.10"
  }
 },
 "nbformat": 4,
 "nbformat_minor": 2
}
