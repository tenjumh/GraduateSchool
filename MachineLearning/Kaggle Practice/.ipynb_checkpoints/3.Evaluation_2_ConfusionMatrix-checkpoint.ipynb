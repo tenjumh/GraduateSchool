{
 "cells": [
  {
   "cell_type": "markdown",
   "metadata": {},
   "source": [
    "### 2. 오차 행렬 (Confusion matrix)\n",
    "- 이진 분류 성능 지표로 활용\n",
    "- 이진 분류의 예측 오류가 얼마인지와 더불어 어떠한 유형의 예측 오류가 발생하는지 나타냄\n",
    "<left><img src=\"https://github.com/tenjumh/GraduateSchool/blob/master/Study/Kaggle%20Practice/images/confusion_matrix.PNG?raw=False\" width=\"600\" height=\"600\"></img></left>\n",
    "\n",
    "- TN : 예측값(Negative : 0), 실제값(Negative : 0)\n",
    "- FP : 예측값(Positive : 1), 실제값(Negative : 0)\n",
    "- FN : 예측값(Negative : 0), 실제값(Positive : 1)\n",
    "- TP : 예측값(Positive : 1), 실제값(Positive : 1)\n"
   ]
  },
  {
   "cell_type": "markdown",
   "metadata": {},
   "source": [
    "### 사이킷런 : confusion_matrix() API 제공"
   ]
  },
  {
   "cell_type": "code",
   "execution_count": null,
   "metadata": {},
   "outputs": [],
   "source": [
    "from sklearn.base import BaseEstimator\n",
    "\n",
    "class MyDummyClassifier(BaseEstimator):\n",
    "    # fit() 메서드는 아무것도 학습하지 않음 (그냥 여자일 때 생존으로 예측하면 되니까)\n",
    "    def fit(self, x, y=None):\n",
    "        pass\n",
    "    \n",
    "    # predict() 메서드는 단순히 Sex 피처가 1이면 0, 그렇지 않으면 1로 예측함\n",
    "    def predict(self, x):\n",
    "        pred = np.zeros((x.shape[0], 1))\n",
    "        for i in range(x.shape[0]):\n",
    "            if x['Sex'].iloc[i] == 1:\n",
    "                pred[i] = 0\n",
    "            else:\n",
    "                pred[i] = 1\n",
    "        \n",
    "        return pred\n",
    "\n",
    "class MyFakeClassifier(BaseEstimator):\n",
    "    def fit(self, x, y):\n",
    "        pass\n",
    "    \n",
    "    # 입력값으로 들어오는 x 데이터 세트의 크기만큼 모두 0값으로 만들어 반환\n",
    "    def predict(self, x):\n",
    "        return np.zeros((len(x), 1), dtype=bool)"
   ]
  },
  {
   "cell_type": "code",
   "execution_count": 5,
   "metadata": {},
   "outputs": [
    {
     "data": {
      "text/plain": [
       "array([[405,   0],\n",
       "       [ 45,   0]], dtype=int64)"
      ]
     },
     "execution_count": 5,
     "metadata": {},
     "output_type": "execute_result"
    }
   ],
   "source": [
    "from sklearn.metrics import confusion_matrix\n",
    "from Evaluation_MyFake import y_test, fakepred\n",
    "\n",
    "confusion_matrix(y_test, fakepred)"
   ]
  },
  {
   "cell_type": "markdown",
   "metadata": {},
   "source": [
    "- Negative : 7이외 전체값, Positive : 7인 값\n",
    "- TN(예측:Negative, 실제:Negative) = 405\n",
    "- FN(예측:Negative, 실제:Positive) = 45\n",
    "- 정확도 = 예측 결과와 실제 값이 동일한 건수/전체 데이터 수 = (TN + TP) / (TN + FP + FN +TP)\n",
    "- **정확도만 보면 잘 맞추네라고 생각할 수 있지만**\n",
    "- **이것만 봐서는 판단 오류가 발생한다.**\n",
    "- 예를 들어, 10000명의 사람 중 암 발생자(label \"1\")가 10명이라면 **\"0\"으로 예측하면 99%로 예측가능한 오류를 범한다.**\n",
    "### 따라서 다음장에서 더 선호되는 평가 지표를 본다.\n",
    "- 정밀도(Precision)과 재현율(Recall)\n"
   ]
  }
 ],
 "metadata": {
  "kernelspec": {
   "display_name": "Python 3",
   "language": "python",
   "name": "python3"
  },
  "language_info": {
   "codemirror_mode": {
    "name": "ipython",
    "version": 3
   },
   "file_extension": ".py",
   "mimetype": "text/x-python",
   "name": "python",
   "nbconvert_exporter": "python",
   "pygments_lexer": "ipython3",
   "version": "3.6.10"
  }
 },
 "nbformat": 4,
 "nbformat_minor": 2
}
