{
 "cells": [
  {
   "cell_type": "code",
   "execution_count": 5,
   "metadata": {
    "scrolled": false
   },
   "outputs": [
    {
     "name": "stdout",
     "output_type": "stream",
     "text": [
      "Epoch: 5000, cost: 0.10413757711648941, weight: [0.5868345], bias: [-0.2069265]\n",
      "Epoch: 10000, cost: 0.09750134497880936, weight: [0.6893886], bias: [-0.34870186]\n",
      "Epoch: 15000, cost: 0.09661884605884552, weight: [0.72678596], bias: [-0.40040168]\n",
      "Epoch: 20000, cost: 0.09650147706270218, weight: [0.7404222], bias: [-0.4192525]\n",
      "Epoch: 25000, cost: 0.09648588299751282, weight: [0.74538904], bias: [-0.42611998]\n",
      "Epoch: 30000, cost: 0.09648380428552628, weight: [0.747197], bias: [-0.4286168]\n",
      "Epoch: 35000, cost: 0.096483513712883, weight: [0.74785674], bias: [-0.42953452]\n",
      "Epoch: 40000, cost: 0.09648348391056061, weight: [0.7481067], bias: [-0.42987636]\n",
      "Epoch: 45000, cost: 0.09648346900939941, weight: [0.7481648], bias: [-0.42996138]\n",
      "Epoch: 50000, cost: 0.09648346900939941, weight: [0.7481648], bias: [-0.42996138]\n",
      "Epoch: 55000, cost: 0.09648346900939941, weight: [0.7481648], bias: [-0.42996138]\n",
      "Epoch: 60000, cost: 0.09648346900939941, weight: [0.7481648], bias: [-0.42996138]\n",
      "Epoch: 65000, cost: 0.09648346900939941, weight: [0.7481648], bias: [-0.42996138]\n",
      "Epoch: 70000, cost: 0.09648346900939941, weight: [0.7481648], bias: [-0.42996138]\n",
      "Epoch: 75000, cost: 0.09648346900939941, weight: [0.7481648], bias: [-0.42996138]\n",
      "Epoch: 80000, cost: 0.09648346900939941, weight: [0.7481648], bias: [-0.42996138]\n",
      "Epoch: 85000, cost: 0.09648346900939941, weight: [0.7481648], bias: [-0.42996138]\n",
      "Epoch: 90000, cost: 0.09648346900939941, weight: [0.7481648], bias: [-0.42996138]\n",
      "Epoch: 95000, cost: 0.09648346900939941, weight: [0.7481648], bias: [-0.42996138]\n",
      "Epoch: 100000, cost: 0.09648346900939941, weight: [0.7481648], bias: [-0.42996138]\n",
      "최적화 작업을 완료했습니다.\n"
     ]
    },
    {
     "data": {
      "image/png": "[encoded data removed]",
      "text/plain": [
       "<Figure size 432x288 with 1 Axes>"
      ]
     },
     "metadata": {
      "needs_background": "light"
     },
     "output_type": "display_data"
    }
   ],
   "source": [
    "import tensorflow as tf\n",
    "import matplotlib.pyplot as plt\n",
    "import numpy as np\n",
    "\n",
    "learning_rate = 0.001\n",
    "num_epochs = 100000\n",
    "step_display = 5000\n",
    "X = [1.94, 1.67, 0.92, 1.11, 1.41, 1.65, 2.28, 0.47, 1.07, 2.19, 2.08, 1.02, 0.91, 1.16, 1.46, 1.02, 0.85, 0.89, 1.79, 1.89, 0.75, 0.9, 1.87, 0.5, 0.69, 1.5, 0.96, 0.53, 1.21, 0.6]\n",
    "\n",
    "T = [1, 1, 0, 0, 1, 1, 1, 0, 0, 1, 1, 0, 0, 0, 1, 0, 0, 0, 1, 1, 0, 1, 1, 0, 0 , 1, 1, 0, 1, 0]\n",
    "\n",
    "w0 = tf.Variable(tf.random_uniform([1]), name='weight')\n",
    "w1 = tf.Variable(tf.random_uniform([1]), name='bias')\n",
    "\n",
    "x = tf.placeholder(dtype=tf.float32, name='x_true')\n",
    "y = tf.placeholder(dtype=tf.float32, name='y_true')\n",
    "\n",
    "t = tf.add(tf.multiply(w0, x), w1)\n",
    "cost = tf.reduce_mean(tf.square(t - y))\n",
    "optimizer = tf.train.GradientDescentOptimizer(learning_rate)\n",
    "train = optimizer.minimize(cost)\n",
    "\n",
    "init = tf.global_variables_initializer()\n",
    "sess = tf.Session()\n",
    "sess.run(init)\n",
    "\n",
    "for epoch in range(num_epochs):\n",
    "    _c, _weight, _bias, _ = sess.run([cost, w0, w1, train], feed_dict = {x:X, y:T})\n",
    "    if (epoch+1) % step_display == 0:\n",
    "        print (\"Epoch: {0}, cost: {1}, weight: {2}, bias: {3}\".format(epoch+1, _c, _weight, _bias))\n",
    "\n",
    "print('최적화 작업을 완료했습니다.')\n",
    "\n",
    "plt.plot(X, T, 'ro', label='Original data')\n",
    "plt.plot(X, sess.run(w0) * X + sess.run(w1), label='Optimized line')\n",
    "plt.legend()\n",
    "plt.show()"
   ]
  },
  {
   "cell_type": "code",
   "execution_count": null,
   "metadata": {},
   "outputs": [],
   "source": []
  }
 ],
 "metadata": {
  "kernelspec": {
   "display_name": "Python 3",
   "language": "python",
   "name": "python3"
  },
  "language_info": {
   "codemirror_mode": {
    "name": "ipython",
    "version": 3
   },
   "file_extension": ".py",
   "mimetype": "text/x-python",
   "name": "python",
   "nbconvert_exporter": "python",
   "pygments_lexer": "ipython3",
   "version": "3.6.10"
  }
 },
 "nbformat": 4,
 "nbformat_minor": 2
}
