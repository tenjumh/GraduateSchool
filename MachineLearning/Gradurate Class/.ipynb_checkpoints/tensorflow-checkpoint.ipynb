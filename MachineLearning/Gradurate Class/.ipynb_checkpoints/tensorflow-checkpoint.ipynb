{
 "cells": [
  {
   "cell_type": "code",
   "execution_count": 1,
   "metadata": {
    "scrolled": false
   },
   "outputs": [
    {
     "name": "stderr",
     "output_type": "stream",
     "text": [
      "c:\\anaconda3\\envs\\tensorflow1\\lib\\site-packages\\tensorflow\\python\\framework\\dtypes.py:523: FutureWarning: Passing (type, 1) or '1type' as a synonym of type is deprecated; in a future version of numpy, it will be understood as (type, (1,)) / '(1,)type'.\n",
      "  _np_qint8 = np.dtype([(\"qint8\", np.int8, 1)])\n",
      "c:\\anaconda3\\envs\\tensorflow1\\lib\\site-packages\\tensorflow\\python\\framework\\dtypes.py:524: FutureWarning: Passing (type, 1) or '1type' as a synonym of type is deprecated; in a future version of numpy, it will be understood as (type, (1,)) / '(1,)type'.\n",
      "  _np_quint8 = np.dtype([(\"quint8\", np.uint8, 1)])\n",
      "c:\\anaconda3\\envs\\tensorflow1\\lib\\site-packages\\tensorflow\\python\\framework\\dtypes.py:525: FutureWarning: Passing (type, 1) or '1type' as a synonym of type is deprecated; in a future version of numpy, it will be understood as (type, (1,)) / '(1,)type'.\n",
      "  _np_qint16 = np.dtype([(\"qint16\", np.int16, 1)])\n",
      "c:\\anaconda3\\envs\\tensorflow1\\lib\\site-packages\\tensorflow\\python\\framework\\dtypes.py:526: FutureWarning: Passing (type, 1) or '1type' as a synonym of type is deprecated; in a future version of numpy, it will be understood as (type, (1,)) / '(1,)type'.\n",
      "  _np_quint16 = np.dtype([(\"quint16\", np.uint16, 1)])\n",
      "c:\\anaconda3\\envs\\tensorflow1\\lib\\site-packages\\tensorflow\\python\\framework\\dtypes.py:527: FutureWarning: Passing (type, 1) or '1type' as a synonym of type is deprecated; in a future version of numpy, it will be understood as (type, (1,)) / '(1,)type'.\n",
      "  _np_qint32 = np.dtype([(\"qint32\", np.int32, 1)])\n",
      "c:\\anaconda3\\envs\\tensorflow1\\lib\\site-packages\\tensorflow\\python\\framework\\dtypes.py:532: FutureWarning: Passing (type, 1) or '1type' as a synonym of type is deprecated; in a future version of numpy, it will be understood as (type, (1,)) / '(1,)type'.\n",
      "  np_resource = np.dtype([(\"resource\", np.ubyte, 1)])\n"
     ]
    },
    {
     "name": "stdout",
     "output_type": "stream",
     "text": [
      "Epoch: 500, cost: 49.12529754638672, weight: [1.6055503], bias: [135.04393]\n",
      "Epoch: 1000, cost: 49.0936279296875, weight: [1.598286], bias: [135.1693]\n",
      "Epoch: 1500, cost: 49.07086181640625, weight: [1.5921217], bias: [135.2757]\n",
      "Epoch: 2000, cost: 49.05443572998047, weight: [1.5868945], bias: [135.3659]\n",
      "Epoch: 2500, cost: 49.042606353759766, weight: [1.582453], bias: [135.44255]\n",
      "Epoch: 3000, cost: 49.034114837646484, weight: [1.5786945], bias: [135.50743]\n",
      "Epoch: 3500, cost: 49.027976989746094, weight: [1.5754838], bias: [135.56285]\n",
      "Epoch: 4000, cost: 49.023529052734375, weight: [1.5727721], bias: [135.60965]\n",
      "Epoch: 4500, cost: 49.02040100097656, weight: [1.5704962], bias: [135.64893]\n",
      "Epoch: 5000, cost: 49.01812744140625, weight: [1.5685648], bias: [135.68225]\n",
      "Epoch: 5500, cost: 49.01641082763672, weight: [1.5668455], bias: [135.71191]\n",
      "Epoch: 6000, cost: 49.01532745361328, weight: [1.5655202], bias: [135.7348]\n",
      "Epoch: 6500, cost: 49.01435852050781, weight: [1.5642294], bias: [135.75706]\n",
      "Epoch: 7000, cost: 49.01386260986328, weight: [1.5633458], bias: [135.77232]\n",
      "Epoch: 7500, cost: 49.013389587402344, weight: [1.5624623], bias: [135.78758]\n",
      "Epoch: 8000, cost: 49.01299285888672, weight: [1.5615938], bias: [135.80255]\n",
      "Epoch: 8500, cost: 49.01280212402344, weight: [1.5611521], bias: [135.81018]\n",
      "Epoch: 9000, cost: 49.01268005371094, weight: [1.5607103], bias: [135.81781]\n",
      "Epoch: 9500, cost: 49.01252746582031, weight: [1.5602685], bias: [135.82544]\n",
      "Epoch: 10000, cost: 49.01244354248047, weight: [1.5598267], bias: [135.83307]\n",
      "최적화 작업을 완료했습니다.\n"
     ]
    },
    {
     "data": {
      "text/plain": [
       "<Figure size 640x480 with 1 Axes>"
      ]
     },
     "metadata": {},
     "output_type": "display_data"
    }
   ],
   "source": [
    "import tensorflow as tf\n",
    "import matplotlib.pyplot as plt\n",
    "import numpy as np\n",
    "\n",
    "learning_rate = 0.001\n",
    "num_epochs = 10000\n",
    "step_display = 500\n",
    "save_file = np.load('ch5_data.npz')\n",
    "X = save_file['X']\n",
    "T = save_file['T']\n",
    "\n",
    "w0 = tf.Variable(tf.random_uniform([1], -20.0, 20.0), name='weight')\n",
    "w1 = tf.Variable(tf.random_uniform([1], 120, 170), name='bias')\n",
    "\n",
    "x = tf.placeholder(dtype=tf.float32, name='x_true')\n",
    "y = tf.placeholder(dtype=tf.float32, name='y_true')\n",
    "\n",
    "t = tf.add(tf.multiply(w0, x), w1)\n",
    "cost = tf.reduce_mean(tf.square(t - y))\n",
    "optimizer = tf.train.GradientDescentOptimizer(learning_rate)\n",
    "train = optimizer.minimize(cost)\n",
    "\n",
    "\n",
    "init = tf.global_variables_initializer()\n",
    "sess = tf.Session()\n",
    "sess.run(init)\n",
    "\n",
    "for epoch in range(num_epochs):\n",
    "    _c, _weight, _bias, _ = sess.run([cost, w0, w1, train], feed_dict = {x:X, y:T})\n",
    "    if (epoch+1) % step_display == 0:\n",
    "        print (\"Epoch: {0}, cost: {1}, weight: {2}, bias: {3}\".format(epoch+1, _c, _weight, _bias))\n",
    "\n",
    "print('최적화 작업을 완료했습니다.')\n",
    "\n",
    "plt.plot(X, T, 'ro', label='Original data')\n",
    "plt.plot(X, sess.run(w0) * X + sess.run(w1), label='Optimized line')\n",
    "plt.legend()\n",
    "plt.show()"
   ]
  },
  {
   "cell_type": "code",
   "execution_count": null,
   "metadata": {},
   "outputs": [],
   "source": []
  }
 ],
 "metadata": {
  "kernelspec": {
   "display_name": "Python 3",
   "language": "python",
   "name": "python3"
  },
  "language_info": {
   "codemirror_mode": {
    "name": "ipython",
    "version": 3
   },
   "file_extension": ".py",
   "mimetype": "text/x-python",
   "name": "python",
   "nbconvert_exporter": "python",
   "pygments_lexer": "ipython3",
   "version": "3.6.9"
  }
 },
 "nbformat": 4,
 "nbformat_minor": 2
}
