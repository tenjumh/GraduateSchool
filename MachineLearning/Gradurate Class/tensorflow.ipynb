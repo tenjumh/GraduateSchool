{
 "cells": [
  {
   "cell_type": "code",
   "execution_count": 2,
   "metadata": {
    "scrolled": false
   },
   "outputs": [],
   "source": [
    "import tensorflow as tf\n",
    "import matplotlib.pyplot as plt\n",
    "import numpy as np"
   ]
  },
  {
   "cell_type": "code",
   "execution_count": 3,
   "metadata": {},
   "outputs": [],
   "source": [
    "learning_rate = 0.001\n",
    "num_epochs = 10000\n",
    "step_display = 500\n",
    "save_file = np.load('ch5_data.npz')"
   ]
  },
  {
   "cell_type": "code",
   "execution_count": 4,
   "metadata": {},
   "outputs": [
    {
     "name": "stdout",
     "output_type": "stream",
     "text": [
      "WARNING:tensorflow:From c:\\anaconda3\\envs\\nlp\\lib\\site-packages\\tensorflow\\python\\framework\\op_def_library.py:263: colocate_with (from tensorflow.python.framework.ops) is deprecated and will be removed in a future version.\n",
      "Instructions for updating:\n",
      "Colocations handled automatically by placer.\n"
     ]
    }
   ],
   "source": [
    "X = save_file['X']\n",
    "T = save_file['T']\n",
    "\n",
    "w0 = tf.Variable(tf.random_uniform([1], -20.0, 20.0), name='weight')\n",
    "w1 = tf.Variable(tf.random_uniform([1], 120, 170), name='bias')\n",
    "\n",
    "x = tf.placeholder(dtype=tf.float32, name='x_true')\n",
    "y = tf.placeholder(dtype=tf.float32, name='y_true')"
   ]
  },
  {
   "cell_type": "code",
   "execution_count": 5,
   "metadata": {},
   "outputs": [
    {
     "name": "stdout",
     "output_type": "stream",
     "text": [
      "WARNING:tensorflow:From c:\\anaconda3\\envs\\nlp\\lib\\site-packages\\tensorflow\\python\\ops\\math_ops.py:3066: to_int32 (from tensorflow.python.ops.math_ops) is deprecated and will be removed in a future version.\n",
      "Instructions for updating:\n",
      "Use tf.cast instead.\n"
     ]
    }
   ],
   "source": [
    "t = tf.add(tf.multiply(w0, x), w1)\n",
    "cost = tf.reduce_mean(tf.square(t - y))\n",
    "optimizer = tf.train.GradientDescentOptimizer(learning_rate)\n",
    "train = optimizer.minimize(cost)\n",
    "\n",
    "\n",
    "init = tf.global_variables_initializer()\n",
    "sess = tf.Session()\n",
    "sess.run(init)"
   ]
  },
  {
   "cell_type": "code",
   "execution_count": 6,
   "metadata": {},
   "outputs": [
    {
     "name": "stdout",
     "output_type": "stream",
     "text": [
      "Epoch: 500, cost: 49.242149353027344, weight: [1.6259917], bias: [134.69112]\n",
      "Epoch: 1000, cost: 49.177757263183594, weight: [1.615627], bias: [134.87003]\n",
      "Epoch: 1500, cost: 49.13142776489258, weight: [1.6068376], bias: [135.0217]\n",
      "Epoch: 2000, cost: 49.09803771972656, weight: [1.5993657], bias: [135.15068]\n",
      "Epoch: 2500, cost: 49.07402801513672, weight: [1.5930511], bias: [135.25964]\n",
      "Epoch: 3000, cost: 49.05671691894531, weight: [1.5876809], bias: [135.35233]\n",
      "Epoch: 3500, cost: 49.04419708251953, weight: [1.5830964], bias: [135.43144]\n",
      "Epoch: 4000, cost: 49.03530502319336, weight: [1.5792662], bias: [135.49756]\n",
      "Epoch: 4500, cost: 49.028873443603516, weight: [1.5759839], bias: [135.55421]\n",
      "Epoch: 5000, cost: 49.02421951293945, weight: [1.5732008], bias: [135.60225]\n",
      "Epoch: 5500, cost: 49.0208740234375, weight: [1.5708532], bias: [135.64276]\n",
      "Epoch: 6000, cost: 49.0184326171875, weight: [1.5688511], bias: [135.6773]\n",
      "Epoch: 6500, cost: 49.016632080078125, weight: [1.5670841], bias: [135.70782]\n",
      "Epoch: 7000, cost: 49.01547622680664, weight: [1.565735], bias: [135.7311]\n",
      "Epoch: 7500, cost: 49.014495849609375, weight: [1.5644096], bias: [135.75398]\n",
      "Epoch: 8000, cost: 49.013938903808594, weight: [1.563489], bias: [135.76985]\n",
      "Epoch: 8500, cost: 49.013427734375, weight: [1.5626054], bias: [135.78511]\n",
      "Epoch: 9000, cost: 49.01301956176758, weight: [1.5617219], bias: [135.80037]\n",
      "Epoch: 9500, cost: 49.012874603271484, weight: [1.5612236], bias: [135.80894]\n",
      "Epoch: 10000, cost: 49.01271057128906, weight: [1.5607818], bias: [135.81657]\n",
      "최적화 작업을 완료했습니다.\n"
     ]
    },
    {
     "data": {
      "image/png": "[encoded data removed]",
      "text/plain": [
       "<Figure size 432x288 with 1 Axes>"
      ]
     },
     "metadata": {
      "needs_background": "light"
     },
     "output_type": "display_data"
    }
   ],
   "source": [
    "for epoch in range(num_epochs):\n",
    "    _c, _weight, _bias, _ = sess.run([cost, w0, w1, train], feed_dict = {x:X, y:T})\n",
    "    if (epoch+1) % step_display == 0:\n",
    "        print (\"Epoch: {0}, cost: {1}, weight: {2}, bias: {3}\".format(epoch+1, _c, _weight, _bias))\n",
    "\n",
    "print('최적화 작업을 완료했습니다.')\n",
    "\n",
    "plt.plot(X, T, 'ro', label='Original data')\n",
    "plt.plot(X, sess.run(w0) * X + sess.run(w1), label='Optimized line')\n",
    "plt.legend()\n",
    "plt.show()"
   ]
  }
 ],
 "metadata": {
  "kernelspec": {
   "display_name": "Python 3",
   "language": "python",
   "name": "python3"
  },
  "language_info": {
   "codemirror_mode": {
    "name": "ipython",
    "version": 3
   },
   "file_extension": ".py",
   "mimetype": "text/x-python",
   "name": "python",
   "nbconvert_exporter": "python",
   "pygments_lexer": "ipython3",
   "version": "3.6.10"
  }
 },
 "nbformat": 4,
 "nbformat_minor": 2
}
