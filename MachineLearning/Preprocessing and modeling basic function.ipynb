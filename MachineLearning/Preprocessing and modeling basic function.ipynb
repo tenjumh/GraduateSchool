{
 "cells": [
  {
   "cell_type": "markdown",
   "metadata": {},
   "source": [
    "## One-hot Encoder 사용 방법\n",
    "- OneHotEncoder를 정의할 때, \n",
    "- valid에 train과 속성값이 다르게 있는 경우 : handle_unknown='ignore'\n",
    "- sparse = True or False : 희소행렬(sparse matrix)를 \n",
    "- True : set형태로 CSR구조로 저장\n",
    "- False : array형태로 ndarray로 저장"
   ]
  },
  {
   "cell_type": "code",
   "execution_count": null,
   "metadata": {},
   "outputs": [],
   "source": [
    "from sklearn.preprocessing import OneHotEncoder\n",
    "\n",
    "oh_encoder = OneHotEncoder(handle_unknown='ignore', sparse=False)\n",
    "oh_cols_train = oh_encoder.fit_transform(X_train[column_name]) \n",
    "oh_cols_valid = oh_encoder.transform(X_valid[column_name])"
   ]
  },
  {
   "cell_type": "markdown",
   "metadata": {},
   "source": [
    "## Label Encoding 방법\n",
    "- LabelEncoder를 정의할 때,\n",
    "- valid와 train인 간에 속성값이 같아야 한다.\n",
    "- 그래서 object 컬럼만 뽑아낸 후 train과 valid의 컬럼이 같은 컬럼만 뽑아 낸다.\n",
    "```[col for col in (object columns) if set(train[column]) == set(valid[column])]```\n",
    "- 모든 object 컬럼에서 위의 추려낸 컬럼을 빼면 부적합한 컬럼만 남고\n",
    "- 부적합한 컬럼을 제외하고 dataset을 만든다."
   ]
  },
  {
   "cell_type": "code",
   "execution_count": null,
   "metadata": {},
   "outputs": [],
   "source": [
    "from sklearn.preprocessing import LabelEncoder\n",
    "\n",
    "# Drop categorical columns that will not be encoded\n",
    "label_X_train = X_train.drop(bad_label_cols, axis=1)\n",
    "label_X_valid = X_valid.drop(bad_label_cols, axis=1)\n",
    "\n",
    "# Apply label encoder \n",
    "mylabel = LabelEncoder()\n",
    "for col in set(good_label_cols):\n",
    "    label_X_train[col] = mylabel.fit_transform(X_train[col])\n",
    "    label_X_valid[col] = mylabel.transform(X_valid[col])"
   ]
  }
 ],
 "metadata": {
  "kernelspec": {
   "display_name": "Python 3",
   "language": "python",
   "name": "python3"
  },
  "language_info": {
   "codemirror_mode": {
    "name": "ipython",
    "version": 3
   },
   "file_extension": ".py",
   "mimetype": "text/x-python",
   "name": "python",
   "nbconvert_exporter": "python",
   "pygments_lexer": "ipython3",
   "version": "3.6.9"
  }
 },
 "nbformat": 4,
 "nbformat_minor": 2
}
