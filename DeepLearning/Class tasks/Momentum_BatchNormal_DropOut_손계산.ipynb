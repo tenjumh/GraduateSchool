{
 "cells": [
  {
   "attachments": {},
   "cell_type": "markdown",
   "metadata": {},
   "source": [
    "- <b>Momentum</b><br>\n",
    "학습데이터로 (1.0,-0.5,1.0) 하나만 있다. Error function은 MSE이다. 초기의 모든 연결 가중치는 1이다.  Activation function이 ReLU이고, Momentum을 이용하여 학습한다. Momentum rate과 learning rate이 각각 1이다. NN의 구조는 아래와 같다. 참고로 학습데이터가 n개 있을 때 MSE의 정의는 \u000b",
    "E=12i=1noi-ti2이다. ti, oi는 i번째 학습데이터가 주어졌을 때 NN가 출력해야 할 목표값과 NN이 실제로 출력한 값을 의미한다.\n",
    "![그림1](https://github.com/tenjumh/GraduateSchool/blob/master/DeepLearning/Class%20tasks/image/%EA%B7%B8%EB%A6%BC1.png?raw=True)"
   ]
  },
  {
   "cell_type": "markdown",
   "metadata": {},
   "source": [
    "![풀이1](https://github.com/tenjumh/GraduateSchool/blob/master/DeepLearning/Class%20tasks/image/%ED%92%80%EC%9D%B41.jpg?raw=True)\n",
    "![풀이2](https://github.com/tenjumh/GraduateSchool/blob/master/DeepLearning/Class%20tasks/image/%ED%92%80%EC%9D%B42.jpg?raw=True)"
   ]
  },
  {
   "attachments": {},
   "cell_type": "markdown",
   "metadata": {},
   "source": [
    "- <b>Batch normalization</b><br>\n",
    "학습데이터 하나의 batch가 다음과 같이 주어졌을 때, 각 학습데이터에 대한 Neural Network의 출력값을 구하시오. \n",
    "단, hidden layer에만 Batch normalization을 사용하고 output layer에는 적용하지 않는다. \n",
    "activation function으로 모두step function를 사용한다. 첫번째 hidden node는 γ=1.0, β=-0.5 이며, \n",
    "두번째 hidden node는 γ=-0.5, β=-1.0 이다. \n",
    "![그림2](https://github.com/tenjumh/GraduateSchool/blob/master/DeepLearning/Class%20tasks/image/%EA%B7%B8%EB%A6%BC2.png?raw=True)\n",
    "![그림3](https://github.com/tenjumh/GraduateSchool/blob/master/DeepLearning/Class%20tasks/image/%EA%B7%B8%EB%A6%BC3.png?raw=True)"
   ]
  },
  {
   "cell_type": "markdown",
   "metadata": {},
   "source": [
    "![풀이3](https://github.com/tenjumh/GraduateSchool/blob/master/DeepLearning/Class%20tasks/image/%ED%92%80%EC%9D%B43.jpg?raw=True)\n",
    "![풀이4](https://github.com/tenjumh/GraduateSchool/blob/master/DeepLearning/Class%20tasks/image/%ED%92%80%EC%9D%B44.jpg?raw=True)"
   ]
  },
  {
   "attachments": {},
   "cell_type": "markdown",
   "metadata": {},
   "source": [
    "- Drop-out<br>\n",
    "아래 Neural network의 hidden layer에만 drop-out을 적용하여 학습을 완료 했다. Drop-out 확률이 0.5일 때,  \u000b",
    "테스트 데이터 (1, 1)에 대한 두 개의 hidden node와 output node의 값은 각각 무엇인가? Activation function은 Sigmoid이다. \n",
    "\n",
    "![그림4](https://github.com/tenjumh/GraduateSchool/blob/master/DeepLearning/Class%20tasks/image/%EA%B7%B8%EB%A6%BC4.jpg?raw=True)"
   ]
  },
  {
   "cell_type": "markdown",
   "metadata": {},
   "source": [
    "![풀이5](https://github.com/tenjumh/GraduateSchool/blob/master/DeepLearning/Class%20tasks/image/%ED%92%80%EC%9D%B45.jpg?raw=True)"
   ]
  },
  {
   "cell_type": "code",
   "execution_count": null,
   "metadata": {},
   "outputs": [],
   "source": []
  }
 ],
 "metadata": {
  "kernelspec": {
   "display_name": "Python 3",
   "language": "python",
   "name": "python3"
  },
  "language_info": {
   "codemirror_mode": {
    "name": "ipython",
    "version": 3
   },
   "file_extension": ".py",
   "mimetype": "text/x-python",
   "name": "python",
   "nbconvert_exporter": "python",
   "pygments_lexer": "ipython3",
   "version": "3.6.9"
  }
 },
 "nbformat": 4,
 "nbformat_minor": 2
}
