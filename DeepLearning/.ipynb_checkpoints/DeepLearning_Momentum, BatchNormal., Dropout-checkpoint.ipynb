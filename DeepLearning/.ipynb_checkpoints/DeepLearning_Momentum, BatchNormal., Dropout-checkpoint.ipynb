{
 "cells": [
  {
   "attachments": {},
   "cell_type": "markdown",
   "metadata": {},
   "source": [
    "# Momentum\n",
    "\n",
    "- 일반적인 Gradient Descent Methods : 𝒘^𝑡=𝒘^(𝑡−1)−𝜂𝒈^𝑡<br>  *𝒈^𝑡:  시간 t에서의 기울기<br>\n",
    "- Momentum Gradient Descent Methods :<br>\n",
    "  𝒎^𝑡=𝛾〖 𝒎〗^(𝑡−1)+𝜂𝒈^𝑡<br>\n",
    "  𝒘^𝑡=𝒘^(𝑡−1)−𝒎^𝑡<br>\n",
    "  결국, 𝒎^𝑡=𝜂𝒈^𝑡+𝛾 𝜂𝒈^(𝑡−1)+𝛾^2 𝜂𝒈^(𝑡−2)+…<br>\n",
    "<br>\n",
    "- Momentum이란 : Update parameters considering both the momentum and the gradient of the current position.\n",
    "![image.png](https://github.com/tenjumh/GraduateSchool/blob/master/DeepLearning/image/momentum%20update.png?raw=true)\n",
    "- Momentum의 단점은<br>\n",
    " 1) miss the position where to stop<br>\n",
    " 2) Simple addition of momentum may cause excessive update"
   ]
  },
  {
   "attachments": {},
   "cell_type": "markdown",
   "metadata": {},
   "source": [
    "[Tasks 1]<br>\n",
    "학습데이터로 (1.0,-0.5,1.0) 하나만 있다. Error function은 MSE이다. 초기의 모든 연결 가중치는 1이다. Activation function이 ReLU이고, Momentum을 이용하여 학습한다. Momentum rate과 learning rate이 각각 1이다. NN의 구조는 아래와 같다. 참고로 학습데이터가 n개 있을 때 MSE의 정의는 E=1/2∑(o_i-t_i )^2 이다. t_i, o_i는 i번째 학습데이터가 주어졌을 때 NN가 출력해야 할 목표값과 NN이 실제로 출력한 값을 의미한다.\n",
    "![image.png](https://github.com/tenjumh/GraduateSchool/blob/master/DeepLearning/image/momentum%20task.png?raw=true)\n",
    "1 epoch 후 w1,w3 값을 구하시오. 풀이를 제시하시오.<br>\n",
    "2 epoch 후 w1,w3 값을 구하시오. 풀이를 제시하시오.<br>\n"
   ]
  },
  {
   "cell_type": "markdown",
   "metadata": {},
   "source": [
    "[풀이]<br>\n",
    "\n",
    "[1 epoch]<br>\n",
    "<b>(foward)</b><br>\n",
    "net1 = x1*w1 + x2*w2 + b = 1*1 + (-0.5)*1 = 0.5<br>\n",
    "h1 = ReLu(net1) = 0.5<br>\n",
    "net2 = h1*w3 = 0.5<br>\n",
    "O = ReLu(net2) = 0.5<br>\n",
    "<b>(backward)</b><br>\n",
    "dE/dW3 = dE/dO*dO/dnet2*dnet2/dw3 = -(T-O)*(1 or 0)*h1 = -0.25<br>\n",
    "dE/dw1 = dE/dO*dO/dnet2*dnet2/dh1*dh1/dnet1*dnet1/dw1 = -(T-O)*(1 or 0)*w3*(1 or 0)*x1 = -0.5<br>\n",
    "dE/dw2 = dE/dO*dO/dnet2*dnet2/dh1*dh1/dnet1*dnet1/dw2 = -(T-O)*(1 or 0)*w3*(1 or 0)*x2 = 0.25<br>\n",
    "<br>\n",
    "M3 = rM(=0) + Lr*dE/dw3 = -0.25<br>\n",
    "w3 = W3 - M3 = 1.25<br>\n",
    "M1 = rM(=0) + Lr*dE/dw1 = -0.5<br>\n",
    "W1 = W1 - M1 = 1.5<br>\n",
    "M2 = rM(=0) + Lr*dE/dw2 = 0.25<br>\n",
    "w2 = W2 - M2 = 0.75<br>\n",
    "<br>\n",
    "[2 epoch]<br>\n",
    "<b>(foward)</b><br>\n",
    "net1 = x1*w1 + x2*w2 + b = 1*1.5 + (-0.5)*0.75 = 1.125<br>\n",
    "h1 = ReLu(net1) = 1.125<br>\n",
    "net2 = h1*w3 = 1.125*1.25 = 1.406<br>\n",
    "O = ReLu(net2) = 1.406<br>\n",
    "<b>(backward)</b><br>\n",
    "dE/dW3 = dE/dO*dO/dnet2*dnet2/dw3 = -(T-O)*(1 or 0)*h1 = 0.457<br>\n",
    "dE/dw1 = dE/dO*dO/dnet2*dnet2/dh1*dh1/dnet1*dnet1/dw1 = -(T-O)*(1 or 0)*w3*(1 or 0)*x1 = 0.508<br>\n",
    "dE/dw2 = dE/dO*dO/dnet2*dnet2/dh1*dh1/dnet1*dnet1/dw2 = -(T-O)*(1 or 0)*w3*(1 or 0)*x2 = -0.254<br>\n",
    "<br>\n",
    "M3 = rM(=0) + Lr*dE/dw3 = 0.207<br>\n",
    "w3 = W3 - M3 = 1.043<br>\n",
    "M1 = rM(=0) + Lr*dE/dw1 = 0.008<br>\n",
    "W1 = W1 - M1 = 1.492<br>\n",
    "M2 = rM(=0) + Lr*dE/dw2 = -0.004<br>\n",
    "w2 = W2 - M2 = 0.754<br>"
   ]
  },
  {
   "cell_type": "code",
   "execution_count": 13,
   "metadata": {},
   "outputs": [],
   "source": [
    "import numpy as np\n",
    "import matplotlib.pyplot as plt\n",
    "\n",
    "lr = 1 #Learning rate\n",
    "iteration = 2\n",
    "Mr = 1 #momentum rate\n",
    "\n",
    "def ReLu(x):\n",
    "    return np.maximum(0,x)\n",
    "\n",
    "X = np.array([[1.0, -0.5]])\n",
    "Y = np.array([[1.0]])\n",
    "\n",
    "w1, w2, w3 = 1, 1, 1\n",
    "w = np.array([[-0.089, 0.098], [0.028, -0.07]])\n",
    "b = 0\n",
    "\n",
    "for i in range(iteration):\n",
    "    net1 = np.dot(X, w) + b\n",
    "    h1 = ReLu(net1)\n",
    "    net2 = np.dot(h1, w) + b\n",
    "    h2 = sigmoid(net2)\n",
    "    o2 = h2\n",
    "\n",
    "    dE_db_V = (Y - o2) * o2 * (1 - o2)\n",
    "    sum_dE_db_V = -np.sum(dE_db_V, axis=0, keepdims=True)\n",
    "    dE_dV = -h1 * dE_db_V\n",
    "    sum_dE_dV = np.dot(-h1.T, dE_db_V)\n",
    "    dE_db_W = np.dot(dE_db_V, V.T) * h1 * (1 - h1)\n",
    "    sum_dE_db_W = -np.sum(dE_db_W, axis=0, keepdims=True)\n",
    "    dE_dW = -X * dE_db_W\n",
    "    sum_dE_dW = -np.dot(X.T, dE_db_W)\n",
    "\n",
    "    V = V - sum_dE_dV * lr\n",
    "    b_V = b_V - sum_dE_db_V * lr\n",
    "    W = W - sum_dE_dW * lr\n",
    "    b_W = b_W - sum_dE_db_W * lr\n"
   ]
  },
  {
   "cell_type": "code",
   "execution_count": 10,
   "metadata": {},
   "outputs": [
    {
     "data": {
      "text/plain": [
       "1e-11"
      ]
     },
     "execution_count": 10,
     "metadata": {},
     "output_type": "execute_result"
    }
   ],
   "source": []
  },
  {
   "cell_type": "code",
   "execution_count": null,
   "metadata": {},
   "outputs": [],
   "source": []
  }
 ],
 "metadata": {
  "kernelspec": {
   "display_name": "Python 3",
   "language": "python",
   "name": "python3"
  },
  "language_info": {
   "codemirror_mode": {
    "name": "ipython",
    "version": 3
   },
   "file_extension": ".py",
   "mimetype": "text/x-python",
   "name": "python",
   "nbconvert_exporter": "python",
   "pygments_lexer": "ipython3",
   "version": "3.6.9"
  }
 },
 "nbformat": 4,
 "nbformat_minor": 2
}
