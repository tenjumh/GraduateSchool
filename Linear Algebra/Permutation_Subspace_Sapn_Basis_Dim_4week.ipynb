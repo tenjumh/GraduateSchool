{
 "cells": [
  {
   "cell_type": "markdown",
   "metadata": {},
   "source": [
    "![4weeks_review%20%281%29.jpg](https://github.com/tenjumh/GraduateSchool/blob/master/Linear%20Algebra/lecture/4weeks_review%20(1).jpg?raw=True)"
   ]
  },
  {
   "cell_type": "code",
   "execution_count": null,
   "metadata": {},
   "outputs": [],
   "source": [
    "A = matrix([[3,-2,1], [5,6,2],[1,0,-3]])\n",
    "dA = A.det()   # 행렬식 구하기\n",
    "adjA = A.adjugate()    # 수반행렬 구하기\n",
    "print(\"dA =\")\n",
    "print(dA)\n",
    "print()\n",
    "print(\"adjA =\")\n",
    "print(adjA)\n",
    "print()\n",
    "print(\"inverse of A = (1/dA)*adjA =\")\n",
    "print((1/dA)*adjA)     # 수반행렬을 이용한 역행력 구하기"
   ]
  },
  {
   "cell_type": "markdown",
   "metadata": {},
   "source": [
    "```\n",
    "dA =\n",
    "-94\n",
    "\n",
    "adjA =\n",
    "[-18  -6 -10]\n",
    "[ 17 -10  -1]\n",
    "[ -6  -2  28]\n",
    "\n",
    "inverse of A = (1/dA)*adjA =\n",
    "[  9/47   3/47   5/47]\n",
    "[-17/94   5/47   1/94]\n",
    "[  3/47   1/47 -14/47]\n",
    "```"
   ]
  },
  {
   "cell_type": "markdown",
   "metadata": {},
   "source": [
    "![4weeks_review%20%281%29.jpg](https://github.com/tenjumh/GraduateSchool/blob/master/Linear%20Algebra/lecture/4weeks_review%20(2).jpg?raw=True)"
   ]
  },
  {
   "cell_type": "markdown",
   "metadata": {},
   "source": [
    "![4weeks_review%20%281%29.jpg](https://github.com/tenjumh/GraduateSchool/blob/master/Linear%20Algebra/lecture/4weeks_review%20(3).jpg?raw=True)"
   ]
  },
  {
   "cell_type": "code",
   "execution_count": null,
   "metadata": {},
   "outputs": [],
   "source": [
    "# {x1, x2, x3}은 일차독립임을 확인\n",
    "x1 = vector([1,2,3])\n",
    "x2 = vector([-1,0,2])\n",
    "x3 = vector([3,1,1])\n",
    "A = column_matrix([x1,x2,x3])\n",
    "print(\"A =\")\n",
    "print(A)\n",
    "print()\n",
    "print(\"det(A) =\", A.det())"
   ]
  },
  {
   "cell_type": "markdown",
   "metadata": {},
   "source": [
    "```\n",
    "A =\n",
    "[ 1 -1  3]\n",
    "[ 2  0  1]\n",
    "[ 3  2  1]\n",
    "\n",
    "det(A) = 9\n",
    "```\n",
    "\n",
    "det(A)가 0이 아님으로 일차독립이다.\n",
    "만약 0이 나왔다면 일차종속이다."
   ]
  },
  {
   "cell_type": "markdown",
   "metadata": {},
   "source": [
    "![4weeks_review%20%281%29.jpg](https://github.com/tenjumh/GraduateSchool/blob/master/Linear%20Algebra/lecture/4weeks_review%20(4).jpg?raw=True)"
   ]
  },
  {
   "cell_type": "code",
   "execution_count": null,
   "metadata": {},
   "outputs": [],
   "source": [
    "# 동차연립방정식의 해공간 구하기 (해가 아닌 해공간)\n",
    "A = matrix([[4,12,-7,6],[1,3,-2,1],[3,9,-2,11]])\n",
    "Null_space = A.right_kernel()\n",
    "print(\"Null space of A is\")\n",
    "print(Null_space)"
   ]
  },
  {
   "cell_type": "markdown",
   "metadata": {},
   "source": [
    "```\n",
    "Null space of A is\n",
    "Free module of degree 4 and rank 2 over Integer Ring\n",
    "Echelon basis matrix:\n",
    "[ 1  3  4 -2]\n",
    "[ 0  5  6 -3]\n",
    "```\n",
    "\n",
    "**x1 = 1*r + 0*s** <br>\n",
    "**x2 = 3*r + 5*s** <br>\n",
    "**x3 = 4*r + 6*s** <br>\n",
    "**x4 =(-2)*r +(-3)*s**"
   ]
  },
  {
   "cell_type": "markdown",
   "metadata": {},
   "source": [
    "![4weeks_review%20%281%29.jpg](https://github.com/tenjumh/GraduateSchool/blob/master/Linear%20Algebra/lecture/4weeks_review%20(5).jpg?raw=True)"
   ]
  },
  {
   "cell_type": "markdown",
   "metadata": {},
   "source": [
    "![4weeks_review%20%281%29.jpg](https://github.com/tenjumh/GraduateSchool/blob/master/Linear%20Algebra/lecture/4weeks_review%20(6).jpg?raw=True)"
   ]
  },
  {
   "cell_type": "markdown",
   "metadata": {},
   "source": [
    "![4weeks_review%20%281%29.jpg](https://github.com/tenjumh/GraduateSchool/blob/master/Linear%20Algebra/lecture/4weeks_review%20(7).jpg?raw=True)"
   ]
  },
  {
   "cell_type": "code",
   "execution_count": null,
   "metadata": {},
   "outputs": [],
   "source": [
    "# 행렬 A의 rank와 nullity를 구하라\n",
    "A = matrix([[1,-2,1,1,2],[-1,3,0,2,-1],[0,1,1,3,4],[1,2,5,13,5]])\n",
    "print(\"Rank(A) =\", A.rank())\n",
    "print(\"Nullity(A) =\", A.right_nullity())"
   ]
  },
  {
   "cell_type": "markdown",
   "metadata": {},
   "source": [
    "```\n",
    "Rank(A) = 3\n",
    "Nullity(A) = 2\n",
    "```"
   ]
  },
  {
   "cell_type": "markdown",
   "metadata": {},
   "source": [
    "![4weeks_review%20%281%29.jpg](https://github.com/tenjumh/GraduateSchool/blob/master/Linear%20Algebra/lecture/4weeks_review%20(1).jpg?raw=True)"
   ]
  }
 ],
 "metadata": {
  "kernelspec": {
   "display_name": "Python 3",
   "language": "python",
   "name": "python3"
  },
  "language_info": {
   "codemirror_mode": {
    "name": "ipython",
    "version": 3
   },
   "file_extension": ".py",
   "mimetype": "text/x-python",
   "name": "python",
   "nbconvert_exporter": "python",
   "pygments_lexer": "ipython3",
   "version": "3.6.9"
  }
 },
 "nbformat": 4,
 "nbformat_minor": 2
}
