{
 "cells": [
  {
   "cell_type": "markdown",
   "metadata": {},
   "source": [
    "![수업1](https://github.com/tenjumh/GraduateSchool/blob/master/Linear%20Algebra/lecture/2%EC%A3%BC%20%EB%B3%B5%EC%8A%B5%20(1).jpg?raw=True)"
   ]
  },
  {
   "cell_type": "code",
   "execution_count": null,
   "metadata": {},
   "outputs": [],
   "source": [
    "# 생성\n",
    "A = matrix(random_matrix(ZZ, 10, 10))\n",
    "b = vector(random_vector(10))\n",
    "\n",
    "# 첨가행렬 만들기\n",
    "aug = A.augment(b, subdivide=True)\n",
    "print(\"[A: b] =\")\n",
    "print(aug)\n",
    "print()\n",
    "\n",
    "# RREF 구하기\n",
    "rref = aug.rref()\n",
    "print(\"RREF([A: b]) =\")\n",
    "print(rref)\n",
    "print()\n",
    "\n",
    "# x 해 구하기\n",
    "x = A.solve_right(b)\n",
    "print(\"x =\", x)"
   ]
  },
  {
   "cell_type": "markdown",
   "metadata": {},
   "source": [
    "```\n",
    "[A: b] =\n",
    "[  -2    5    0    0   -1   -1    0    0   -3   -1|   0]\n",
    "[   4    1   -1    1   -4    2   17    2    1   -8|   1]\n",
    "[  -1  -18    1   17   -4   -1    3    0  -29    4|   0]\n",
    "[   0    5    2   14   -2   -1    1    1    3    0|  -1]\n",
    "[   1    2   -6   -1   -1    0   -4    1  -47    0|  -1]\n",
    "[  -1   -1    2    1   -1   -2    1    0   -1    1|  -1]\n",
    "[ -22 -156    2    1   -7   -1   13    0    2   -4|  -1]\n",
    "[   0   -1    0    0    0    0   -2    1   10    9|  -1]\n",
    "[   0    4    1   55    1   -1    2    1   -1    0|   1]\n",
    "[  -1    6  -18    1  -90    0   -2    6   -1   -1|  -3]\n",
    "\n",
    "RREF([A: b]) =\n",
    "[                       1                        0                        0                        0                        0                        0                        0                        0                        0                        0|-10570292327/57821630093]\n",
    "[                       0                        1                        0                        0                        0                        0                        0                        0                        0                        0|  2315892954/57821630093]\n",
    "[                       0                        0                        1                        0                        0                        0                        0                        0                        0                        0|-11258889057/57821630093]\n",
    "[                       0                        0                        0                        1                        0                        0                        0                        0                        0                        0|  2381637493/57821630093]\n",
    "[                       0                        0                        0                        0                        1                        0                        0                        0                        0                        0|    92223265/57821630093]\n",
    "[                       0                        0                        0                        0                        0                        1                        0                        0                        0                        0| 29083982938/57821630093]\n",
    "[                       0                        0                        0                        0                        0                        0                        1                        0                        0                        0| 10040599915/57821630093]\n",
    "[                       0                        0                        0                        0                        0                        0                        0                        1                        0                        0|-61946519228/57821630093]\n",
    "[                       0                        0                        0                        0                        0                        0                        0                        0                        1                        0|   316035710/57821630093]\n",
    "[                       0                        0                        0                        0                        0                        0                        0                        0                        0                        1|  2595736091/57821630093]\n",
    "\n",
    "x = (-10570292327/57821630093, 2315892954/57821630093, -11258889057/57821630093, 2381637493/57821630093, 92223265/57821630093, 29083982938/57821630093, 10040599915/57821630093, -61946519228/57821630093, 316035710/57821630093, 2595736091/57821630093)\n",
    "```"
   ]
  },
  {
   "cell_type": "markdown",
   "metadata": {},
   "source": [
    "![수업1](https://github.com/tenjumh/GraduateSchool/blob/master/Linear%20Algebra/lecture/2%EC%A3%BC%20%EB%B3%B5%EC%8A%B5%20(2).jpg?raw=True)"
   ]
  },
  {
   "cell_type": "markdown",
   "metadata": {},
   "source": [
    "![수업1](https://github.com/tenjumh/GraduateSchool/blob/master/Linear%20Algebra/lecture/2%EC%A3%BC%20%EB%B3%B5%EC%8A%B5%20(3).jpg?raw=True)"
   ]
  }
 ],
 "metadata": {
  "kernelspec": {
   "display_name": "Python 3",
   "language": "python",
   "name": "python3"
  },
  "language_info": {
   "codemirror_mode": {
    "name": "ipython",
    "version": 3
   },
   "file_extension": ".py",
   "mimetype": "text/x-python",
   "name": "python",
   "nbconvert_exporter": "python",
   "pygments_lexer": "ipython3",
   "version": "3.7.3"
  }
 },
 "nbformat": 4,
 "nbformat_minor": 2
}
