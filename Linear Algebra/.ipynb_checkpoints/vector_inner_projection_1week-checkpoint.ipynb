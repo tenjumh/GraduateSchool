{
 "cells": [
  {
   "cell_type": "markdown",
   "metadata": {},
   "source": [
    "![수업1](https://github.com/tenjumh/GraduateSchool/blob/master/Linear%20Algebra/lecture/1%EC%A3%BC%20%EB%B3%B5%EC%8A%B5%20(1).jpg?raw=True)"
   ]
  },
  {
   "cell_type": "code",
   "execution_count": null,
   "metadata": {},
   "outputs": [],
   "source": [
    "# define vector\n",
    "x = vector(random_vector(10))\n",
    "y = vector(random_vector(10))\n",
    "# x_y inner\n",
    "yx = y.inner_product(x)\n",
    "\n",
    "# define norm\n",
    "x_norm = x.norm()\n",
    "y_norm = y.norm()\n",
    "\n",
    "# define theta\n",
    "values = yx / (x_norm*y_norm)\n",
    "theta = arccos(values)\n",
    "\n",
    "# print\n",
    "print('X :', x)\n",
    "print('Y :', y)\n",
    "print('x_y inner :', yx)\n",
    "print('X Norm :', x_norm)\n",
    "print('Y Norm :', y_norm)\n",
    "print('Theta =', theta)\n",
    "\n",
    "# 값이 맞는지 검증\n",
    "yx_ = x_norm*y_norm*cos(theta)\n",
    "print('yx_ inner:', yx_)"
   ]
  },
  {
   "cell_type": "markdown",
   "metadata": {},
   "source": [
    "```\n",
    "X : (-638, 1, -29, 0, -3, 0, 1, -1, 0, -1)\n",
    "Y : (1, -12, 1, 1, -2, -1, -9, 1, -4, 0)\n",
    "x_y inner : -683\n",
    "X Norm : 3*sqrt(45322)\n",
    "Y Norm : 5*sqrt(10)\n",
    "Theta = arccos(-683/6798300*sqrt(45322)*sqrt(10))\n",
    "yx_ inner: -683\n",
    "```"
   ]
  },
  {
   "cell_type": "markdown",
   "metadata": {},
   "source": [
    "![수업1](https://github.com/tenjumh/GraduateSchool/blob/master/Linear%20Algebra/lecture/1%EC%A3%BC%20%EB%B3%B5%EC%8A%B5%20(2).jpg?raw=True)"
   ]
  },
  {
   "cell_type": "markdown",
   "metadata": {},
   "source": [
    "![수업1](https://github.com/tenjumh/GraduateSchool/blob/master/Linear%20Algebra/lecture/1%EC%A3%BC%20%EB%B3%B5%EC%8A%B5%20(3).jpg?raw=True)"
   ]
  },
  {
   "cell_type": "code",
   "execution_count": null,
   "metadata": {},
   "outputs": [],
   "source": [
    "# define vector\n",
    "x = vector(random_vector(10))\n",
    "y = vector(random_vector(10))\n",
    "\n",
    "# define inner_product\n",
    "yx = y.inner_product(x)\n",
    "xx = x.inner_product(x)\n",
    "\n",
    "# define Projection\n",
    "p = yx/xx*x\n",
    "w = y - p\n",
    "\n",
    "# print\n",
    "print('x =', x)\n",
    "print('y =', y)\n",
    "print()\n",
    "print('p =', p)\n",
    "print('w =', w)"
   ]
  },
  {
   "cell_type": "markdown",
   "metadata": {},
   "source": [
    "```\n",
    "x = (0, -11, -1, 1, 2, 2, -1, 13, -43, 1)\n",
    "y = (-1, 0, 0, 1, 3, 0, 0, 2, -1, 1)\n",
    "\n",
    "p = (0, -847/2151, -77/2151, 77/2151, 154/2151, 154/2151, -77/2151, 1001/2151, -3311/2151, 77/2151)\n",
    "w = (-1, 847/2151, 77/2151, 2074/2151, 6299/2151, -154/2151, 77/2151, 3301/2151, 1160/2151, 2074/2151)\n",
    "```"
   ]
  },
  {
   "cell_type": "markdown",
   "metadata": {},
   "source": [
    "![수업1](https://github.com/tenjumh/GraduateSchool/blob/master/Linear%20Algebra/lecture/1%EC%A3%BC%20%EB%B3%B5%EC%8A%B5%20(4).jpg?raw=True)"
   ]
  },
  {
   "cell_type": "code",
   "execution_count": null,
   "metadata": {},
   "outputs": [],
   "source": []
  }
 ],
 "metadata": {
  "kernelspec": {
   "display_name": "Python 3",
   "language": "python",
   "name": "python3"
  },
  "language_info": {
   "codemirror_mode": {
    "name": "ipython",
    "version": 3
   },
   "file_extension": ".py",
   "mimetype": "text/x-python",
   "name": "python",
   "nbconvert_exporter": "python",
   "pygments_lexer": "ipython3",
   "version": "3.7.3"
  }
 },
 "nbformat": 4,
 "nbformat_minor": 4
}
